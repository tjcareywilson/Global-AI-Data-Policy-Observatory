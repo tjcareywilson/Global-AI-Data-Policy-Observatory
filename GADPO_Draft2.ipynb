{
 "cells": [
  {
   "cell_type": "code",
   "execution_count": 3,
   "id": "55c095a9-0a92-4314-877c-871df6d8b09a",
   "metadata": {
    "jupyter": {
     "source_hidden": true
    },
    "tags": []
   },
   "outputs": [],
   "source": [
    "from IPython.core.display import display, HTML\n",
    "from IPython.display import Image, display\n",
    "from IPython.display import IFrame\n",
    "import os"
   ]
  },
  {
   "cell_type": "markdown",
   "id": "7d8bbcb9-7be9-4224-a88a-479162e0092e",
   "metadata": {},
   "source": [
    "# Global AI Data Policy Observatory\n",
    "\n",
    "## Purpose\n",
    "Data plays a critical role in AI development, yet it has often been overlooked. There is now increasing recognition of the importance of data quality and engineering in building effective AI systems, a perspective termed ‘data-centric AI’ by leading practitioners like Ng (2021).\n",
    "\n",
    "Governments influence AI development through laws, regulations, and the framing of public discourse. Therefore, it is essential for those involved in AI governance and policy to understand how national policies worldwide address data in AI, as this shapes the technology’s impact.\n",
    "\n",
    "Through this observatory, we want to support future capacity building efforts by policymakers currently, or wishing to, further data-centric approaches to AI governance. To do this, we explore to what extent, ‘data’ and data-related topics are mentioned in national AI policies across the world. We also explore potentially why these trends exist. This will spotlight areas that may need improvement and some indications of how progress can be made. \n",
    "\n",
    "To explore these questions, we scanned **512** policy documents from the ‘OECD.ai Policy Observatory’, spanning **64** countries and **2** supranational organisations. In terms of policy type, the largest amount (**21.7%**) were classified as “National strategies, agendas and plans”, with the next four largest categories being “Emerging AI-related regulation” (**16.0%**), “Networking and collaborative platforms” (**9.2%**) “Regulatory oversight and ethical advice bodies” (**7.6%**) and “Project grants for public research” (**5.9%**).\n",
    "\n",
    "Based on our findings, we recommend the following:\n",
    "1. **Several crucial and popular topics need greater attention from policymakers, particularly ‘data licensing’ and ‘responsible data’.**\n",
    "\n",
    "2. **There is an urgent need to re-prioritise declining topics like ‘data privacy’, ‘data security’, and ‘responsible data’ to ensure that increasing calls for access to AI data are executed safely, transparently and ethically.**\n",
    "\n",
    "3. **To effectively integrate data-centric AI principles, policymakers should consider strengthening digital infrastructure in key areas, fostering open data initiatives and online services, but also e-participation, and R&D investments.**\n",
    "\n",
    "4. **Greater efforts should be made to engage governments who are not currently prioritising open and shared data in general.**"
   ]
  },
  {
   "cell_type": "markdown",
   "id": "b574c614-28d1-4e6c-8372-1605af718196",
   "metadata": {},
   "source": [
    "## Data-centric AI Policy Discourse"
   ]
  },
  {
   "cell_type": "markdown",
   "id": "7f059b3e-8960-41ee-b90a-85cf21400032",
   "metadata": {},
   "source": [
    "Starting wide, we see a minority of countries showing notable interest in “data” as an Artificial Intelligence (AI) policy topic. These countries often belong to certain regions. As shown by the standard deviation scores for different regions, countries in Asia-Pacific, MENA and Europe exhibit higher standard deviation scores (**33.3**, **27.4** and **19.2**, respectively), pointing to fewer countries placing greater importance on 'data' in these regions. Whereas, the standard deviation scores in N. America, S. America and Sub-Saharan Africa are lower (**11.2**, **7.0** and **2.2**, respectively) demonstrating greater regional consistency."
   ]
  },
  {
   "cell_type": "markdown",
   "id": "a1e2af1b-0f38-4ea9-95bc-38112038e462",
   "metadata": {},
   "source": [
    "### Global Levels of Interest in Data"
   ]
  },
  {
   "cell_type": "code",
   "execution_count": 5,
   "id": "0877c890-37b8-478f-a019-597b91f1362a",
   "metadata": {
    "jupyter": {
     "source_hidden": true
    },
    "tags": []
   },
   "outputs": [
    {
     "data": {
      "text/html": [
       "<html>\n",
       "<head><meta charset=\"utf-8\" /></head>\n",
       "<body>\n",
       "    <div>                        <script type=\"text/javascript\">window.PlotlyConfig = {MathJaxConfig: 'local'};</script>\n",
       "        <script charset=\"utf-8\" src=\"https://cdn.plot.ly/plotly-2.34.0.min.js\"></script>                <div id=\"6cb8897d-063f-43ad-a6f1-865544e481f3\" class=\"plotly-graph-div\" style=\"height:100%; width:100%;\"></div>            <script type=\"text/javascript\">                                    window.PLOTLYENV=window.PLOTLYENV || {};                                    if (document.getElementById(\"6cb8897d-063f-43ad-a6f1-865544e481f3\")) {                    Plotly.newPlot(                        \"6cb8897d-063f-43ad-a6f1-865544e481f3\",                        [{\"coloraxis\":\"coloraxis\",\"geo\":\"geo\",\"hovertemplate\":\"\\u003cb\\u003e%{hovertext}\\u003c\\u002fb\\u003e\\u003cbr\\u003e\\u003cbr\\u003eISO Code=%{location}\\u003cbr\\u003eNormalized TF-IDF=%{z}\\u003cextra\\u003e\\u003c\\u002fextra\\u003e\",\"hovertext\":[\"Australia\",\"Austria\",\"Belgium\",\"Brazil\",\"Bulgaria\",\"Canada\",\"Chile\",\"China\",\"Colombia\",\"Costa Rica\",\"Cyprus\",\"Czechia\",\"Denmark\",\"Egypt\",\"Estonia\",\"European Union\",\"Finland\",\"France\",\"Germany\",\"Greece\",\"Hungary\",\"Iceland\",\"India\",\"Indonesia\",\"Ireland\",\"Israel\",\"Italy\",\"Japan\",\"Kazakhstan\",\"Korea\",\"Latvia\",\"Lithuania\",\"Luxembourg\",\"Malta\",\"Mauritius\",\"Mexico\",\"Netherlands\",\"New Zealand\",\"Nigeria\",\"Norway\",\"Peru\",\"Poland\",\"Portugal\",\"Romania\",\"Russian Federation\",\"Rwanda\",\"Saudi Arabia\",\"Serbia\",\"Singapore\",\"Slovak Republic\",\"Slovenia\",\"South Africa\",\"Spain\",\"Sweden\",\"Switzerland\",\"Thailand\",\"Tunisia\",\"T\\u00fcrkiye\",\"Uganda\",\"Ukraine\",\"United Arab Emirates\",\"United Kingdom\",\"United States\",\"Uruguay\",\"Uzbekistan\",\"Viet Nam\"],\"locations\":[\"AUS\",\"AUT\",\"BEL\",\"BRA\",\"BGR\",\"CAN\",\"CHL\",\"CHN\",\"COL\",\"CRI\",\"CYP\",\"CZE\",\"DNK\",\"EGY\",\"EST\",\"EU\",\"FIN\",\"FRA\",\"DEU\",\"GRC\",\"HUN\",\"ISL\",\"IND\",\"IDN\",\"IRL\",\"ISR\",\"ITA\",\"JPN\",\"KAZ\",\"KOR\",\"LVA\",\"LTU\",\"LUX\",\"MLT\",\"MUS\",\"MEX\",\"NLD\",\"NZL\",\"NGA\",\"NOR\",\"PER\",\"POL\",\"PRT\",\"ROU\",\"RUS\",\"RWA\",\"SAU\",\"SRB\",\"SGP\",\"SVK\",\"SVN\",\"ZAF\",\"ESP\",\"SWE\",\"CHE\",\"THA\",\"TUN\",\"TUR\",\"UGA\",\"UKR\",\"ARE\",\"GBR\",\"USA\",\"URY\",\"UZB\",\"VNM\"],\"name\":\"\",\"z\":[14.78878814947351,11.0605551125333,31.67017731997861,10.78386278579058,7.652876265158842,38.08139622246556,28.9908940310463,50.80216334395674,22.25589706392782,2.048599351692882,3.006159522114533,8.74995924650485,15.34375593441451,10.00006750338609,22.17100607577902,53.99852526408424,8.979606934879081,32.04550050014819,25.83136047329388,7.328197435661233,5.265474823541961,9.074228307820723,69.18177418221805,4.283212388606374,8.560880881981806,23.76886038458601,9.003529712110144,38.41858143670073,11.2234274410027,17.15851679462363,0.4480662839916077,4.298789895720027,7.296378380125159,35.64716203353898,1.927025127467241,50.32745149053398,10.75085965717412,111.8240103130479,1.832645744634649,57.05234572553177,16.90145130714209,4.314921413207865,76.22372020849014,0.169779413306061,4.462107947787591,1.994475301400345,12.96799181260936,17.39304832855426,39.18380803001944,7.652971329956766,4.975843193972469,6.5601778583355,21.90149739562547,40.10627892438985,7.832445425330322,2.400872105661102,18.10830228329595,83.23973087517,0.8587055436710471,1.081835121251951,21.52674730118395,57.46844427213577,50.21082552337126,31.92699374786844,0.8132353015006648,10.63507851381555],\"type\":\"choropleth\"}],                        {\"template\":{\"data\":{\"histogram2dcontour\":[{\"type\":\"histogram2dcontour\",\"colorbar\":{\"outlinewidth\":0,\"ticks\":\"\"},\"colorscale\":[[0.0,\"#0d0887\"],[0.1111111111111111,\"#46039f\"],[0.2222222222222222,\"#7201a8\"],[0.3333333333333333,\"#9c179e\"],[0.4444444444444444,\"#bd3786\"],[0.5555555555555556,\"#d8576b\"],[0.6666666666666666,\"#ed7953\"],[0.7777777777777778,\"#fb9f3a\"],[0.8888888888888888,\"#fdca26\"],[1.0,\"#f0f921\"]]}],\"choropleth\":[{\"type\":\"choropleth\",\"colorbar\":{\"outlinewidth\":0,\"ticks\":\"\"}}],\"histogram2d\":[{\"type\":\"histogram2d\",\"colorbar\":{\"outlinewidth\":0,\"ticks\":\"\"},\"colorscale\":[[0.0,\"#0d0887\"],[0.1111111111111111,\"#46039f\"],[0.2222222222222222,\"#7201a8\"],[0.3333333333333333,\"#9c179e\"],[0.4444444444444444,\"#bd3786\"],[0.5555555555555556,\"#d8576b\"],[0.6666666666666666,\"#ed7953\"],[0.7777777777777778,\"#fb9f3a\"],[0.8888888888888888,\"#fdca26\"],[1.0,\"#f0f921\"]]}],\"heatmap\":[{\"type\":\"heatmap\",\"colorbar\":{\"outlinewidth\":0,\"ticks\":\"\"},\"colorscale\":[[0.0,\"#0d0887\"],[0.1111111111111111,\"#46039f\"],[0.2222222222222222,\"#7201a8\"],[0.3333333333333333,\"#9c179e\"],[0.4444444444444444,\"#bd3786\"],[0.5555555555555556,\"#d8576b\"],[0.6666666666666666,\"#ed7953\"],[0.7777777777777778,\"#fb9f3a\"],[0.8888888888888888,\"#fdca26\"],[1.0,\"#f0f921\"]]}],\"heatmapgl\":[{\"type\":\"heatmapgl\",\"colorbar\":{\"outlinewidth\":0,\"ticks\":\"\"},\"colorscale\":[[0.0,\"#0d0887\"],[0.1111111111111111,\"#46039f\"],[0.2222222222222222,\"#7201a8\"],[0.3333333333333333,\"#9c179e\"],[0.4444444444444444,\"#bd3786\"],[0.5555555555555556,\"#d8576b\"],[0.6666666666666666,\"#ed7953\"],[0.7777777777777778,\"#fb9f3a\"],[0.8888888888888888,\"#fdca26\"],[1.0,\"#f0f921\"]]}],\"contourcarpet\":[{\"type\":\"contourcarpet\",\"colorbar\":{\"outlinewidth\":0,\"ticks\":\"\"}}],\"contour\":[{\"type\":\"contour\",\"colorbar\":{\"outlinewidth\":0,\"ticks\":\"\"},\"colorscale\":[[0.0,\"#0d0887\"],[0.1111111111111111,\"#46039f\"],[0.2222222222222222,\"#7201a8\"],[0.3333333333333333,\"#9c179e\"],[0.4444444444444444,\"#bd3786\"],[0.5555555555555556,\"#d8576b\"],[0.6666666666666666,\"#ed7953\"],[0.7777777777777778,\"#fb9f3a\"],[0.8888888888888888,\"#fdca26\"],[1.0,\"#f0f921\"]]}],\"surface\":[{\"type\":\"surface\",\"colorbar\":{\"outlinewidth\":0,\"ticks\":\"\"},\"colorscale\":[[0.0,\"#0d0887\"],[0.1111111111111111,\"#46039f\"],[0.2222222222222222,\"#7201a8\"],[0.3333333333333333,\"#9c179e\"],[0.4444444444444444,\"#bd3786\"],[0.5555555555555556,\"#d8576b\"],[0.6666666666666666,\"#ed7953\"],[0.7777777777777778,\"#fb9f3a\"],[0.8888888888888888,\"#fdca26\"],[1.0,\"#f0f921\"]]}],\"mesh3d\":[{\"type\":\"mesh3d\",\"colorbar\":{\"outlinewidth\":0,\"ticks\":\"\"}}],\"scatter\":[{\"fillpattern\":{\"fillmode\":\"overlay\",\"size\":10,\"solidity\":0.2},\"type\":\"scatter\"}],\"parcoords\":[{\"type\":\"parcoords\",\"line\":{\"colorbar\":{\"outlinewidth\":0,\"ticks\":\"\"}}}],\"scatterpolargl\":[{\"type\":\"scatterpolargl\",\"marker\":{\"colorbar\":{\"outlinewidth\":0,\"ticks\":\"\"}}}],\"bar\":[{\"error_x\":{\"color\":\"#2a3f5f\"},\"error_y\":{\"color\":\"#2a3f5f\"},\"marker\":{\"line\":{\"color\":\"#E5ECF6\",\"width\":0.5},\"pattern\":{\"fillmode\":\"overlay\",\"size\":10,\"solidity\":0.2}},\"type\":\"bar\"}],\"scattergeo\":[{\"type\":\"scattergeo\",\"marker\":{\"colorbar\":{\"outlinewidth\":0,\"ticks\":\"\"}}}],\"scatterpolar\":[{\"type\":\"scatterpolar\",\"marker\":{\"colorbar\":{\"outlinewidth\":0,\"ticks\":\"\"}}}],\"histogram\":[{\"marker\":{\"pattern\":{\"fillmode\":\"overlay\",\"size\":10,\"solidity\":0.2}},\"type\":\"histogram\"}],\"scattergl\":[{\"type\":\"scattergl\",\"marker\":{\"colorbar\":{\"outlinewidth\":0,\"ticks\":\"\"}}}],\"scatter3d\":[{\"type\":\"scatter3d\",\"line\":{\"colorbar\":{\"outlinewidth\":0,\"ticks\":\"\"}},\"marker\":{\"colorbar\":{\"outlinewidth\":0,\"ticks\":\"\"}}}],\"scattermapbox\":[{\"type\":\"scattermapbox\",\"marker\":{\"colorbar\":{\"outlinewidth\":0,\"ticks\":\"\"}}}],\"scatterternary\":[{\"type\":\"scatterternary\",\"marker\":{\"colorbar\":{\"outlinewidth\":0,\"ticks\":\"\"}}}],\"scattercarpet\":[{\"type\":\"scattercarpet\",\"marker\":{\"colorbar\":{\"outlinewidth\":0,\"ticks\":\"\"}}}],\"carpet\":[{\"aaxis\":{\"endlinecolor\":\"#2a3f5f\",\"gridcolor\":\"white\",\"linecolor\":\"white\",\"minorgridcolor\":\"white\",\"startlinecolor\":\"#2a3f5f\"},\"baxis\":{\"endlinecolor\":\"#2a3f5f\",\"gridcolor\":\"white\",\"linecolor\":\"white\",\"minorgridcolor\":\"white\",\"startlinecolor\":\"#2a3f5f\"},\"type\":\"carpet\"}],\"table\":[{\"cells\":{\"fill\":{\"color\":\"#EBF0F8\"},\"line\":{\"color\":\"white\"}},\"header\":{\"fill\":{\"color\":\"#C8D4E3\"},\"line\":{\"color\":\"white\"}},\"type\":\"table\"}],\"barpolar\":[{\"marker\":{\"line\":{\"color\":\"#E5ECF6\",\"width\":0.5},\"pattern\":{\"fillmode\":\"overlay\",\"size\":10,\"solidity\":0.2}},\"type\":\"barpolar\"}],\"pie\":[{\"automargin\":true,\"type\":\"pie\"}]},\"layout\":{\"autotypenumbers\":\"strict\",\"colorway\":[\"#636efa\",\"#EF553B\",\"#00cc96\",\"#ab63fa\",\"#FFA15A\",\"#19d3f3\",\"#FF6692\",\"#B6E880\",\"#FF97FF\",\"#FECB52\"],\"font\":{\"color\":\"#2a3f5f\"},\"hovermode\":\"closest\",\"hoverlabel\":{\"align\":\"left\"},\"paper_bgcolor\":\"white\",\"plot_bgcolor\":\"#E5ECF6\",\"polar\":{\"bgcolor\":\"#E5ECF6\",\"angularaxis\":{\"gridcolor\":\"white\",\"linecolor\":\"white\",\"ticks\":\"\"},\"radialaxis\":{\"gridcolor\":\"white\",\"linecolor\":\"white\",\"ticks\":\"\"}},\"ternary\":{\"bgcolor\":\"#E5ECF6\",\"aaxis\":{\"gridcolor\":\"white\",\"linecolor\":\"white\",\"ticks\":\"\"},\"baxis\":{\"gridcolor\":\"white\",\"linecolor\":\"white\",\"ticks\":\"\"},\"caxis\":{\"gridcolor\":\"white\",\"linecolor\":\"white\",\"ticks\":\"\"}},\"coloraxis\":{\"colorbar\":{\"outlinewidth\":0,\"ticks\":\"\"}},\"colorscale\":{\"sequential\":[[0.0,\"#0d0887\"],[0.1111111111111111,\"#46039f\"],[0.2222222222222222,\"#7201a8\"],[0.3333333333333333,\"#9c179e\"],[0.4444444444444444,\"#bd3786\"],[0.5555555555555556,\"#d8576b\"],[0.6666666666666666,\"#ed7953\"],[0.7777777777777778,\"#fb9f3a\"],[0.8888888888888888,\"#fdca26\"],[1.0,\"#f0f921\"]],\"sequentialminus\":[[0.0,\"#0d0887\"],[0.1111111111111111,\"#46039f\"],[0.2222222222222222,\"#7201a8\"],[0.3333333333333333,\"#9c179e\"],[0.4444444444444444,\"#bd3786\"],[0.5555555555555556,\"#d8576b\"],[0.6666666666666666,\"#ed7953\"],[0.7777777777777778,\"#fb9f3a\"],[0.8888888888888888,\"#fdca26\"],[1.0,\"#f0f921\"]],\"diverging\":[[0,\"#8e0152\"],[0.1,\"#c51b7d\"],[0.2,\"#de77ae\"],[0.3,\"#f1b6da\"],[0.4,\"#fde0ef\"],[0.5,\"#f7f7f7\"],[0.6,\"#e6f5d0\"],[0.7,\"#b8e186\"],[0.8,\"#7fbc41\"],[0.9,\"#4d9221\"],[1,\"#276419\"]]},\"xaxis\":{\"gridcolor\":\"white\",\"linecolor\":\"white\",\"ticks\":\"\",\"title\":{\"standoff\":15},\"zerolinecolor\":\"white\",\"automargin\":true,\"zerolinewidth\":2},\"yaxis\":{\"gridcolor\":\"white\",\"linecolor\":\"white\",\"ticks\":\"\",\"title\":{\"standoff\":15},\"zerolinecolor\":\"white\",\"automargin\":true,\"zerolinewidth\":2},\"scene\":{\"xaxis\":{\"backgroundcolor\":\"#E5ECF6\",\"gridcolor\":\"white\",\"linecolor\":\"white\",\"showbackground\":true,\"ticks\":\"\",\"zerolinecolor\":\"white\",\"gridwidth\":2},\"yaxis\":{\"backgroundcolor\":\"#E5ECF6\",\"gridcolor\":\"white\",\"linecolor\":\"white\",\"showbackground\":true,\"ticks\":\"\",\"zerolinecolor\":\"white\",\"gridwidth\":2},\"zaxis\":{\"backgroundcolor\":\"#E5ECF6\",\"gridcolor\":\"white\",\"linecolor\":\"white\",\"showbackground\":true,\"ticks\":\"\",\"zerolinecolor\":\"white\",\"gridwidth\":2}},\"shapedefaults\":{\"line\":{\"color\":\"#2a3f5f\"}},\"annotationdefaults\":{\"arrowcolor\":\"#2a3f5f\",\"arrowhead\":0,\"arrowwidth\":1},\"geo\":{\"bgcolor\":\"white\",\"landcolor\":\"#E5ECF6\",\"subunitcolor\":\"white\",\"showland\":true,\"showlakes\":true,\"lakecolor\":\"white\"},\"title\":{\"x\":0.05},\"mapbox\":{\"style\":\"light\"}}},\"geo\":{\"domain\":{\"x\":[0.0,1.0],\"y\":[0.0,1.0]},\"center\":{},\"projection\":{\"type\":\"natural earth\"},\"showframe\":false,\"showcountries\":true,\"showland\":true,\"landcolor\":\"#f0f0f0\"},\"coloraxis\":{\"colorbar\":{\"title\":{\"text\":\"Normalized TF-IDF\"}},\"colorscale\":[[0.0,\"rgb(255,245,240)\"],[0.125,\"rgb(254,224,210)\"],[0.25,\"rgb(252,187,161)\"],[0.375,\"rgb(252,146,114)\"],[0.5,\"rgb(251,106,74)\"],[0.625,\"rgb(239,59,44)\"],[0.75,\"rgb(203,24,29)\"],[0.875,\"rgb(165,15,21)\"],[1.0,\"rgb(103,0,13)\"]]},\"legend\":{\"tracegroupgap\":0},\"margin\":{\"t\":50,\"l\":50,\"r\":50,\"b\":50},\"font\":{\"family\":\"Arial\",\"size\":12,\"color\":\"black\"},\"paper_bgcolor\":\"white\",\"plot_bgcolor\":\"white\"},                        {\"responsive\": true}                    )                };                            </script>        </div>\n",
       "</body>\n",
       "</html>"
      ],
      "text/plain": [
       "<IPython.core.display.HTML object>"
      ]
     },
     "metadata": {},
     "output_type": "display_data"
    }
   ],
   "source": [
    "display(HTML(filename=os.path.join('static', 'globaldatapolicymap.html')))"
   ]
  },
  {
   "cell_type": "code",
   "execution_count": 6,
   "id": "d3461d9f-38e0-4ea4-819d-00af923b3ec0",
   "metadata": {
    "jupyter": {
     "source_hidden": true
    },
    "tags": []
   },
   "outputs": [
    {
     "data": {
      "text/html": [
       "<html>\n",
       "<head><meta charset=\"utf-8\" /></head>\n",
       "<body>\n",
       "    <div>                        <script type=\"text/javascript\">window.PlotlyConfig = {MathJaxConfig: 'local'};</script>\n",
       "        <script charset=\"utf-8\" src=\"https://cdn.plot.ly/plotly-2.34.0.min.js\"></script>                <div id=\"42d43b44-1024-4b52-849d-47439be068fa\" class=\"plotly-graph-div\" style=\"height:100px; width:750px;\"></div>            <script type=\"text/javascript\">                                    window.PLOTLYENV=window.PLOTLYENV || {};                                    if (document.getElementById(\"42d43b44-1024-4b52-849d-47439be068fa\")) {                    Plotly.newPlot(                        \"42d43b44-1024-4b52-849d-47439be068fa\",                        [{\"marker\":{\"cmax\":120,\"cmin\":0,\"color\":[53.99852526408424,6.5601778583355],\"colorscale\":[[0.0,\"rgb(255,245,240)\"],[0.125,\"rgb(254,224,210)\"],[0.25,\"rgb(252,187,161)\"],[0.375,\"rgb(252,146,114)\"],[0.5,\"rgb(251,106,74)\"],[0.625,\"rgb(239,59,44)\"],[0.75,\"rgb(203,24,29)\"],[0.875,\"rgb(165,15,21)\"],[1.0,\"rgb(103,0,13)\"]],\"showscale\":false},\"orientation\":\"h\",\"x\":[53.99852526408424,6.5601778583355],\"y\":[\"European Union\",\"African Union\"],\"type\":\"bar\"}],                        {\"template\":{\"data\":{\"histogram2dcontour\":[{\"type\":\"histogram2dcontour\",\"colorbar\":{\"outlinewidth\":0,\"ticks\":\"\"},\"colorscale\":[[0.0,\"#0d0887\"],[0.1111111111111111,\"#46039f\"],[0.2222222222222222,\"#7201a8\"],[0.3333333333333333,\"#9c179e\"],[0.4444444444444444,\"#bd3786\"],[0.5555555555555556,\"#d8576b\"],[0.6666666666666666,\"#ed7953\"],[0.7777777777777778,\"#fb9f3a\"],[0.8888888888888888,\"#fdca26\"],[1.0,\"#f0f921\"]]}],\"choropleth\":[{\"type\":\"choropleth\",\"colorbar\":{\"outlinewidth\":0,\"ticks\":\"\"}}],\"histogram2d\":[{\"type\":\"histogram2d\",\"colorbar\":{\"outlinewidth\":0,\"ticks\":\"\"},\"colorscale\":[[0.0,\"#0d0887\"],[0.1111111111111111,\"#46039f\"],[0.2222222222222222,\"#7201a8\"],[0.3333333333333333,\"#9c179e\"],[0.4444444444444444,\"#bd3786\"],[0.5555555555555556,\"#d8576b\"],[0.6666666666666666,\"#ed7953\"],[0.7777777777777778,\"#fb9f3a\"],[0.8888888888888888,\"#fdca26\"],[1.0,\"#f0f921\"]]}],\"heatmap\":[{\"type\":\"heatmap\",\"colorbar\":{\"outlinewidth\":0,\"ticks\":\"\"},\"colorscale\":[[0.0,\"#0d0887\"],[0.1111111111111111,\"#46039f\"],[0.2222222222222222,\"#7201a8\"],[0.3333333333333333,\"#9c179e\"],[0.4444444444444444,\"#bd3786\"],[0.5555555555555556,\"#d8576b\"],[0.6666666666666666,\"#ed7953\"],[0.7777777777777778,\"#fb9f3a\"],[0.8888888888888888,\"#fdca26\"],[1.0,\"#f0f921\"]]}],\"heatmapgl\":[{\"type\":\"heatmapgl\",\"colorbar\":{\"outlinewidth\":0,\"ticks\":\"\"},\"colorscale\":[[0.0,\"#0d0887\"],[0.1111111111111111,\"#46039f\"],[0.2222222222222222,\"#7201a8\"],[0.3333333333333333,\"#9c179e\"],[0.4444444444444444,\"#bd3786\"],[0.5555555555555556,\"#d8576b\"],[0.6666666666666666,\"#ed7953\"],[0.7777777777777778,\"#fb9f3a\"],[0.8888888888888888,\"#fdca26\"],[1.0,\"#f0f921\"]]}],\"contourcarpet\":[{\"type\":\"contourcarpet\",\"colorbar\":{\"outlinewidth\":0,\"ticks\":\"\"}}],\"contour\":[{\"type\":\"contour\",\"colorbar\":{\"outlinewidth\":0,\"ticks\":\"\"},\"colorscale\":[[0.0,\"#0d0887\"],[0.1111111111111111,\"#46039f\"],[0.2222222222222222,\"#7201a8\"],[0.3333333333333333,\"#9c179e\"],[0.4444444444444444,\"#bd3786\"],[0.5555555555555556,\"#d8576b\"],[0.6666666666666666,\"#ed7953\"],[0.7777777777777778,\"#fb9f3a\"],[0.8888888888888888,\"#fdca26\"],[1.0,\"#f0f921\"]]}],\"surface\":[{\"type\":\"surface\",\"colorbar\":{\"outlinewidth\":0,\"ticks\":\"\"},\"colorscale\":[[0.0,\"#0d0887\"],[0.1111111111111111,\"#46039f\"],[0.2222222222222222,\"#7201a8\"],[0.3333333333333333,\"#9c179e\"],[0.4444444444444444,\"#bd3786\"],[0.5555555555555556,\"#d8576b\"],[0.6666666666666666,\"#ed7953\"],[0.7777777777777778,\"#fb9f3a\"],[0.8888888888888888,\"#fdca26\"],[1.0,\"#f0f921\"]]}],\"mesh3d\":[{\"type\":\"mesh3d\",\"colorbar\":{\"outlinewidth\":0,\"ticks\":\"\"}}],\"scatter\":[{\"fillpattern\":{\"fillmode\":\"overlay\",\"size\":10,\"solidity\":0.2},\"type\":\"scatter\"}],\"parcoords\":[{\"type\":\"parcoords\",\"line\":{\"colorbar\":{\"outlinewidth\":0,\"ticks\":\"\"}}}],\"scatterpolargl\":[{\"type\":\"scatterpolargl\",\"marker\":{\"colorbar\":{\"outlinewidth\":0,\"ticks\":\"\"}}}],\"bar\":[{\"error_x\":{\"color\":\"#2a3f5f\"},\"error_y\":{\"color\":\"#2a3f5f\"},\"marker\":{\"line\":{\"color\":\"#E5ECF6\",\"width\":0.5},\"pattern\":{\"fillmode\":\"overlay\",\"size\":10,\"solidity\":0.2}},\"type\":\"bar\"}],\"scattergeo\":[{\"type\":\"scattergeo\",\"marker\":{\"colorbar\":{\"outlinewidth\":0,\"ticks\":\"\"}}}],\"scatterpolar\":[{\"type\":\"scatterpolar\",\"marker\":{\"colorbar\":{\"outlinewidth\":0,\"ticks\":\"\"}}}],\"histogram\":[{\"marker\":{\"pattern\":{\"fillmode\":\"overlay\",\"size\":10,\"solidity\":0.2}},\"type\":\"histogram\"}],\"scattergl\":[{\"type\":\"scattergl\",\"marker\":{\"colorbar\":{\"outlinewidth\":0,\"ticks\":\"\"}}}],\"scatter3d\":[{\"type\":\"scatter3d\",\"line\":{\"colorbar\":{\"outlinewidth\":0,\"ticks\":\"\"}},\"marker\":{\"colorbar\":{\"outlinewidth\":0,\"ticks\":\"\"}}}],\"scattermapbox\":[{\"type\":\"scattermapbox\",\"marker\":{\"colorbar\":{\"outlinewidth\":0,\"ticks\":\"\"}}}],\"scatterternary\":[{\"type\":\"scatterternary\",\"marker\":{\"colorbar\":{\"outlinewidth\":0,\"ticks\":\"\"}}}],\"scattercarpet\":[{\"type\":\"scattercarpet\",\"marker\":{\"colorbar\":{\"outlinewidth\":0,\"ticks\":\"\"}}}],\"carpet\":[{\"aaxis\":{\"endlinecolor\":\"#2a3f5f\",\"gridcolor\":\"white\",\"linecolor\":\"white\",\"minorgridcolor\":\"white\",\"startlinecolor\":\"#2a3f5f\"},\"baxis\":{\"endlinecolor\":\"#2a3f5f\",\"gridcolor\":\"white\",\"linecolor\":\"white\",\"minorgridcolor\":\"white\",\"startlinecolor\":\"#2a3f5f\"},\"type\":\"carpet\"}],\"table\":[{\"cells\":{\"fill\":{\"color\":\"#EBF0F8\"},\"line\":{\"color\":\"white\"}},\"header\":{\"fill\":{\"color\":\"#C8D4E3\"},\"line\":{\"color\":\"white\"}},\"type\":\"table\"}],\"barpolar\":[{\"marker\":{\"line\":{\"color\":\"#E5ECF6\",\"width\":0.5},\"pattern\":{\"fillmode\":\"overlay\",\"size\":10,\"solidity\":0.2}},\"type\":\"barpolar\"}],\"pie\":[{\"automargin\":true,\"type\":\"pie\"}]},\"layout\":{\"autotypenumbers\":\"strict\",\"colorway\":[\"#636efa\",\"#EF553B\",\"#00cc96\",\"#ab63fa\",\"#FFA15A\",\"#19d3f3\",\"#FF6692\",\"#B6E880\",\"#FF97FF\",\"#FECB52\"],\"font\":{\"color\":\"#2a3f5f\"},\"hovermode\":\"closest\",\"hoverlabel\":{\"align\":\"left\"},\"paper_bgcolor\":\"white\",\"plot_bgcolor\":\"#E5ECF6\",\"polar\":{\"bgcolor\":\"#E5ECF6\",\"angularaxis\":{\"gridcolor\":\"white\",\"linecolor\":\"white\",\"ticks\":\"\"},\"radialaxis\":{\"gridcolor\":\"white\",\"linecolor\":\"white\",\"ticks\":\"\"}},\"ternary\":{\"bgcolor\":\"#E5ECF6\",\"aaxis\":{\"gridcolor\":\"white\",\"linecolor\":\"white\",\"ticks\":\"\"},\"baxis\":{\"gridcolor\":\"white\",\"linecolor\":\"white\",\"ticks\":\"\"},\"caxis\":{\"gridcolor\":\"white\",\"linecolor\":\"white\",\"ticks\":\"\"}},\"coloraxis\":{\"colorbar\":{\"outlinewidth\":0,\"ticks\":\"\"}},\"colorscale\":{\"sequential\":[[0.0,\"#0d0887\"],[0.1111111111111111,\"#46039f\"],[0.2222222222222222,\"#7201a8\"],[0.3333333333333333,\"#9c179e\"],[0.4444444444444444,\"#bd3786\"],[0.5555555555555556,\"#d8576b\"],[0.6666666666666666,\"#ed7953\"],[0.7777777777777778,\"#fb9f3a\"],[0.8888888888888888,\"#fdca26\"],[1.0,\"#f0f921\"]],\"sequentialminus\":[[0.0,\"#0d0887\"],[0.1111111111111111,\"#46039f\"],[0.2222222222222222,\"#7201a8\"],[0.3333333333333333,\"#9c179e\"],[0.4444444444444444,\"#bd3786\"],[0.5555555555555556,\"#d8576b\"],[0.6666666666666666,\"#ed7953\"],[0.7777777777777778,\"#fb9f3a\"],[0.8888888888888888,\"#fdca26\"],[1.0,\"#f0f921\"]],\"diverging\":[[0,\"#8e0152\"],[0.1,\"#c51b7d\"],[0.2,\"#de77ae\"],[0.3,\"#f1b6da\"],[0.4,\"#fde0ef\"],[0.5,\"#f7f7f7\"],[0.6,\"#e6f5d0\"],[0.7,\"#b8e186\"],[0.8,\"#7fbc41\"],[0.9,\"#4d9221\"],[1,\"#276419\"]]},\"xaxis\":{\"gridcolor\":\"white\",\"linecolor\":\"white\",\"ticks\":\"\",\"title\":{\"standoff\":15},\"zerolinecolor\":\"white\",\"automargin\":true,\"zerolinewidth\":2},\"yaxis\":{\"gridcolor\":\"white\",\"linecolor\":\"white\",\"ticks\":\"\",\"title\":{\"standoff\":15},\"zerolinecolor\":\"white\",\"automargin\":true,\"zerolinewidth\":2},\"scene\":{\"xaxis\":{\"backgroundcolor\":\"#E5ECF6\",\"gridcolor\":\"white\",\"linecolor\":\"white\",\"showbackground\":true,\"ticks\":\"\",\"zerolinecolor\":\"white\",\"gridwidth\":2},\"yaxis\":{\"backgroundcolor\":\"#E5ECF6\",\"gridcolor\":\"white\",\"linecolor\":\"white\",\"showbackground\":true,\"ticks\":\"\",\"zerolinecolor\":\"white\",\"gridwidth\":2},\"zaxis\":{\"backgroundcolor\":\"#E5ECF6\",\"gridcolor\":\"white\",\"linecolor\":\"white\",\"showbackground\":true,\"ticks\":\"\",\"zerolinecolor\":\"white\",\"gridwidth\":2}},\"shapedefaults\":{\"line\":{\"color\":\"#2a3f5f\"}},\"annotationdefaults\":{\"arrowcolor\":\"#2a3f5f\",\"arrowhead\":0,\"arrowwidth\":1},\"geo\":{\"bgcolor\":\"white\",\"landcolor\":\"#E5ECF6\",\"subunitcolor\":\"white\",\"showland\":true,\"showlakes\":true,\"lakecolor\":\"white\"},\"title\":{\"x\":0.05},\"mapbox\":{\"style\":\"light\"}}},\"font\":{\"family\":\"Arial\",\"size\":11,\"color\":\"black\"},\"margin\":{\"l\":60,\"r\":60,\"t\":20,\"b\":20},\"xaxis\":{\"title\":{\"text\":\"Normalized TF-IDF Score\"},\"showgrid\":false},\"yaxis\":{\"title\":{\"text\":\"Region\"},\"automargin\":true,\"domain\":[0.1,1],\"showgrid\":false},\"height\":100,\"width\":750,\"plot_bgcolor\":\"rgba(0,0,0,0)\",\"paper_bgcolor\":\"rgba(0,0,0,0)\",\"showlegend\":false},                        {\"responsive\": true}                    )                };                            </script>        </div>\n",
       "</body>\n",
       "</html>"
      ],
      "text/plain": [
       "<IPython.core.display.HTML object>"
      ]
     },
     "metadata": {},
     "output_type": "display_data"
    }
   ],
   "source": [
    "display(HTML(filename=os.path.join('static', 'globaldatastandarddeviation.html')))"
   ]
  },
  {
   "cell_type": "markdown",
   "id": "e929127d-caeb-40bf-b82e-c2b2a4c0a34a",
   "metadata": {},
   "source": [
    "Next, to gain greater insight into how data is being mentioned in these policy documents, we mapped several topics associated with data-centric AI and we found that several are highly influential in policy discourse (their degree of influence in brackets):\n",
    "<li>Data protection (0.431017)\n",
    "<li>Open data (0.400188)\n",
    "<li>Data sharing (0.350491)\n",
    "<li>Data quality (0.330102)\n",
    "<li>Data privacy (0.326594)"
   ]
  },
  {
   "cell_type": "markdown",
   "id": "7e6bc889-3bdf-4c63-9f2d-77f69f7572a5",
   "metadata": {},
   "source": [
    "### Global Levels of Interest in Data-centric AI Topics"
   ]
  },
  {
   "cell_type": "code",
   "execution_count": 7,
   "id": "cfeb979f-d91b-4004-99c0-3d14c34dc390",
   "metadata": {
    "jupyter": {
     "source_hidden": true
    },
    "tags": []
   },
   "outputs": [
    {
     "data": {
      "text/html": [
       "<html>\n",
       "<head><meta charset=\"utf-8\" /></head>\n",
       "<body>\n",
       "    <div>                        <script type=\"text/javascript\">window.PlotlyConfig = {MathJaxConfig: 'local'};</script>\n",
       "        <script charset=\"utf-8\" src=\"https://cdn.plot.ly/plotly-2.34.0.min.js\"></script>                <div id=\"a5772b8c-e182-43b4-a55d-ca91a080f2da\" class=\"plotly-graph-div\" style=\"height:1000px; width:1000px;\"></div>            <script type=\"text/javascript\">                                    window.PLOTLYENV=window.PLOTLYENV || {};                                    if (document.getElementById(\"a5772b8c-e182-43b4-a55d-ca91a080f2da\")) {                    Plotly.newPlot(                        \"a5772b8c-e182-43b4-a55d-ca91a080f2da\",                        [{\"link\":{\"source\":[20,20,20,28,28,23,23,25,25,25,25,25,24,24,24,24,46,46,46,46,46,46,46,46,19,19,49,49,49,49,44,44,44,44,44,38,38,38,38,38,37,37,37,37,37,16,16,16,16,16,16,12,12,12,12,12,45,45,45,45,45,45,45,45,50,50,50,0,0,0,0,0,0,0,0,43,43,43,43,43,43,43,43,43,43,17,4,32,32,29,29,29,29,29,29,29,29,29,29,29,29,35,35,35,35,35,35,35,35,35,1,1,1,1,1,26,26,26,42,42,42,42,42,13,13,33,33,33,33,47,47,47,47,6,6,6,6,6,41,41,41,41,30,30,30,30,10,10,10,10,22,40,51,11,36,36,36,36,36,36,36,36,31,31,3,3,3,3,3,3,3,7,7,7,9,8,14,14,14,14,14,14,14,34,27,27,27,27,2,2,2,2,5,5,5,5,5,5,5,5,5,5,18,18,39,39,39,39,39,39,39,39,39,39,39,48,48,48,48,48,48,48,48,48,48,48,21,21,21,21,21,15,15,15],\"target\":[59,52,58,52,66,66,55,59,66,60,54,55,59,66,54,55,59,66,57,60,54,56,55,53,66,55,52,66,58,54,65,61,66,54,55,65,66,60,56,55,61,66,60,54,53,59,52,66,60,54,55,59,66,60,55,53,65,61,59,52,66,60,54,55,66,56,55,65,61,59,52,66,60,58,55,65,61,59,52,66,60,58,54,55,53,66,66,66,58,65,61,59,64,52,66,60,58,54,56,55,53,61,59,52,66,60,58,54,55,53,65,52,66,54,55,66,58,55,59,66,60,54,55,66,55,52,66,54,55,59,52,66,55,65,52,66,57,58,66,60,54,55,61,66,60,55,52,66,60,54,55,66,54,66,61,59,52,66,60,58,54,55,52,55,59,52,66,58,54,56,55,52,66,55,66,65,65,59,66,60,58,54,55,66,59,52,60,54,65,52,66,58,65,61,59,52,66,60,58,54,56,55,52,66,65,61,59,52,66,60,58,54,56,55,53,65,59,52,66,57,60,58,54,56,63,55,62,52,66,56,55,65,54,55],\"value\":[2.96475572938917,0.0719774313390986,0.3060557232619398,2.499552659360186,1.081654330563294,3.283516016410365,7.851077294206286,0.2455744286415876,3.71721435652693,0.2455744286415876,0.2455744286415876,4.504406497828453,0.04578473820770673,0.2747084292462403,0.09156947641541345,0.1373542146231202,2.981666834274479,0.5913623118823681,0.1059846358984526,0.86392778166031,0.3574510851403746,1.513676289103497,1.513676289103497,0.1059846358984526,0.1942644642215016,3.083411607507717,1.2888854844441,0.3222213711110249,0.5456117505547614,0.4162187238038119,0.1115171178114657,0.08406746398188221,1.197183081676685,0.3903099123401302,2.007308120606384,0.06909627285711786,1.672994639601489,0.06909627285711786,0.06909627285711786,0.8575295235087483,2.574150395776435,0.271141447199008,0.09038048239966934,0.3615219295986772,0.1357441029268219,0.04939394757904659,0.04939394757904659,1.622676823758629,0.0987878951580932,0.04939394757904659,0.0987878951580932,1.136729836037154,0.8646746372813016,0.6172384624132509,2.412836498740013,0.7899512881071582,1.886707563861389,0.2401850488436641,11.40723105139987,0.920075540842317,7.950400153661833,0.1592072275753438,0.4841654319393182,5.111728755010776,0.7875249227235411,0.2875126104563522,0.1632303216594487,1.666469616837884,0.1204508291028542,1.265986709106832,0.7745068159051177,1.694012513091389,0.6808384072453801,0.1622456917261539,2.337902311054807,1.099876058036527,8.79900846429222,0.3666253526788427,2.799450044825763,4.211167444250534,0.3666253526788427,0.3232325407491208,0.2674477585684953,1.677150519289149,0.244416901785895,7.328197435661233,0.003684229705336616,3.024742769273574,3.024742769273574,2.204156208610176,0.3832747673111895,0.637221966494586,0.02641471435269426,0.630538244560124,2.331243404388564,0.5387987242623212,0.1821094446227299,2.727535683697951,0.1275711494682488,0.255811485672871,0.3359539373280109,0.1521702869510392,0.8160284646032709,0.06086811478041568,0.8217195495356118,0.03043405739020784,0.09247586897914561,0.550725846207758,1.743209341932467,0.09130217217062353,0.8288371122602424,0.6675854671706793,0.08062582254478147,1.41579675688614,0.08062582254478147,0.252393630021736,0.252393630021736,0.07155826186723614,0.07166254701765018,0.1526387398718525,1.693023153157272,0.07166254701765018,0.5016378291235511,1.497480374644744,0.4317741736357241,0.1686934302829017,0.5970343555015166,0.3373868605658033,0.8434671514145087,0.740803509208394,0.1882327907448948,1.399399075926286,0.470581976862237,0.5657930030068177,0.04184910044335281,10.56338996613736,0.2437889892974962,0.4730183505739846,1.411715368062893,0.4005941410502176,0.2096463369914517,0.8011882821004355,23.592059111086,1.18553153299002,1.258648807571774,3.761235792893068,0.1072319746124051,36.6177095640713,0.7435649982182028,4.013774577342385,1.438307137735955,3.214875040614865,0.734941209607655,0.3202847960335765,0.2029396843296121,0.2029396843296121,0.3863939926577515,1.89868313502515,0.1505368944906273,0.151155031351521,0.2029396843296121,2.435276211955345,0.6377869780496964,4.487975353723511,0.2371373321698318,0.4085189655293846,5.705485127206118,0.1542789791610552,1.079952854127386,0.1542789791610552,0.2493574299613099,0.03098368959496664,0.4647553439244997,0.1549184479748332,0.4452201041267628,0.5292970266868314,0.1690270963256745,0.06326203318164542,2.928321895953061,0.1007814058872916,0.1828664318051823,0.3225994554148711,1.38245028690175,0.4879834488474623,0.03776531931541917,0.03776531931541917,0.03776531931541917,0.04105263438171441,0.1530416893105753,0.07652084465528769,0.9947709805187394,0.1530416893105753,0.1184453071092245,0.05922265355461227,0.7106718426553471,1.488369956636891,7.345105267964667,0.2961132677730612,1.249883413238861,1.006785110428409,0.05922265355461227,19.92996449561327,0.05375330274216023,0.5912863301637625,0.7436901566620608,7.791389485155807,0.8944622281610626,0.9628727428590765,6.964505831342906,1.17701800756515,0.2390735222468178,0.961721039344307,0.6902949191266239,1.624553454326994,0.9355935885058481,1.785094196656376,1.68699580290267,0.5496047238526772,0.5002866222744143,0.4183758792622285,0.8342326381968911,1.169617864585286,1.397222969425298,1.361778058071019,0.1011354516804528,1.87101581988403,0.1002051200432579,0.3591721459206801,0.974220223224237,0.3591721459206801,2.065073400594155,0.1369585419007993,1.105140037062796,0.3409660072747474]},\"node\":{\"label\":[\"france\",\"israel\",\"tunisia\",\"singapore\",\"hungary\",\"t\\u00fcrkiye\",\"mexico\",\"slovak republic\",\"south africa\",\"slovenia\",\"norway\",\"rwanda\",\"estonia\",\"kazakhstan\",\"spain\",\"viet nam\",\"egypt\",\"greece\",\"united arab emirates\",\"chile\",\"australia\",\"uruguay\",\"poland\",\"belgium\",\"bulgaria\",\"brazil\",\"italy\",\"thailand\",\"austria\",\"india\",\"new zealand\",\"serbia\",\"iceland\",\"luxembourg\",\"switzerland\",\"ireland\",\"saudi arabia\",\"denmark\",\"czechia\",\"united kingdom\",\"portugal\",\"netherlands\",\"japan\",\"germany\",\"colombia\",\"european union\",\"canada\",\"malta\",\"united states\",\"china\",\"finland\",\"russian federation\",\"data privacy\",\"responsible data\",\"data sharing\",\"open data\",\"data standards\",\"data provenance\",\"data security\",\"data governance\",\"data quality\",\"data ethics\",\"data licensing\",\"data transparency\",\"data lineage\",\"data access\",\"data protection\"],\"line\":{\"color\":\"black\",\"width\":0.5},\"pad\":50,\"thickness\":15},\"type\":\"sankey\"}],                        {\"template\":{\"data\":{\"histogram2dcontour\":[{\"type\":\"histogram2dcontour\",\"colorbar\":{\"outlinewidth\":0,\"ticks\":\"\"},\"colorscale\":[[0.0,\"#0d0887\"],[0.1111111111111111,\"#46039f\"],[0.2222222222222222,\"#7201a8\"],[0.3333333333333333,\"#9c179e\"],[0.4444444444444444,\"#bd3786\"],[0.5555555555555556,\"#d8576b\"],[0.6666666666666666,\"#ed7953\"],[0.7777777777777778,\"#fb9f3a\"],[0.8888888888888888,\"#fdca26\"],[1.0,\"#f0f921\"]]}],\"choropleth\":[{\"type\":\"choropleth\",\"colorbar\":{\"outlinewidth\":0,\"ticks\":\"\"}}],\"histogram2d\":[{\"type\":\"histogram2d\",\"colorbar\":{\"outlinewidth\":0,\"ticks\":\"\"},\"colorscale\":[[0.0,\"#0d0887\"],[0.1111111111111111,\"#46039f\"],[0.2222222222222222,\"#7201a8\"],[0.3333333333333333,\"#9c179e\"],[0.4444444444444444,\"#bd3786\"],[0.5555555555555556,\"#d8576b\"],[0.6666666666666666,\"#ed7953\"],[0.7777777777777778,\"#fb9f3a\"],[0.8888888888888888,\"#fdca26\"],[1.0,\"#f0f921\"]]}],\"heatmap\":[{\"type\":\"heatmap\",\"colorbar\":{\"outlinewidth\":0,\"ticks\":\"\"},\"colorscale\":[[0.0,\"#0d0887\"],[0.1111111111111111,\"#46039f\"],[0.2222222222222222,\"#7201a8\"],[0.3333333333333333,\"#9c179e\"],[0.4444444444444444,\"#bd3786\"],[0.5555555555555556,\"#d8576b\"],[0.6666666666666666,\"#ed7953\"],[0.7777777777777778,\"#fb9f3a\"],[0.8888888888888888,\"#fdca26\"],[1.0,\"#f0f921\"]]}],\"heatmapgl\":[{\"type\":\"heatmapgl\",\"colorbar\":{\"outlinewidth\":0,\"ticks\":\"\"},\"colorscale\":[[0.0,\"#0d0887\"],[0.1111111111111111,\"#46039f\"],[0.2222222222222222,\"#7201a8\"],[0.3333333333333333,\"#9c179e\"],[0.4444444444444444,\"#bd3786\"],[0.5555555555555556,\"#d8576b\"],[0.6666666666666666,\"#ed7953\"],[0.7777777777777778,\"#fb9f3a\"],[0.8888888888888888,\"#fdca26\"],[1.0,\"#f0f921\"]]}],\"contourcarpet\":[{\"type\":\"contourcarpet\",\"colorbar\":{\"outlinewidth\":0,\"ticks\":\"\"}}],\"contour\":[{\"type\":\"contour\",\"colorbar\":{\"outlinewidth\":0,\"ticks\":\"\"},\"colorscale\":[[0.0,\"#0d0887\"],[0.1111111111111111,\"#46039f\"],[0.2222222222222222,\"#7201a8\"],[0.3333333333333333,\"#9c179e\"],[0.4444444444444444,\"#bd3786\"],[0.5555555555555556,\"#d8576b\"],[0.6666666666666666,\"#ed7953\"],[0.7777777777777778,\"#fb9f3a\"],[0.8888888888888888,\"#fdca26\"],[1.0,\"#f0f921\"]]}],\"surface\":[{\"type\":\"surface\",\"colorbar\":{\"outlinewidth\":0,\"ticks\":\"\"},\"colorscale\":[[0.0,\"#0d0887\"],[0.1111111111111111,\"#46039f\"],[0.2222222222222222,\"#7201a8\"],[0.3333333333333333,\"#9c179e\"],[0.4444444444444444,\"#bd3786\"],[0.5555555555555556,\"#d8576b\"],[0.6666666666666666,\"#ed7953\"],[0.7777777777777778,\"#fb9f3a\"],[0.8888888888888888,\"#fdca26\"],[1.0,\"#f0f921\"]]}],\"mesh3d\":[{\"type\":\"mesh3d\",\"colorbar\":{\"outlinewidth\":0,\"ticks\":\"\"}}],\"scatter\":[{\"fillpattern\":{\"fillmode\":\"overlay\",\"size\":10,\"solidity\":0.2},\"type\":\"scatter\"}],\"parcoords\":[{\"type\":\"parcoords\",\"line\":{\"colorbar\":{\"outlinewidth\":0,\"ticks\":\"\"}}}],\"scatterpolargl\":[{\"type\":\"scatterpolargl\",\"marker\":{\"colorbar\":{\"outlinewidth\":0,\"ticks\":\"\"}}}],\"bar\":[{\"error_x\":{\"color\":\"#2a3f5f\"},\"error_y\":{\"color\":\"#2a3f5f\"},\"marker\":{\"line\":{\"color\":\"#E5ECF6\",\"width\":0.5},\"pattern\":{\"fillmode\":\"overlay\",\"size\":10,\"solidity\":0.2}},\"type\":\"bar\"}],\"scattergeo\":[{\"type\":\"scattergeo\",\"marker\":{\"colorbar\":{\"outlinewidth\":0,\"ticks\":\"\"}}}],\"scatterpolar\":[{\"type\":\"scatterpolar\",\"marker\":{\"colorbar\":{\"outlinewidth\":0,\"ticks\":\"\"}}}],\"histogram\":[{\"marker\":{\"pattern\":{\"fillmode\":\"overlay\",\"size\":10,\"solidity\":0.2}},\"type\":\"histogram\"}],\"scattergl\":[{\"type\":\"scattergl\",\"marker\":{\"colorbar\":{\"outlinewidth\":0,\"ticks\":\"\"}}}],\"scatter3d\":[{\"type\":\"scatter3d\",\"line\":{\"colorbar\":{\"outlinewidth\":0,\"ticks\":\"\"}},\"marker\":{\"colorbar\":{\"outlinewidth\":0,\"ticks\":\"\"}}}],\"scattermapbox\":[{\"type\":\"scattermapbox\",\"marker\":{\"colorbar\":{\"outlinewidth\":0,\"ticks\":\"\"}}}],\"scatterternary\":[{\"type\":\"scatterternary\",\"marker\":{\"colorbar\":{\"outlinewidth\":0,\"ticks\":\"\"}}}],\"scattercarpet\":[{\"type\":\"scattercarpet\",\"marker\":{\"colorbar\":{\"outlinewidth\":0,\"ticks\":\"\"}}}],\"carpet\":[{\"aaxis\":{\"endlinecolor\":\"#2a3f5f\",\"gridcolor\":\"white\",\"linecolor\":\"white\",\"minorgridcolor\":\"white\",\"startlinecolor\":\"#2a3f5f\"},\"baxis\":{\"endlinecolor\":\"#2a3f5f\",\"gridcolor\":\"white\",\"linecolor\":\"white\",\"minorgridcolor\":\"white\",\"startlinecolor\":\"#2a3f5f\"},\"type\":\"carpet\"}],\"table\":[{\"cells\":{\"fill\":{\"color\":\"#EBF0F8\"},\"line\":{\"color\":\"white\"}},\"header\":{\"fill\":{\"color\":\"#C8D4E3\"},\"line\":{\"color\":\"white\"}},\"type\":\"table\"}],\"barpolar\":[{\"marker\":{\"line\":{\"color\":\"#E5ECF6\",\"width\":0.5},\"pattern\":{\"fillmode\":\"overlay\",\"size\":10,\"solidity\":0.2}},\"type\":\"barpolar\"}],\"pie\":[{\"automargin\":true,\"type\":\"pie\"}]},\"layout\":{\"autotypenumbers\":\"strict\",\"colorway\":[\"#636efa\",\"#EF553B\",\"#00cc96\",\"#ab63fa\",\"#FFA15A\",\"#19d3f3\",\"#FF6692\",\"#B6E880\",\"#FF97FF\",\"#FECB52\"],\"font\":{\"color\":\"#2a3f5f\"},\"hovermode\":\"closest\",\"hoverlabel\":{\"align\":\"left\"},\"paper_bgcolor\":\"white\",\"plot_bgcolor\":\"#E5ECF6\",\"polar\":{\"bgcolor\":\"#E5ECF6\",\"angularaxis\":{\"gridcolor\":\"white\",\"linecolor\":\"white\",\"ticks\":\"\"},\"radialaxis\":{\"gridcolor\":\"white\",\"linecolor\":\"white\",\"ticks\":\"\"}},\"ternary\":{\"bgcolor\":\"#E5ECF6\",\"aaxis\":{\"gridcolor\":\"white\",\"linecolor\":\"white\",\"ticks\":\"\"},\"baxis\":{\"gridcolor\":\"white\",\"linecolor\":\"white\",\"ticks\":\"\"},\"caxis\":{\"gridcolor\":\"white\",\"linecolor\":\"white\",\"ticks\":\"\"}},\"coloraxis\":{\"colorbar\":{\"outlinewidth\":0,\"ticks\":\"\"}},\"colorscale\":{\"sequential\":[[0.0,\"#0d0887\"],[0.1111111111111111,\"#46039f\"],[0.2222222222222222,\"#7201a8\"],[0.3333333333333333,\"#9c179e\"],[0.4444444444444444,\"#bd3786\"],[0.5555555555555556,\"#d8576b\"],[0.6666666666666666,\"#ed7953\"],[0.7777777777777778,\"#fb9f3a\"],[0.8888888888888888,\"#fdca26\"],[1.0,\"#f0f921\"]],\"sequentialminus\":[[0.0,\"#0d0887\"],[0.1111111111111111,\"#46039f\"],[0.2222222222222222,\"#7201a8\"],[0.3333333333333333,\"#9c179e\"],[0.4444444444444444,\"#bd3786\"],[0.5555555555555556,\"#d8576b\"],[0.6666666666666666,\"#ed7953\"],[0.7777777777777778,\"#fb9f3a\"],[0.8888888888888888,\"#fdca26\"],[1.0,\"#f0f921\"]],\"diverging\":[[0,\"#8e0152\"],[0.1,\"#c51b7d\"],[0.2,\"#de77ae\"],[0.3,\"#f1b6da\"],[0.4,\"#fde0ef\"],[0.5,\"#f7f7f7\"],[0.6,\"#e6f5d0\"],[0.7,\"#b8e186\"],[0.8,\"#7fbc41\"],[0.9,\"#4d9221\"],[1,\"#276419\"]]},\"xaxis\":{\"gridcolor\":\"white\",\"linecolor\":\"white\",\"ticks\":\"\",\"title\":{\"standoff\":15},\"zerolinecolor\":\"white\",\"automargin\":true,\"zerolinewidth\":2},\"yaxis\":{\"gridcolor\":\"white\",\"linecolor\":\"white\",\"ticks\":\"\",\"title\":{\"standoff\":15},\"zerolinecolor\":\"white\",\"automargin\":true,\"zerolinewidth\":2},\"scene\":{\"xaxis\":{\"backgroundcolor\":\"#E5ECF6\",\"gridcolor\":\"white\",\"linecolor\":\"white\",\"showbackground\":true,\"ticks\":\"\",\"zerolinecolor\":\"white\",\"gridwidth\":2},\"yaxis\":{\"backgroundcolor\":\"#E5ECF6\",\"gridcolor\":\"white\",\"linecolor\":\"white\",\"showbackground\":true,\"ticks\":\"\",\"zerolinecolor\":\"white\",\"gridwidth\":2},\"zaxis\":{\"backgroundcolor\":\"#E5ECF6\",\"gridcolor\":\"white\",\"linecolor\":\"white\",\"showbackground\":true,\"ticks\":\"\",\"zerolinecolor\":\"white\",\"gridwidth\":2}},\"shapedefaults\":{\"line\":{\"color\":\"#2a3f5f\"}},\"annotationdefaults\":{\"arrowcolor\":\"#2a3f5f\",\"arrowhead\":0,\"arrowwidth\":1},\"geo\":{\"bgcolor\":\"white\",\"landcolor\":\"#E5ECF6\",\"subunitcolor\":\"white\",\"showland\":true,\"showlakes\":true,\"lakecolor\":\"white\"},\"title\":{\"x\":0.05},\"mapbox\":{\"style\":\"light\"}}},\"title\":{\"text\":\"\"},\"font\":{\"size\":11},\"height\":1000,\"width\":1000},                        {\"responsive\": true}                    )                };                            </script>        </div>\n",
       "</body>\n",
       "</html>"
      ],
      "text/plain": [
       "<IPython.core.display.HTML object>"
      ]
     },
     "metadata": {},
     "output_type": "display_data"
    }
   ],
   "source": [
    "display(HTML(filename=os.path.join('static', 'sankey_diagram.html')))"
   ]
  },
  {
   "cell_type": "markdown",
   "id": "37834c3c-a86a-4846-855a-9a42070eb27a",
   "metadata": {},
   "source": [
    "But, importantly, the following keywords are the least central to the network:\n",
    "<li>Data licensing (0.011033)\n",
    "<li>Data transparency (0.023948)\n",
    "<li>Data lineage (0.026415)\n",
    "<li>Data provenance (0.051985)\n",
    "<li>Responsible data (0.137291)"
   ]
  },
  {
   "cell_type": "markdown",
   "id": "a9414390-805c-4c23-b8ec-06e6ae40a72f",
   "metadata": {},
   "source": [
    "According to Google trends data, the keywords most central to the network are generally more popular over time than those at the bottom of the list (except 'responsible data' and 'data license', the latter being the most used variant of 'data licensing')."
   ]
  },
  {
   "cell_type": "markdown",
   "id": "99e16e3e-39ac-4a01-b70c-92b4862e1cb3",
   "metadata": {},
   "source": [
    "### General Popularity of Data-centric AI Topics"
   ]
  },
  {
   "cell_type": "code",
   "execution_count": 8,
   "id": "f9b8c9d5-7721-4f3e-ad2f-ab47ceb4faad",
   "metadata": {
    "jupyter": {
     "source_hidden": true
    },
    "tags": []
   },
   "outputs": [
    {
     "data": {
      "text/html": [
       "\n",
       "\n",
       "<style>\n",
       "\n",
       "</style>\n",
       "\n",
       "<div id=\"fig_el87032140672806411088267624024\"></div>\n",
       "<script>\n",
       "function mpld3_load_lib(url, callback){\n",
       "  var s = document.createElement('script');\n",
       "  s.src = url;\n",
       "  s.async = true;\n",
       "  s.onreadystatechange = s.onload = callback;\n",
       "  s.onerror = function(){console.warn(\"failed to load library \" + url);};\n",
       "  document.getElementsByTagName(\"head\")[0].appendChild(s);\n",
       "}\n",
       "\n",
       "if(typeof(mpld3) !== \"undefined\" && mpld3._mpld3IsLoaded){\n",
       "   // already loaded: just create the figure\n",
       "   !function(mpld3){\n",
       "       \n",
       "       mpld3.draw_figure(\"fig_el87032140672806411088267624024\", {\"width\": 720.0, \"height\": 360.0, \"axes\": [{\"bbox\": [0.07072916666666666, 0.11611111111111105, 0.5804166666666667, 0.8094444444444444], \"xlim\": [16161.35, 20179.65], \"ylim\": [2.3499999999999996, 104.65], \"xdomain\": [[2014, 3, 1, 8, 24, 0, 0.0], [2025, 3, 1, 15, 36, 0, 0.0]], \"ydomain\": [2.3499999999999996, 104.65], \"xscale\": \"date\", \"yscale\": \"linear\", \"axes\": [{\"position\": \"bottom\", \"nticks\": 7, \"tickvalues\": null, \"tickformat_formatter\": \"\", \"tickformat\": null, \"scale\": \"linear\", \"fontsize\": 10.0, \"grid\": {\"gridOn\": true, \"color\": \"#B0B0B0\", \"dasharray\": \"none\", \"alpha\": 1.0}, \"visible\": true}, {\"position\": \"left\", \"nticks\": 7, \"tickvalues\": null, \"tickformat_formatter\": \"\", \"tickformat\": null, \"scale\": \"linear\", \"fontsize\": 10.0, \"grid\": {\"gridOn\": true, \"color\": \"#B0B0B0\", \"dasharray\": \"none\", \"alpha\": 1.0}, \"visible\": true}], \"axesbg\": \"#FFFFFF\", \"axesbgalpha\": null, \"zoomable\": true, \"id\": \"el87032140673078040128\", \"lines\": [{\"data\": \"data01\", \"xindex\": 0, \"yindex\": 1, \"coordinates\": \"data\", \"id\": \"el87032140672806441744\", \"color\": \"#1F77B4\", \"linewidth\": 1.5, \"dasharray\": \"none\", \"alpha\": 1, \"zorder\": 2, \"drawstyle\": \"default\"}, {\"data\": \"data01\", \"xindex\": 0, \"yindex\": 2, \"coordinates\": \"data\", \"id\": \"el87032140672799095920\", \"color\": \"#FF7F0E\", \"linewidth\": 1.5, \"dasharray\": \"none\", \"alpha\": 1, \"zorder\": 2, \"drawstyle\": \"default\"}, {\"data\": \"data01\", \"xindex\": 0, \"yindex\": 3, \"coordinates\": \"data\", \"id\": \"el87032140672799095296\", \"color\": \"#2CA02C\", \"linewidth\": 1.5, \"dasharray\": \"none\", \"alpha\": 1, \"zorder\": 2, \"drawstyle\": \"default\"}, {\"data\": \"data01\", \"xindex\": 0, \"yindex\": 4, \"coordinates\": \"data\", \"id\": \"el87032140672799093664\", \"color\": \"#D62728\", \"linewidth\": 1.5, \"dasharray\": \"none\", \"alpha\": 1, \"zorder\": 2, \"drawstyle\": \"default\"}, {\"data\": \"data01\", \"xindex\": 0, \"yindex\": 5, \"coordinates\": \"data\", \"id\": \"el87032140672797613696\", \"color\": \"#9467BD\", \"linewidth\": 1.5, \"dasharray\": \"none\", \"alpha\": 1, \"zorder\": 2, \"drawstyle\": \"default\"}, {\"data\": \"data02\", \"xindex\": 0, \"yindex\": 1, \"coordinates\": \"axes\", \"id\": \"el87032140672662758112\", \"color\": \"#1F77B4\", \"linewidth\": 1.5, \"dasharray\": \"none\", \"alpha\": 1, \"zorder\": 1000002.0, \"drawstyle\": \"default\"}, {\"data\": \"data02\", \"xindex\": 0, \"yindex\": 2, \"coordinates\": \"axes\", \"id\": \"el87032140672662759360\", \"color\": \"#FF7F0E\", \"linewidth\": 1.5, \"dasharray\": \"none\", \"alpha\": 1, \"zorder\": 1000002.0, \"drawstyle\": \"default\"}, {\"data\": \"data02\", \"xindex\": 0, \"yindex\": 3, \"coordinates\": \"axes\", \"id\": \"el87032140672945598224\", \"color\": \"#2CA02C\", \"linewidth\": 1.5, \"dasharray\": \"none\", \"alpha\": 1, \"zorder\": 1000002.0, \"drawstyle\": \"default\"}, {\"data\": \"data02\", \"xindex\": 0, \"yindex\": 4, \"coordinates\": \"axes\", \"id\": \"el87032140672945596304\", \"color\": \"#D62728\", \"linewidth\": 1.5, \"dasharray\": \"none\", \"alpha\": 1, \"zorder\": 1000002.0, \"drawstyle\": \"default\"}, {\"data\": \"data02\", \"xindex\": 0, \"yindex\": 5, \"coordinates\": \"axes\", \"id\": \"el87032140672799122288\", \"color\": \"#9467BD\", \"linewidth\": 1.5, \"dasharray\": \"none\", \"alpha\": 1, \"zorder\": 1000002.0, \"drawstyle\": \"default\"}], \"paths\": [{\"data\": \"data03\", \"xindex\": 0, \"yindex\": 1, \"coordinates\": \"axes\", \"pathcodes\": [\"M\", \"L\", \"S\", \"L\", \"S\", \"L\", \"S\", \"L\", \"S\", \"Z\"], \"id\": \"el87032140672797611776\", \"dasharray\": \"none\", \"alpha\": 0.8, \"facecolor\": \"rgba(255, 255, 255, 0.8)\", \"edgecolor\": \"rgba(204, 204, 204, 0.8)\", \"edgewidth\": 1.0, \"zorder\": 1000000.0}], \"markers\": [], \"texts\": [{\"text\": \"Time\", \"position\": [0.5, -0.07206588881262868], \"coordinates\": \"axes\", \"h_anchor\": \"middle\", \"v_baseline\": \"hanging\", \"rotation\": -0.0, \"fontsize\": 10.0, \"color\": \"#000000\", \"alpha\": 1, \"zorder\": 3, \"id\": \"el87032140672798945872\"}, {\"text\": \"Search Interest\", \"position\": [-0.07208662359416129, 0.5], \"coordinates\": \"axes\", \"h_anchor\": \"middle\", \"v_baseline\": \"auto\", \"rotation\": -90.0, \"fontsize\": 10.0, \"color\": \"#000000\", \"alpha\": 1, \"zorder\": 3, \"id\": \"el87032140672806444960\"}, {\"text\": \"Time Series of Influential Topics\", \"position\": [0.5, 1.0205902539464653], \"coordinates\": \"axes\", \"h_anchor\": \"middle\", \"v_baseline\": \"auto\", \"rotation\": -0.0, \"fontsize\": 12.0, \"color\": \"#000000\", \"alpha\": 1, \"zorder\": 3, \"id\": \"el87032140672662814432\"}, {\"text\": \"Influential: data protection: (Worldwide)\", \"position\": [1.0885379277339076, 0.9416609471516815], \"coordinates\": \"axes\", \"h_anchor\": \"start\", \"v_baseline\": \"auto\", \"rotation\": -0.0, \"fontsize\": 10.0, \"color\": \"#000000\", \"alpha\": 1, \"zorder\": 1000003.0, \"id\": \"el87032140672797613168\"}, {\"text\": \"Influential: open data: (Worldwide)\", \"position\": [1.0885379277339076, 0.8901853122855181], \"coordinates\": \"axes\", \"h_anchor\": \"start\", \"v_baseline\": \"auto\", \"rotation\": -0.0, \"fontsize\": 10.0, \"color\": \"#000000\", \"alpha\": 1, \"zorder\": 1000003.0, \"id\": \"el87032140672662757536\"}, {\"text\": \"Influential: data sharing: (Worldwide)\", \"position\": [1.0885379277339076, 0.8387096774193546], \"coordinates\": \"axes\", \"h_anchor\": \"start\", \"v_baseline\": \"auto\", \"rotation\": -0.0, \"fontsize\": 10.0, \"color\": \"#000000\", \"alpha\": 1, \"zorder\": 1000003.0, \"id\": \"el87032140672945595872\"}, {\"text\": \"Influential: data quality: (Worldwide)\", \"position\": [1.0885379277339076, 0.7872340425531913], \"coordinates\": \"axes\", \"h_anchor\": \"start\", \"v_baseline\": \"auto\", \"rotation\": -0.0, \"fontsize\": 10.0, \"color\": \"#000000\", \"alpha\": 1, \"zorder\": 1000003.0, \"id\": \"el87032140672945598176\"}, {\"text\": \"Influential: data privacy: (Worldwide)\", \"position\": [1.0885379277339076, 0.7357584076870279], \"coordinates\": \"axes\", \"h_anchor\": \"start\", \"v_baseline\": \"auto\", \"rotation\": -0.0, \"fontsize\": 10.0, \"color\": \"#000000\", \"alpha\": 1, \"zorder\": 1000003.0, \"id\": \"el87032140672799124256\"}], \"collections\": [], \"images\": [], \"sharex\": [], \"sharey\": []}], \"data\": {\"data01\": [[16344.0, 41.0, 40.0, 8.0, 12.0, 8.0], [16375.0, 41.0, 40.0, 7.0, 12.0, 8.0], [16405.0, 32.0, 34.0, 7.0, 10.0, 7.0], [16436.0, 39.0, 38.0, 8.0, 11.0, 9.0], [16467.0, 42.0, 46.0, 8.0, 12.0, 9.0], [16495.0, 40.0, 42.0, 8.0, 12.0, 9.0], [16526.0, 37.0, 41.0, 8.0, 12.0, 8.0], [16556.0, 35.0, 45.0, 7.0, 12.0, 7.0], [16587.0, 34.0, 40.0, 7.0, 11.0, 7.0], [16617.0, 31.0, 38.0, 7.0, 11.0, 7.0], [16648.0, 27.0, 37.0, 8.0, 10.0, 8.0], [16679.0, 37.0, 44.0, 8.0, 12.0, 8.0], [16709.0, 41.0, 46.0, 9.0, 12.0, 10.0], [16740.0, 40.0, 42.0, 8.0, 12.0, 9.0], [16770.0, 32.0, 37.0, 8.0, 10.0, 7.0], [16801.0, 34.0, 36.0, 8.0, 12.0, 9.0], [16832.0, 39.0, 42.0, 9.0, 13.0, 9.0], [16861.0, 35.0, 40.0, 8.0, 13.0, 9.0], [16892.0, 38.0, 39.0, 8.0, 12.0, 9.0], [16922.0, 35.0, 38.0, 8.0, 12.0, 9.0], [16953.0, 33.0, 37.0, 8.0, 12.0, 8.0], [16983.0, 29.0, 35.0, 7.0, 10.0, 8.0], [17014.0, 27.0, 33.0, 9.0, 11.0, 8.0], [17045.0, 33.0, 40.0, 9.0, 12.0, 9.0], [17075.0, 36.0, 39.0, 9.0, 13.0, 9.0], [17106.0, 37.0, 40.0, 8.0, 12.0, 9.0], [17136.0, 31.0, 36.0, 7.0, 11.0, 8.0], [17167.0, 37.0, 40.0, 8.0, 12.0, 10.0], [17198.0, 40.0, 43.0, 9.0, 13.0, 10.0], [17226.0, 41.0, 47.0, 9.0, 16.0, 12.0], [17257.0, 37.0, 42.0, 8.0, 13.0, 11.0], [17287.0, 40.0, 41.0, 8.0, 13.0, 10.0], [17318.0, 41.0, 40.0, 7.0, 12.0, 10.0], [17348.0, 36.0, 37.0, 8.0, 11.0, 9.0], [17379.0, 38.0, 36.0, 7.0, 13.0, 9.0], [17410.0, 43.0, 41.0, 8.0, 13.0, 11.0], [17440.0, 49.0, 44.0, 9.0, 14.0, 12.0], [17471.0, 50.0, 40.0, 9.0, 14.0, 12.0], [17501.0, 39.0, 33.0, 8.0, 11.0, 11.0], [17532.0, 53.0, 40.0, 9.0, 11.0, 14.0], [17563.0, 58.0, 41.0, 9.0, 14.0, 14.0], [17591.0, 63.0, 42.0, 11.0, 13.0, 15.0], [17622.0, 68.0, 39.0, 10.0, 13.0, 20.0], [17652.0, 100.0, 38.0, 9.0, 14.0, 24.0], [17683.0, 54.0, 37.0, 9.0, 11.0, 17.0], [17713.0, 41.0, 35.0, 9.0, 12.0, 15.0], [17744.0, 41.0, 36.0, 8.0, 12.0, 14.0], [17775.0, 43.0, 40.0, 10.0, 13.0, 14.0], [17805.0, 44.0, 40.0, 9.0, 15.0, 17.0], [17836.0, 45.0, 37.0, 9.0, 14.0, 17.0], [17866.0, 34.0, 32.0, 9.0, 11.0, 13.0], [17897.0, 42.0, 38.0, 8.0, 12.0, 18.0], [17928.0, 44.0, 41.0, 9.0, 15.0, 17.0], [17956.0, 43.0, 37.0, 9.0, 15.0, 18.0], [17987.0, 40.0, 40.0, 9.0, 14.0, 16.0], [18017.0, 38.0, 36.0, 9.0, 13.0, 16.0], [18048.0, 37.0, 37.0, 7.0, 13.0, 16.0], [18078.0, 37.0, 35.0, 8.0, 12.0, 15.0], [18109.0, 36.0, 34.0, 8.0, 12.0, 15.0], [18140.0, 39.0, 40.0, 9.0, 15.0, 19.0], [18170.0, 42.0, 41.0, 9.0, 15.0, 20.0], [18201.0, 42.0, 40.0, 9.0, 15.0, 19.0], [18231.0, 39.0, 34.0, 7.0, 12.0, 17.0], [18262.0, 45.0, 38.0, 10.0, 14.0, 21.0], [18293.0, 42.0, 41.0, 10.0, 16.0, 21.0], [18322.0, 37.0, 40.0, 9.0, 14.0, 18.0], [18353.0, 35.0, 41.0, 10.0, 15.0, 19.0], [18383.0, 33.0, 38.0, 9.0, 15.0, 18.0], [18414.0, 35.0, 40.0, 10.0, 15.0, 18.0], [18444.0, 36.0, 41.0, 9.0, 15.0, 18.0], [18475.0, 31.0, 35.0, 9.0, 15.0, 18.0], [18506.0, 39.0, 43.0, 9.0, 18.0, 21.0], [18536.0, 37.0, 38.0, 10.0, 18.0, 19.0], [18567.0, 35.0, 36.0, 9.0, 15.0, 16.0], [18597.0, 31.0, 33.0, 8.0, 14.0, 15.0], [18628.0, 34.0, 31.0, 11.0, 13.0, 20.0], [18659.0, 37.0, 36.0, 11.0, 16.0, 20.0], [18687.0, 40.0, 40.0, 10.0, 16.0, 21.0], [18718.0, 36.0, 34.0, 9.0, 17.0, 19.0], [18748.0, 36.0, 35.0, 9.0, 16.0, 20.0], [18779.0, 37.0, 38.0, 22.0, 17.0, 19.0], [18809.0, 34.0, 33.0, 10.0, 15.0, 18.0], [18840.0, 30.0, 31.0, 9.0, 14.0, 18.0], [18871.0, 37.0, 37.0, 10.0, 18.0, 22.0], [18901.0, 37.0, 39.0, 10.0, 18.0, 22.0], [18932.0, 38.0, 36.0, 10.0, 17.0, 21.0], [18962.0, 33.0, 34.0, 9.0, 15.0, 19.0], [18993.0, 41.0, 48.0, 11.0, 20.0, 28.0], [19024.0, 45.0, 54.0, 14.0, 27.0, 29.0], [19052.0, 44.0, 55.0, 16.0, 26.0, 30.0], [19083.0, 38.0, 52.0, 14.0, 25.0, 30.0], [19113.0, 38.0, 49.0, 13.0, 24.0, 29.0], [19144.0, 37.0, 48.0, 13.0, 22.0, 26.0], [19174.0, 34.0, 44.0, 11.0, 19.0, 24.0], [19205.0, 34.0, 44.0, 12.0, 19.0, 24.0], [19236.0, 39.0, 52.0, 14.0, 23.0, 28.0], [19266.0, 40.0, 52.0, 13.0, 22.0, 32.0], [19297.0, 41.0, 48.0, 14.0, 22.0, 29.0], [19327.0, 37.0, 45.0, 12.0, 20.0, 24.0], [19358.0, 39.0, 49.0, 13.0, 21.0, 29.0], [19389.0, 40.0, 54.0, 15.0, 23.0, 29.0], [19417.0, 40.0, 55.0, 14.0, 23.0, 31.0], [19448.0, 35.0, 49.0, 14.0, 22.0, 29.0], [19478.0, 37.0, 49.0, 14.0, 23.0, 32.0], [19509.0, 40.0, 48.0, 14.0, 22.0, 28.0], [19539.0, 39.0, 45.0, 13.0, 20.0, 31.0], [19570.0, 46.0, 46.0, 13.0, 20.0, 33.0], [19601.0, 42.0, 51.0, 15.0, 24.0, 36.0], [19631.0, 44.0, 51.0, 14.0, 23.0, 36.0], [19662.0, 42.0, 50.0, 14.0, 23.0, 34.0], [19692.0, 35.0, 44.0, 12.0, 20.0, 29.0], [19723.0, 42.0, 54.0, 13.0, 23.0, 34.0], [19754.0, 48.0, 58.0, 15.0, 30.0, 39.0], [19783.0, 46.0, 58.0, 15.0, 28.0, 37.0], [19814.0, 45.0, 52.0, 16.0, 27.0, 38.0], [19844.0, 43.0, 52.0, 15.0, 25.0, 37.0], [19875.0, 43.0, 49.0, 14.0, 25.0, 33.0], [19905.0, 41.0, 48.0, 12.0, 24.0, 33.0], [19936.0, 41.0, 47.0, 14.0, 25.0, 35.0], [19967.0, 45.0, 53.0, 15.0, 27.0, 39.0], [19997.0, 55.0, 60.0, 17.0, 30.0, 44.0]], \"data02\": [[1.0215362526920315, 0.9536719286204529, 0.9021962937542896, 0.8507206588881261, 0.7992450240219627, 0.7477693891557994], [1.0693945920076573, 0.9536719286204529, 0.9021962937542896, 0.8507206588881261, 0.7992450240219627, 0.7477693891557994]], \"data03\": [[1.016750418760469, 0.7151681537405626], [1.5704115817181146, 0.7151681537405626], [1.575197415649677, 0.7151681537405626], [1.575197415649677, 0.7220315717227177], [1.575197415649677, 0.9759780370624569], [1.575197415649677, 0.9828414550446121], [1.5704115817181146, 0.9828414550446121], [1.016750418760469, 0.9828414550446121], [1.0119645848289065, 0.9828414550446121], [1.0119645848289065, 0.9759780370624569], [1.0119645848289065, 0.7220315717227177], [1.0119645848289065, 0.7151681537405626], [1.016750418760469, 0.7151681537405626]]}, \"id\": \"el87032140672806411088\", \"plugins\": [{\"type\": \"reset\"}, {\"type\": \"zoom\", \"button\": true, \"enabled\": false}, {\"type\": \"boxzoom\", \"button\": true, \"enabled\": false}]});\n",
       "   }(mpld3);\n",
       "}else if(typeof define === \"function\" && define.amd){\n",
       "   // require.js is available: use it to load d3/mpld3\n",
       "   require.config({paths: {d3: \"https://d3js.org/d3.v5\"}});\n",
       "   require([\"d3\"], function(d3){\n",
       "      window.d3 = d3;\n",
       "      mpld3_load_lib(\"https://mpld3.github.io/js/mpld3.v0.5.10.js\", function(){\n",
       "         \n",
       "         mpld3.draw_figure(\"fig_el87032140672806411088267624024\", {\"width\": 720.0, \"height\": 360.0, \"axes\": [{\"bbox\": [0.07072916666666666, 0.11611111111111105, 0.5804166666666667, 0.8094444444444444], \"xlim\": [16161.35, 20179.65], \"ylim\": [2.3499999999999996, 104.65], \"xdomain\": [[2014, 3, 1, 8, 24, 0, 0.0], [2025, 3, 1, 15, 36, 0, 0.0]], \"ydomain\": [2.3499999999999996, 104.65], \"xscale\": \"date\", \"yscale\": \"linear\", \"axes\": [{\"position\": \"bottom\", \"nticks\": 7, \"tickvalues\": null, \"tickformat_formatter\": \"\", \"tickformat\": null, \"scale\": \"linear\", \"fontsize\": 10.0, \"grid\": {\"gridOn\": true, \"color\": \"#B0B0B0\", \"dasharray\": \"none\", \"alpha\": 1.0}, \"visible\": true}, {\"position\": \"left\", \"nticks\": 7, \"tickvalues\": null, \"tickformat_formatter\": \"\", \"tickformat\": null, \"scale\": \"linear\", \"fontsize\": 10.0, \"grid\": {\"gridOn\": true, \"color\": \"#B0B0B0\", \"dasharray\": \"none\", \"alpha\": 1.0}, \"visible\": true}], \"axesbg\": \"#FFFFFF\", \"axesbgalpha\": null, \"zoomable\": true, \"id\": \"el87032140673078040128\", \"lines\": [{\"data\": \"data01\", \"xindex\": 0, \"yindex\": 1, \"coordinates\": \"data\", \"id\": \"el87032140672806441744\", \"color\": \"#1F77B4\", \"linewidth\": 1.5, \"dasharray\": \"none\", \"alpha\": 1, \"zorder\": 2, \"drawstyle\": \"default\"}, {\"data\": \"data01\", \"xindex\": 0, \"yindex\": 2, \"coordinates\": \"data\", \"id\": \"el87032140672799095920\", \"color\": \"#FF7F0E\", \"linewidth\": 1.5, \"dasharray\": \"none\", \"alpha\": 1, \"zorder\": 2, \"drawstyle\": \"default\"}, {\"data\": \"data01\", \"xindex\": 0, \"yindex\": 3, \"coordinates\": \"data\", \"id\": \"el87032140672799095296\", \"color\": \"#2CA02C\", \"linewidth\": 1.5, \"dasharray\": \"none\", \"alpha\": 1, \"zorder\": 2, \"drawstyle\": \"default\"}, {\"data\": \"data01\", \"xindex\": 0, \"yindex\": 4, \"coordinates\": \"data\", \"id\": \"el87032140672799093664\", \"color\": \"#D62728\", \"linewidth\": 1.5, \"dasharray\": \"none\", \"alpha\": 1, \"zorder\": 2, \"drawstyle\": \"default\"}, {\"data\": \"data01\", \"xindex\": 0, \"yindex\": 5, \"coordinates\": \"data\", \"id\": \"el87032140672797613696\", \"color\": \"#9467BD\", \"linewidth\": 1.5, \"dasharray\": \"none\", \"alpha\": 1, \"zorder\": 2, \"drawstyle\": \"default\"}, {\"data\": \"data02\", \"xindex\": 0, \"yindex\": 1, \"coordinates\": \"axes\", \"id\": \"el87032140672662758112\", \"color\": \"#1F77B4\", \"linewidth\": 1.5, \"dasharray\": \"none\", \"alpha\": 1, \"zorder\": 1000002.0, \"drawstyle\": \"default\"}, {\"data\": \"data02\", \"xindex\": 0, \"yindex\": 2, \"coordinates\": \"axes\", \"id\": \"el87032140672662759360\", \"color\": \"#FF7F0E\", \"linewidth\": 1.5, \"dasharray\": \"none\", \"alpha\": 1, \"zorder\": 1000002.0, \"drawstyle\": \"default\"}, {\"data\": \"data02\", \"xindex\": 0, \"yindex\": 3, \"coordinates\": \"axes\", \"id\": \"el87032140672945598224\", \"color\": \"#2CA02C\", \"linewidth\": 1.5, \"dasharray\": \"none\", \"alpha\": 1, \"zorder\": 1000002.0, \"drawstyle\": \"default\"}, {\"data\": \"data02\", \"xindex\": 0, \"yindex\": 4, \"coordinates\": \"axes\", \"id\": \"el87032140672945596304\", \"color\": \"#D62728\", \"linewidth\": 1.5, \"dasharray\": \"none\", \"alpha\": 1, \"zorder\": 1000002.0, \"drawstyle\": \"default\"}, {\"data\": \"data02\", \"xindex\": 0, \"yindex\": 5, \"coordinates\": \"axes\", \"id\": \"el87032140672799122288\", \"color\": \"#9467BD\", \"linewidth\": 1.5, \"dasharray\": \"none\", \"alpha\": 1, \"zorder\": 1000002.0, \"drawstyle\": \"default\"}], \"paths\": [{\"data\": \"data03\", \"xindex\": 0, \"yindex\": 1, \"coordinates\": \"axes\", \"pathcodes\": [\"M\", \"L\", \"S\", \"L\", \"S\", \"L\", \"S\", \"L\", \"S\", \"Z\"], \"id\": \"el87032140672797611776\", \"dasharray\": \"none\", \"alpha\": 0.8, \"facecolor\": \"rgba(255, 255, 255, 0.8)\", \"edgecolor\": \"rgba(204, 204, 204, 0.8)\", \"edgewidth\": 1.0, \"zorder\": 1000000.0}], \"markers\": [], \"texts\": [{\"text\": \"Time\", \"position\": [0.5, -0.07206588881262868], \"coordinates\": \"axes\", \"h_anchor\": \"middle\", \"v_baseline\": \"hanging\", \"rotation\": -0.0, \"fontsize\": 10.0, \"color\": \"#000000\", \"alpha\": 1, \"zorder\": 3, \"id\": \"el87032140672798945872\"}, {\"text\": \"Search Interest\", \"position\": [-0.07208662359416129, 0.5], \"coordinates\": \"axes\", \"h_anchor\": \"middle\", \"v_baseline\": \"auto\", \"rotation\": -90.0, \"fontsize\": 10.0, \"color\": \"#000000\", \"alpha\": 1, \"zorder\": 3, \"id\": \"el87032140672806444960\"}, {\"text\": \"Time Series of Influential Topics\", \"position\": [0.5, 1.0205902539464653], \"coordinates\": \"axes\", \"h_anchor\": \"middle\", \"v_baseline\": \"auto\", \"rotation\": -0.0, \"fontsize\": 12.0, \"color\": \"#000000\", \"alpha\": 1, \"zorder\": 3, \"id\": \"el87032140672662814432\"}, {\"text\": \"Influential: data protection: (Worldwide)\", \"position\": [1.0885379277339076, 0.9416609471516815], \"coordinates\": \"axes\", \"h_anchor\": \"start\", \"v_baseline\": \"auto\", \"rotation\": -0.0, \"fontsize\": 10.0, \"color\": \"#000000\", \"alpha\": 1, \"zorder\": 1000003.0, \"id\": \"el87032140672797613168\"}, {\"text\": \"Influential: open data: (Worldwide)\", \"position\": [1.0885379277339076, 0.8901853122855181], \"coordinates\": \"axes\", \"h_anchor\": \"start\", \"v_baseline\": \"auto\", \"rotation\": -0.0, \"fontsize\": 10.0, \"color\": \"#000000\", \"alpha\": 1, \"zorder\": 1000003.0, \"id\": \"el87032140672662757536\"}, {\"text\": \"Influential: data sharing: (Worldwide)\", \"position\": [1.0885379277339076, 0.8387096774193546], \"coordinates\": \"axes\", \"h_anchor\": \"start\", \"v_baseline\": \"auto\", \"rotation\": -0.0, \"fontsize\": 10.0, \"color\": \"#000000\", \"alpha\": 1, \"zorder\": 1000003.0, \"id\": \"el87032140672945595872\"}, {\"text\": \"Influential: data quality: (Worldwide)\", \"position\": [1.0885379277339076, 0.7872340425531913], \"coordinates\": \"axes\", \"h_anchor\": \"start\", \"v_baseline\": \"auto\", \"rotation\": -0.0, \"fontsize\": 10.0, \"color\": \"#000000\", \"alpha\": 1, \"zorder\": 1000003.0, \"id\": \"el87032140672945598176\"}, {\"text\": \"Influential: data privacy: (Worldwide)\", \"position\": [1.0885379277339076, 0.7357584076870279], \"coordinates\": \"axes\", \"h_anchor\": \"start\", \"v_baseline\": \"auto\", \"rotation\": -0.0, \"fontsize\": 10.0, \"color\": \"#000000\", \"alpha\": 1, \"zorder\": 1000003.0, \"id\": \"el87032140672799124256\"}], \"collections\": [], \"images\": [], \"sharex\": [], \"sharey\": []}], \"data\": {\"data01\": [[16344.0, 41.0, 40.0, 8.0, 12.0, 8.0], [16375.0, 41.0, 40.0, 7.0, 12.0, 8.0], [16405.0, 32.0, 34.0, 7.0, 10.0, 7.0], [16436.0, 39.0, 38.0, 8.0, 11.0, 9.0], [16467.0, 42.0, 46.0, 8.0, 12.0, 9.0], [16495.0, 40.0, 42.0, 8.0, 12.0, 9.0], [16526.0, 37.0, 41.0, 8.0, 12.0, 8.0], [16556.0, 35.0, 45.0, 7.0, 12.0, 7.0], [16587.0, 34.0, 40.0, 7.0, 11.0, 7.0], [16617.0, 31.0, 38.0, 7.0, 11.0, 7.0], [16648.0, 27.0, 37.0, 8.0, 10.0, 8.0], [16679.0, 37.0, 44.0, 8.0, 12.0, 8.0], [16709.0, 41.0, 46.0, 9.0, 12.0, 10.0], [16740.0, 40.0, 42.0, 8.0, 12.0, 9.0], [16770.0, 32.0, 37.0, 8.0, 10.0, 7.0], [16801.0, 34.0, 36.0, 8.0, 12.0, 9.0], [16832.0, 39.0, 42.0, 9.0, 13.0, 9.0], [16861.0, 35.0, 40.0, 8.0, 13.0, 9.0], [16892.0, 38.0, 39.0, 8.0, 12.0, 9.0], [16922.0, 35.0, 38.0, 8.0, 12.0, 9.0], [16953.0, 33.0, 37.0, 8.0, 12.0, 8.0], [16983.0, 29.0, 35.0, 7.0, 10.0, 8.0], [17014.0, 27.0, 33.0, 9.0, 11.0, 8.0], [17045.0, 33.0, 40.0, 9.0, 12.0, 9.0], [17075.0, 36.0, 39.0, 9.0, 13.0, 9.0], [17106.0, 37.0, 40.0, 8.0, 12.0, 9.0], [17136.0, 31.0, 36.0, 7.0, 11.0, 8.0], [17167.0, 37.0, 40.0, 8.0, 12.0, 10.0], [17198.0, 40.0, 43.0, 9.0, 13.0, 10.0], [17226.0, 41.0, 47.0, 9.0, 16.0, 12.0], [17257.0, 37.0, 42.0, 8.0, 13.0, 11.0], [17287.0, 40.0, 41.0, 8.0, 13.0, 10.0], [17318.0, 41.0, 40.0, 7.0, 12.0, 10.0], [17348.0, 36.0, 37.0, 8.0, 11.0, 9.0], [17379.0, 38.0, 36.0, 7.0, 13.0, 9.0], [17410.0, 43.0, 41.0, 8.0, 13.0, 11.0], [17440.0, 49.0, 44.0, 9.0, 14.0, 12.0], [17471.0, 50.0, 40.0, 9.0, 14.0, 12.0], [17501.0, 39.0, 33.0, 8.0, 11.0, 11.0], [17532.0, 53.0, 40.0, 9.0, 11.0, 14.0], [17563.0, 58.0, 41.0, 9.0, 14.0, 14.0], [17591.0, 63.0, 42.0, 11.0, 13.0, 15.0], [17622.0, 68.0, 39.0, 10.0, 13.0, 20.0], [17652.0, 100.0, 38.0, 9.0, 14.0, 24.0], [17683.0, 54.0, 37.0, 9.0, 11.0, 17.0], [17713.0, 41.0, 35.0, 9.0, 12.0, 15.0], [17744.0, 41.0, 36.0, 8.0, 12.0, 14.0], [17775.0, 43.0, 40.0, 10.0, 13.0, 14.0], [17805.0, 44.0, 40.0, 9.0, 15.0, 17.0], [17836.0, 45.0, 37.0, 9.0, 14.0, 17.0], [17866.0, 34.0, 32.0, 9.0, 11.0, 13.0], [17897.0, 42.0, 38.0, 8.0, 12.0, 18.0], [17928.0, 44.0, 41.0, 9.0, 15.0, 17.0], [17956.0, 43.0, 37.0, 9.0, 15.0, 18.0], [17987.0, 40.0, 40.0, 9.0, 14.0, 16.0], [18017.0, 38.0, 36.0, 9.0, 13.0, 16.0], [18048.0, 37.0, 37.0, 7.0, 13.0, 16.0], [18078.0, 37.0, 35.0, 8.0, 12.0, 15.0], [18109.0, 36.0, 34.0, 8.0, 12.0, 15.0], [18140.0, 39.0, 40.0, 9.0, 15.0, 19.0], [18170.0, 42.0, 41.0, 9.0, 15.0, 20.0], [18201.0, 42.0, 40.0, 9.0, 15.0, 19.0], [18231.0, 39.0, 34.0, 7.0, 12.0, 17.0], [18262.0, 45.0, 38.0, 10.0, 14.0, 21.0], [18293.0, 42.0, 41.0, 10.0, 16.0, 21.0], [18322.0, 37.0, 40.0, 9.0, 14.0, 18.0], [18353.0, 35.0, 41.0, 10.0, 15.0, 19.0], [18383.0, 33.0, 38.0, 9.0, 15.0, 18.0], [18414.0, 35.0, 40.0, 10.0, 15.0, 18.0], [18444.0, 36.0, 41.0, 9.0, 15.0, 18.0], [18475.0, 31.0, 35.0, 9.0, 15.0, 18.0], [18506.0, 39.0, 43.0, 9.0, 18.0, 21.0], [18536.0, 37.0, 38.0, 10.0, 18.0, 19.0], [18567.0, 35.0, 36.0, 9.0, 15.0, 16.0], [18597.0, 31.0, 33.0, 8.0, 14.0, 15.0], [18628.0, 34.0, 31.0, 11.0, 13.0, 20.0], [18659.0, 37.0, 36.0, 11.0, 16.0, 20.0], [18687.0, 40.0, 40.0, 10.0, 16.0, 21.0], [18718.0, 36.0, 34.0, 9.0, 17.0, 19.0], [18748.0, 36.0, 35.0, 9.0, 16.0, 20.0], [18779.0, 37.0, 38.0, 22.0, 17.0, 19.0], [18809.0, 34.0, 33.0, 10.0, 15.0, 18.0], [18840.0, 30.0, 31.0, 9.0, 14.0, 18.0], [18871.0, 37.0, 37.0, 10.0, 18.0, 22.0], [18901.0, 37.0, 39.0, 10.0, 18.0, 22.0], [18932.0, 38.0, 36.0, 10.0, 17.0, 21.0], [18962.0, 33.0, 34.0, 9.0, 15.0, 19.0], [18993.0, 41.0, 48.0, 11.0, 20.0, 28.0], [19024.0, 45.0, 54.0, 14.0, 27.0, 29.0], [19052.0, 44.0, 55.0, 16.0, 26.0, 30.0], [19083.0, 38.0, 52.0, 14.0, 25.0, 30.0], [19113.0, 38.0, 49.0, 13.0, 24.0, 29.0], [19144.0, 37.0, 48.0, 13.0, 22.0, 26.0], [19174.0, 34.0, 44.0, 11.0, 19.0, 24.0], [19205.0, 34.0, 44.0, 12.0, 19.0, 24.0], [19236.0, 39.0, 52.0, 14.0, 23.0, 28.0], [19266.0, 40.0, 52.0, 13.0, 22.0, 32.0], [19297.0, 41.0, 48.0, 14.0, 22.0, 29.0], [19327.0, 37.0, 45.0, 12.0, 20.0, 24.0], [19358.0, 39.0, 49.0, 13.0, 21.0, 29.0], [19389.0, 40.0, 54.0, 15.0, 23.0, 29.0], [19417.0, 40.0, 55.0, 14.0, 23.0, 31.0], [19448.0, 35.0, 49.0, 14.0, 22.0, 29.0], [19478.0, 37.0, 49.0, 14.0, 23.0, 32.0], [19509.0, 40.0, 48.0, 14.0, 22.0, 28.0], [19539.0, 39.0, 45.0, 13.0, 20.0, 31.0], [19570.0, 46.0, 46.0, 13.0, 20.0, 33.0], [19601.0, 42.0, 51.0, 15.0, 24.0, 36.0], [19631.0, 44.0, 51.0, 14.0, 23.0, 36.0], [19662.0, 42.0, 50.0, 14.0, 23.0, 34.0], [19692.0, 35.0, 44.0, 12.0, 20.0, 29.0], [19723.0, 42.0, 54.0, 13.0, 23.0, 34.0], [19754.0, 48.0, 58.0, 15.0, 30.0, 39.0], [19783.0, 46.0, 58.0, 15.0, 28.0, 37.0], [19814.0, 45.0, 52.0, 16.0, 27.0, 38.0], [19844.0, 43.0, 52.0, 15.0, 25.0, 37.0], [19875.0, 43.0, 49.0, 14.0, 25.0, 33.0], [19905.0, 41.0, 48.0, 12.0, 24.0, 33.0], [19936.0, 41.0, 47.0, 14.0, 25.0, 35.0], [19967.0, 45.0, 53.0, 15.0, 27.0, 39.0], [19997.0, 55.0, 60.0, 17.0, 30.0, 44.0]], \"data02\": [[1.0215362526920315, 0.9536719286204529, 0.9021962937542896, 0.8507206588881261, 0.7992450240219627, 0.7477693891557994], [1.0693945920076573, 0.9536719286204529, 0.9021962937542896, 0.8507206588881261, 0.7992450240219627, 0.7477693891557994]], \"data03\": [[1.016750418760469, 0.7151681537405626], [1.5704115817181146, 0.7151681537405626], [1.575197415649677, 0.7151681537405626], [1.575197415649677, 0.7220315717227177], [1.575197415649677, 0.9759780370624569], [1.575197415649677, 0.9828414550446121], [1.5704115817181146, 0.9828414550446121], [1.016750418760469, 0.9828414550446121], [1.0119645848289065, 0.9828414550446121], [1.0119645848289065, 0.9759780370624569], [1.0119645848289065, 0.7220315717227177], [1.0119645848289065, 0.7151681537405626], [1.016750418760469, 0.7151681537405626]]}, \"id\": \"el87032140672806411088\", \"plugins\": [{\"type\": \"reset\"}, {\"type\": \"zoom\", \"button\": true, \"enabled\": false}, {\"type\": \"boxzoom\", \"button\": true, \"enabled\": false}]});\n",
       "      });\n",
       "    });\n",
       "}else{\n",
       "    // require.js not available: dynamically load d3 & mpld3\n",
       "    mpld3_load_lib(\"https://d3js.org/d3.v5.js\", function(){\n",
       "         mpld3_load_lib(\"https://mpld3.github.io/js/mpld3.v0.5.10.js\", function(){\n",
       "                 \n",
       "                 mpld3.draw_figure(\"fig_el87032140672806411088267624024\", {\"width\": 720.0, \"height\": 360.0, \"axes\": [{\"bbox\": [0.07072916666666666, 0.11611111111111105, 0.5804166666666667, 0.8094444444444444], \"xlim\": [16161.35, 20179.65], \"ylim\": [2.3499999999999996, 104.65], \"xdomain\": [[2014, 3, 1, 8, 24, 0, 0.0], [2025, 3, 1, 15, 36, 0, 0.0]], \"ydomain\": [2.3499999999999996, 104.65], \"xscale\": \"date\", \"yscale\": \"linear\", \"axes\": [{\"position\": \"bottom\", \"nticks\": 7, \"tickvalues\": null, \"tickformat_formatter\": \"\", \"tickformat\": null, \"scale\": \"linear\", \"fontsize\": 10.0, \"grid\": {\"gridOn\": true, \"color\": \"#B0B0B0\", \"dasharray\": \"none\", \"alpha\": 1.0}, \"visible\": true}, {\"position\": \"left\", \"nticks\": 7, \"tickvalues\": null, \"tickformat_formatter\": \"\", \"tickformat\": null, \"scale\": \"linear\", \"fontsize\": 10.0, \"grid\": {\"gridOn\": true, \"color\": \"#B0B0B0\", \"dasharray\": \"none\", \"alpha\": 1.0}, \"visible\": true}], \"axesbg\": \"#FFFFFF\", \"axesbgalpha\": null, \"zoomable\": true, \"id\": \"el87032140673078040128\", \"lines\": [{\"data\": \"data01\", \"xindex\": 0, \"yindex\": 1, \"coordinates\": \"data\", \"id\": \"el87032140672806441744\", \"color\": \"#1F77B4\", \"linewidth\": 1.5, \"dasharray\": \"none\", \"alpha\": 1, \"zorder\": 2, \"drawstyle\": \"default\"}, {\"data\": \"data01\", \"xindex\": 0, \"yindex\": 2, \"coordinates\": \"data\", \"id\": \"el87032140672799095920\", \"color\": \"#FF7F0E\", \"linewidth\": 1.5, \"dasharray\": \"none\", \"alpha\": 1, \"zorder\": 2, \"drawstyle\": \"default\"}, {\"data\": \"data01\", \"xindex\": 0, \"yindex\": 3, \"coordinates\": \"data\", \"id\": \"el87032140672799095296\", \"color\": \"#2CA02C\", \"linewidth\": 1.5, \"dasharray\": \"none\", \"alpha\": 1, \"zorder\": 2, \"drawstyle\": \"default\"}, {\"data\": \"data01\", \"xindex\": 0, \"yindex\": 4, \"coordinates\": \"data\", \"id\": \"el87032140672799093664\", \"color\": \"#D62728\", \"linewidth\": 1.5, \"dasharray\": \"none\", \"alpha\": 1, \"zorder\": 2, \"drawstyle\": \"default\"}, {\"data\": \"data01\", \"xindex\": 0, \"yindex\": 5, \"coordinates\": \"data\", \"id\": \"el87032140672797613696\", \"color\": \"#9467BD\", \"linewidth\": 1.5, \"dasharray\": \"none\", \"alpha\": 1, \"zorder\": 2, \"drawstyle\": \"default\"}, {\"data\": \"data02\", \"xindex\": 0, \"yindex\": 1, \"coordinates\": \"axes\", \"id\": \"el87032140672662758112\", \"color\": \"#1F77B4\", \"linewidth\": 1.5, \"dasharray\": \"none\", \"alpha\": 1, \"zorder\": 1000002.0, \"drawstyle\": \"default\"}, {\"data\": \"data02\", \"xindex\": 0, \"yindex\": 2, \"coordinates\": \"axes\", \"id\": \"el87032140672662759360\", \"color\": \"#FF7F0E\", \"linewidth\": 1.5, \"dasharray\": \"none\", \"alpha\": 1, \"zorder\": 1000002.0, \"drawstyle\": \"default\"}, {\"data\": \"data02\", \"xindex\": 0, \"yindex\": 3, \"coordinates\": \"axes\", \"id\": \"el87032140672945598224\", \"color\": \"#2CA02C\", \"linewidth\": 1.5, \"dasharray\": \"none\", \"alpha\": 1, \"zorder\": 1000002.0, \"drawstyle\": \"default\"}, {\"data\": \"data02\", \"xindex\": 0, \"yindex\": 4, \"coordinates\": \"axes\", \"id\": \"el87032140672945596304\", \"color\": \"#D62728\", \"linewidth\": 1.5, \"dasharray\": \"none\", \"alpha\": 1, \"zorder\": 1000002.0, \"drawstyle\": \"default\"}, {\"data\": \"data02\", \"xindex\": 0, \"yindex\": 5, \"coordinates\": \"axes\", \"id\": \"el87032140672799122288\", \"color\": \"#9467BD\", \"linewidth\": 1.5, \"dasharray\": \"none\", \"alpha\": 1, \"zorder\": 1000002.0, \"drawstyle\": \"default\"}], \"paths\": [{\"data\": \"data03\", \"xindex\": 0, \"yindex\": 1, \"coordinates\": \"axes\", \"pathcodes\": [\"M\", \"L\", \"S\", \"L\", \"S\", \"L\", \"S\", \"L\", \"S\", \"Z\"], \"id\": \"el87032140672797611776\", \"dasharray\": \"none\", \"alpha\": 0.8, \"facecolor\": \"rgba(255, 255, 255, 0.8)\", \"edgecolor\": \"rgba(204, 204, 204, 0.8)\", \"edgewidth\": 1.0, \"zorder\": 1000000.0}], \"markers\": [], \"texts\": [{\"text\": \"Time\", \"position\": [0.5, -0.07206588881262868], \"coordinates\": \"axes\", \"h_anchor\": \"middle\", \"v_baseline\": \"hanging\", \"rotation\": -0.0, \"fontsize\": 10.0, \"color\": \"#000000\", \"alpha\": 1, \"zorder\": 3, \"id\": \"el87032140672798945872\"}, {\"text\": \"Search Interest\", \"position\": [-0.07208662359416129, 0.5], \"coordinates\": \"axes\", \"h_anchor\": \"middle\", \"v_baseline\": \"auto\", \"rotation\": -90.0, \"fontsize\": 10.0, \"color\": \"#000000\", \"alpha\": 1, \"zorder\": 3, \"id\": \"el87032140672806444960\"}, {\"text\": \"Time Series of Influential Topics\", \"position\": [0.5, 1.0205902539464653], \"coordinates\": \"axes\", \"h_anchor\": \"middle\", \"v_baseline\": \"auto\", \"rotation\": -0.0, \"fontsize\": 12.0, \"color\": \"#000000\", \"alpha\": 1, \"zorder\": 3, \"id\": \"el87032140672662814432\"}, {\"text\": \"Influential: data protection: (Worldwide)\", \"position\": [1.0885379277339076, 0.9416609471516815], \"coordinates\": \"axes\", \"h_anchor\": \"start\", \"v_baseline\": \"auto\", \"rotation\": -0.0, \"fontsize\": 10.0, \"color\": \"#000000\", \"alpha\": 1, \"zorder\": 1000003.0, \"id\": \"el87032140672797613168\"}, {\"text\": \"Influential: open data: (Worldwide)\", \"position\": [1.0885379277339076, 0.8901853122855181], \"coordinates\": \"axes\", \"h_anchor\": \"start\", \"v_baseline\": \"auto\", \"rotation\": -0.0, \"fontsize\": 10.0, \"color\": \"#000000\", \"alpha\": 1, \"zorder\": 1000003.0, \"id\": \"el87032140672662757536\"}, {\"text\": \"Influential: data sharing: (Worldwide)\", \"position\": [1.0885379277339076, 0.8387096774193546], \"coordinates\": \"axes\", \"h_anchor\": \"start\", \"v_baseline\": \"auto\", \"rotation\": -0.0, \"fontsize\": 10.0, \"color\": \"#000000\", \"alpha\": 1, \"zorder\": 1000003.0, \"id\": \"el87032140672945595872\"}, {\"text\": \"Influential: data quality: (Worldwide)\", \"position\": [1.0885379277339076, 0.7872340425531913], \"coordinates\": \"axes\", \"h_anchor\": \"start\", \"v_baseline\": \"auto\", \"rotation\": -0.0, \"fontsize\": 10.0, \"color\": \"#000000\", \"alpha\": 1, \"zorder\": 1000003.0, \"id\": \"el87032140672945598176\"}, {\"text\": \"Influential: data privacy: (Worldwide)\", \"position\": [1.0885379277339076, 0.7357584076870279], \"coordinates\": \"axes\", \"h_anchor\": \"start\", \"v_baseline\": \"auto\", \"rotation\": -0.0, \"fontsize\": 10.0, \"color\": \"#000000\", \"alpha\": 1, \"zorder\": 1000003.0, \"id\": \"el87032140672799124256\"}], \"collections\": [], \"images\": [], \"sharex\": [], \"sharey\": []}], \"data\": {\"data01\": [[16344.0, 41.0, 40.0, 8.0, 12.0, 8.0], [16375.0, 41.0, 40.0, 7.0, 12.0, 8.0], [16405.0, 32.0, 34.0, 7.0, 10.0, 7.0], [16436.0, 39.0, 38.0, 8.0, 11.0, 9.0], [16467.0, 42.0, 46.0, 8.0, 12.0, 9.0], [16495.0, 40.0, 42.0, 8.0, 12.0, 9.0], [16526.0, 37.0, 41.0, 8.0, 12.0, 8.0], [16556.0, 35.0, 45.0, 7.0, 12.0, 7.0], [16587.0, 34.0, 40.0, 7.0, 11.0, 7.0], [16617.0, 31.0, 38.0, 7.0, 11.0, 7.0], [16648.0, 27.0, 37.0, 8.0, 10.0, 8.0], [16679.0, 37.0, 44.0, 8.0, 12.0, 8.0], [16709.0, 41.0, 46.0, 9.0, 12.0, 10.0], [16740.0, 40.0, 42.0, 8.0, 12.0, 9.0], [16770.0, 32.0, 37.0, 8.0, 10.0, 7.0], [16801.0, 34.0, 36.0, 8.0, 12.0, 9.0], [16832.0, 39.0, 42.0, 9.0, 13.0, 9.0], [16861.0, 35.0, 40.0, 8.0, 13.0, 9.0], [16892.0, 38.0, 39.0, 8.0, 12.0, 9.0], [16922.0, 35.0, 38.0, 8.0, 12.0, 9.0], [16953.0, 33.0, 37.0, 8.0, 12.0, 8.0], [16983.0, 29.0, 35.0, 7.0, 10.0, 8.0], [17014.0, 27.0, 33.0, 9.0, 11.0, 8.0], [17045.0, 33.0, 40.0, 9.0, 12.0, 9.0], [17075.0, 36.0, 39.0, 9.0, 13.0, 9.0], [17106.0, 37.0, 40.0, 8.0, 12.0, 9.0], [17136.0, 31.0, 36.0, 7.0, 11.0, 8.0], [17167.0, 37.0, 40.0, 8.0, 12.0, 10.0], [17198.0, 40.0, 43.0, 9.0, 13.0, 10.0], [17226.0, 41.0, 47.0, 9.0, 16.0, 12.0], [17257.0, 37.0, 42.0, 8.0, 13.0, 11.0], [17287.0, 40.0, 41.0, 8.0, 13.0, 10.0], [17318.0, 41.0, 40.0, 7.0, 12.0, 10.0], [17348.0, 36.0, 37.0, 8.0, 11.0, 9.0], [17379.0, 38.0, 36.0, 7.0, 13.0, 9.0], [17410.0, 43.0, 41.0, 8.0, 13.0, 11.0], [17440.0, 49.0, 44.0, 9.0, 14.0, 12.0], [17471.0, 50.0, 40.0, 9.0, 14.0, 12.0], [17501.0, 39.0, 33.0, 8.0, 11.0, 11.0], [17532.0, 53.0, 40.0, 9.0, 11.0, 14.0], [17563.0, 58.0, 41.0, 9.0, 14.0, 14.0], [17591.0, 63.0, 42.0, 11.0, 13.0, 15.0], [17622.0, 68.0, 39.0, 10.0, 13.0, 20.0], [17652.0, 100.0, 38.0, 9.0, 14.0, 24.0], [17683.0, 54.0, 37.0, 9.0, 11.0, 17.0], [17713.0, 41.0, 35.0, 9.0, 12.0, 15.0], [17744.0, 41.0, 36.0, 8.0, 12.0, 14.0], [17775.0, 43.0, 40.0, 10.0, 13.0, 14.0], [17805.0, 44.0, 40.0, 9.0, 15.0, 17.0], [17836.0, 45.0, 37.0, 9.0, 14.0, 17.0], [17866.0, 34.0, 32.0, 9.0, 11.0, 13.0], [17897.0, 42.0, 38.0, 8.0, 12.0, 18.0], [17928.0, 44.0, 41.0, 9.0, 15.0, 17.0], [17956.0, 43.0, 37.0, 9.0, 15.0, 18.0], [17987.0, 40.0, 40.0, 9.0, 14.0, 16.0], [18017.0, 38.0, 36.0, 9.0, 13.0, 16.0], [18048.0, 37.0, 37.0, 7.0, 13.0, 16.0], [18078.0, 37.0, 35.0, 8.0, 12.0, 15.0], [18109.0, 36.0, 34.0, 8.0, 12.0, 15.0], [18140.0, 39.0, 40.0, 9.0, 15.0, 19.0], [18170.0, 42.0, 41.0, 9.0, 15.0, 20.0], [18201.0, 42.0, 40.0, 9.0, 15.0, 19.0], [18231.0, 39.0, 34.0, 7.0, 12.0, 17.0], [18262.0, 45.0, 38.0, 10.0, 14.0, 21.0], [18293.0, 42.0, 41.0, 10.0, 16.0, 21.0], [18322.0, 37.0, 40.0, 9.0, 14.0, 18.0], [18353.0, 35.0, 41.0, 10.0, 15.0, 19.0], [18383.0, 33.0, 38.0, 9.0, 15.0, 18.0], [18414.0, 35.0, 40.0, 10.0, 15.0, 18.0], [18444.0, 36.0, 41.0, 9.0, 15.0, 18.0], [18475.0, 31.0, 35.0, 9.0, 15.0, 18.0], [18506.0, 39.0, 43.0, 9.0, 18.0, 21.0], [18536.0, 37.0, 38.0, 10.0, 18.0, 19.0], [18567.0, 35.0, 36.0, 9.0, 15.0, 16.0], [18597.0, 31.0, 33.0, 8.0, 14.0, 15.0], [18628.0, 34.0, 31.0, 11.0, 13.0, 20.0], [18659.0, 37.0, 36.0, 11.0, 16.0, 20.0], [18687.0, 40.0, 40.0, 10.0, 16.0, 21.0], [18718.0, 36.0, 34.0, 9.0, 17.0, 19.0], [18748.0, 36.0, 35.0, 9.0, 16.0, 20.0], [18779.0, 37.0, 38.0, 22.0, 17.0, 19.0], [18809.0, 34.0, 33.0, 10.0, 15.0, 18.0], [18840.0, 30.0, 31.0, 9.0, 14.0, 18.0], [18871.0, 37.0, 37.0, 10.0, 18.0, 22.0], [18901.0, 37.0, 39.0, 10.0, 18.0, 22.0], [18932.0, 38.0, 36.0, 10.0, 17.0, 21.0], [18962.0, 33.0, 34.0, 9.0, 15.0, 19.0], [18993.0, 41.0, 48.0, 11.0, 20.0, 28.0], [19024.0, 45.0, 54.0, 14.0, 27.0, 29.0], [19052.0, 44.0, 55.0, 16.0, 26.0, 30.0], [19083.0, 38.0, 52.0, 14.0, 25.0, 30.0], [19113.0, 38.0, 49.0, 13.0, 24.0, 29.0], [19144.0, 37.0, 48.0, 13.0, 22.0, 26.0], [19174.0, 34.0, 44.0, 11.0, 19.0, 24.0], [19205.0, 34.0, 44.0, 12.0, 19.0, 24.0], [19236.0, 39.0, 52.0, 14.0, 23.0, 28.0], [19266.0, 40.0, 52.0, 13.0, 22.0, 32.0], [19297.0, 41.0, 48.0, 14.0, 22.0, 29.0], [19327.0, 37.0, 45.0, 12.0, 20.0, 24.0], [19358.0, 39.0, 49.0, 13.0, 21.0, 29.0], [19389.0, 40.0, 54.0, 15.0, 23.0, 29.0], [19417.0, 40.0, 55.0, 14.0, 23.0, 31.0], [19448.0, 35.0, 49.0, 14.0, 22.0, 29.0], [19478.0, 37.0, 49.0, 14.0, 23.0, 32.0], [19509.0, 40.0, 48.0, 14.0, 22.0, 28.0], [19539.0, 39.0, 45.0, 13.0, 20.0, 31.0], [19570.0, 46.0, 46.0, 13.0, 20.0, 33.0], [19601.0, 42.0, 51.0, 15.0, 24.0, 36.0], [19631.0, 44.0, 51.0, 14.0, 23.0, 36.0], [19662.0, 42.0, 50.0, 14.0, 23.0, 34.0], [19692.0, 35.0, 44.0, 12.0, 20.0, 29.0], [19723.0, 42.0, 54.0, 13.0, 23.0, 34.0], [19754.0, 48.0, 58.0, 15.0, 30.0, 39.0], [19783.0, 46.0, 58.0, 15.0, 28.0, 37.0], [19814.0, 45.0, 52.0, 16.0, 27.0, 38.0], [19844.0, 43.0, 52.0, 15.0, 25.0, 37.0], [19875.0, 43.0, 49.0, 14.0, 25.0, 33.0], [19905.0, 41.0, 48.0, 12.0, 24.0, 33.0], [19936.0, 41.0, 47.0, 14.0, 25.0, 35.0], [19967.0, 45.0, 53.0, 15.0, 27.0, 39.0], [19997.0, 55.0, 60.0, 17.0, 30.0, 44.0]], \"data02\": [[1.0215362526920315, 0.9536719286204529, 0.9021962937542896, 0.8507206588881261, 0.7992450240219627, 0.7477693891557994], [1.0693945920076573, 0.9536719286204529, 0.9021962937542896, 0.8507206588881261, 0.7992450240219627, 0.7477693891557994]], \"data03\": [[1.016750418760469, 0.7151681537405626], [1.5704115817181146, 0.7151681537405626], [1.575197415649677, 0.7151681537405626], [1.575197415649677, 0.7220315717227177], [1.575197415649677, 0.9759780370624569], [1.575197415649677, 0.9828414550446121], [1.5704115817181146, 0.9828414550446121], [1.016750418760469, 0.9828414550446121], [1.0119645848289065, 0.9828414550446121], [1.0119645848289065, 0.9759780370624569], [1.0119645848289065, 0.7220315717227177], [1.0119645848289065, 0.7151681537405626], [1.016750418760469, 0.7151681537405626]]}, \"id\": \"el87032140672806411088\", \"plugins\": [{\"type\": \"reset\"}, {\"type\": \"zoom\", \"button\": true, \"enabled\": false}, {\"type\": \"boxzoom\", \"button\": true, \"enabled\": false}]});\n",
       "            })\n",
       "         });\n",
       "}\n",
       "</script>"
      ],
      "text/plain": [
       "<IPython.core.display.HTML object>"
      ]
     },
     "metadata": {},
     "output_type": "display_data"
    }
   ],
   "source": [
    "display(HTML(filename=os.path.join('static', 'influential_topics.html')))"
   ]
  },
  {
   "cell_type": "code",
   "execution_count": 9,
   "id": "4a0be98f-e61c-4995-9bfc-5d89d88d8ba0",
   "metadata": {
    "jupyter": {
     "source_hidden": true
    },
    "tags": []
   },
   "outputs": [
    {
     "data": {
      "text/html": [
       "\n",
       "\n",
       "<style>\n",
       "\n",
       "</style>\n",
       "\n",
       "<div id=\"fig_el870321406730890794242922781255\"></div>\n",
       "<script>\n",
       "function mpld3_load_lib(url, callback){\n",
       "  var s = document.createElement('script');\n",
       "  s.src = url;\n",
       "  s.async = true;\n",
       "  s.onreadystatechange = s.onload = callback;\n",
       "  s.onerror = function(){console.warn(\"failed to load library \" + url);};\n",
       "  document.getElementsByTagName(\"head\")[0].appendChild(s);\n",
       "}\n",
       "\n",
       "if(typeof(mpld3) !== \"undefined\" && mpld3._mpld3IsLoaded){\n",
       "   // already loaded: just create the figure\n",
       "   !function(mpld3){\n",
       "       \n",
       "       mpld3.draw_figure(\"fig_el870321406730890794242922781255\", {\"width\": 720.0, \"height\": 360.0, \"axes\": [{\"bbox\": [0.07072916666666666, 0.11611111111111105, 0.5701736111111112, 0.8094444444444444], \"xlim\": [16161.35, 20179.65], \"ylim\": [-3.95, 104.95], \"xdomain\": [[2014, 3, 1, 8, 24, 0, 0.0], [2025, 3, 1, 15, 36, 0, 0.0]], \"ydomain\": [-3.95, 104.95], \"xscale\": \"date\", \"yscale\": \"linear\", \"axes\": [{\"position\": \"bottom\", \"nticks\": 7, \"tickvalues\": null, \"tickformat_formatter\": \"\", \"tickformat\": null, \"scale\": \"linear\", \"fontsize\": 10.0, \"grid\": {\"gridOn\": true, \"color\": \"#B0B0B0\", \"dasharray\": \"none\", \"alpha\": 1.0}, \"visible\": true}, {\"position\": \"left\", \"nticks\": 8, \"tickvalues\": null, \"tickformat_formatter\": \"\", \"tickformat\": null, \"scale\": \"linear\", \"fontsize\": 10.0, \"grid\": {\"gridOn\": true, \"color\": \"#B0B0B0\", \"dasharray\": \"none\", \"alpha\": 1.0}, \"visible\": true}], \"axesbg\": \"#FFFFFF\", \"axesbgalpha\": null, \"zoomable\": true, \"id\": \"el87032140672946412224\", \"lines\": [{\"data\": \"data01\", \"xindex\": 0, \"yindex\": 1, \"coordinates\": \"data\", \"id\": \"el87032140673349187328\", \"color\": \"#1F77B4\", \"linewidth\": 1.5, \"dasharray\": \"none\", \"alpha\": 1, \"zorder\": 2, \"drawstyle\": \"default\"}, {\"data\": \"data01\", \"xindex\": 0, \"yindex\": 2, \"coordinates\": \"data\", \"id\": \"el87032140672946487008\", \"color\": \"#FF7F0E\", \"linewidth\": 1.5, \"dasharray\": \"none\", \"alpha\": 1, \"zorder\": 2, \"drawstyle\": \"default\"}, {\"data\": \"data01\", \"xindex\": 0, \"yindex\": 3, \"coordinates\": \"data\", \"id\": \"el87032140673620412544\", \"color\": \"#2CA02C\", \"linewidth\": 1.5, \"dasharray\": \"none\", \"alpha\": 1, \"zorder\": 2, \"drawstyle\": \"default\"}, {\"data\": \"data01\", \"xindex\": 0, \"yindex\": 4, \"coordinates\": \"data\", \"id\": \"el87032140673620411056\", \"color\": \"#D62728\", \"linewidth\": 1.5, \"dasharray\": \"none\", \"alpha\": 1, \"zorder\": 2, \"drawstyle\": \"default\"}, {\"data\": \"data01\", \"xindex\": 0, \"yindex\": 5, \"coordinates\": \"data\", \"id\": \"el87032140673620412352\", \"color\": \"#9467BD\", \"linewidth\": 1.5, \"dasharray\": \"none\", \"alpha\": 1, \"zorder\": 2, \"drawstyle\": \"default\"}, {\"data\": \"data02\", \"xindex\": 0, \"yindex\": 1, \"coordinates\": \"axes\", \"id\": \"el87032140673102878368\", \"color\": \"#1F77B4\", \"linewidth\": 1.5, \"dasharray\": \"none\", \"alpha\": 1, \"zorder\": 1000002.0, \"drawstyle\": \"default\"}, {\"data\": \"data02\", \"xindex\": 0, \"yindex\": 2, \"coordinates\": \"axes\", \"id\": \"el87032140672797232144\", \"color\": \"#FF7F0E\", \"linewidth\": 1.5, \"dasharray\": \"none\", \"alpha\": 1, \"zorder\": 1000002.0, \"drawstyle\": \"default\"}, {\"data\": \"data02\", \"xindex\": 0, \"yindex\": 3, \"coordinates\": \"axes\", \"id\": \"el87032140672797229936\", \"color\": \"#2CA02C\", \"linewidth\": 1.5, \"dasharray\": \"none\", \"alpha\": 1, \"zorder\": 1000002.0, \"drawstyle\": \"default\"}, {\"data\": \"data02\", \"xindex\": 0, \"yindex\": 4, \"coordinates\": \"axes\", \"id\": \"el87032140672937412832\", \"color\": \"#D62728\", \"linewidth\": 1.5, \"dasharray\": \"none\", \"alpha\": 1, \"zorder\": 1000002.0, \"drawstyle\": \"default\"}, {\"data\": \"data02\", \"xindex\": 0, \"yindex\": 5, \"coordinates\": \"axes\", \"id\": \"el87032140673076667680\", \"color\": \"#9467BD\", \"linewidth\": 1.5, \"dasharray\": \"none\", \"alpha\": 1, \"zorder\": 1000002.0, \"drawstyle\": \"default\"}], \"paths\": [{\"data\": \"data03\", \"xindex\": 0, \"yindex\": 1, \"coordinates\": \"axes\", \"pathcodes\": [\"M\", \"L\", \"S\", \"L\", \"S\", \"L\", \"S\", \"L\", \"S\", \"Z\"], \"id\": \"el87032140672937040816\", \"dasharray\": \"none\", \"alpha\": 0.8, \"facecolor\": \"rgba(255, 255, 255, 0.8)\", \"edgecolor\": \"rgba(204, 204, 204, 0.8)\", \"edgewidth\": 1.0, \"zorder\": 1000000.0}], \"markers\": [], \"texts\": [{\"text\": \"Time\", \"position\": [0.49999999999999994, -0.07206588881262868], \"coordinates\": \"axes\", \"h_anchor\": \"middle\", \"v_baseline\": \"hanging\", \"rotation\": -0.0, \"fontsize\": 10.0, \"color\": \"#000000\", \"alpha\": 1, \"zorder\": 3, \"id\": \"el87032140673349188384\"}, {\"text\": \"Search Interest\", \"position\": [-0.07338164545399184, 0.5], \"coordinates\": \"axes\", \"h_anchor\": \"middle\", \"v_baseline\": \"auto\", \"rotation\": -90.0, \"fontsize\": 10.0, \"color\": \"#000000\", \"alpha\": 1, \"zorder\": 3, \"id\": \"el87032140673349187664\"}, {\"text\": \"Time Series of Marginal Topics\", \"position\": [0.49999999999999994, 1.0205902539464653], \"coordinates\": \"axes\", \"h_anchor\": \"middle\", \"v_baseline\": \"auto\", \"rotation\": -0.0, \"fontsize\": 12.0, \"color\": \"#000000\", \"alpha\": 1, \"zorder\": 3, \"id\": \"el87032140673882482720\"}, {\"text\": \"Marginal: data license: (Worldwide)\", \"position\": [1.0901284940015834, 0.9416609471516815], \"coordinates\": \"axes\", \"h_anchor\": \"start\", \"v_baseline\": \"auto\", \"rotation\": -0.0, \"fontsize\": 10.0, \"color\": \"#000000\", \"alpha\": 1, \"zorder\": 1000003.0, \"id\": \"el87032140673096504656\"}, {\"text\": \"Marginal: data transparency: (Worldwide)\", \"position\": [1.0901284940015834, 0.8901853122855181], \"coordinates\": \"axes\", \"h_anchor\": \"start\", \"v_baseline\": \"auto\", \"rotation\": -0.0, \"fontsize\": 10.0, \"color\": \"#000000\", \"alpha\": 1, \"zorder\": 1000003.0, \"id\": \"el87032140673102878272\"}, {\"text\": \"Marginal: data lineage: (Worldwide)\", \"position\": [1.0901284940015834, 0.8387096774193546], \"coordinates\": \"axes\", \"h_anchor\": \"start\", \"v_baseline\": \"auto\", \"rotation\": -0.0, \"fontsize\": 10.0, \"color\": \"#000000\", \"alpha\": 1, \"zorder\": 1000003.0, \"id\": \"el87032140672797231472\"}, {\"text\": \"Marginal: data provenance: (Worldwide)\", \"position\": [1.0901284940015834, 0.7872340425531913], \"coordinates\": \"axes\", \"h_anchor\": \"start\", \"v_baseline\": \"auto\", \"rotation\": -0.0, \"fontsize\": 10.0, \"color\": \"#000000\", \"alpha\": 1, \"zorder\": 1000003.0, \"id\": \"el87032140672937413120\"}, {\"text\": \"Marginal: responsible data: (Worldwide)\", \"position\": [1.0901284940015834, 0.7357584076870279], \"coordinates\": \"axes\", \"h_anchor\": \"start\", \"v_baseline\": \"auto\", \"rotation\": -0.0, \"fontsize\": 10.0, \"color\": \"#000000\", \"alpha\": 1, \"zorder\": 1000003.0, \"id\": \"el87032140673076669024\"}], \"collections\": [], \"images\": [], \"sharex\": [], \"sharey\": []}], \"data\": {\"data01\": [[16344.0, 56.0, 6.0, 4.0, 1.0, 12.0], [16375.0, 52.0, 5.0, 4.0, 1.0, 12.0], [16405.0, 53.0, 5.0, 3.0, 1.0, 8.0], [16436.0, 52.0, 5.0, 4.0, 2.0, 9.0], [16467.0, 57.0, 5.0, 5.0, 2.0, 13.0], [16495.0, 57.0, 5.0, 5.0, 1.0, 12.0], [16526.0, 57.0, 6.0, 4.0, 2.0, 14.0], [16556.0, 56.0, 5.0, 5.0, 1.0, 11.0], [16587.0, 58.0, 5.0, 4.0, 1.0, 10.0], [16617.0, 62.0, 4.0, 5.0, 2.0, 9.0], [16648.0, 63.0, 4.0, 4.0, 1.0, 9.0], [16679.0, 64.0, 5.0, 5.0, 1.0, 14.0], [16709.0, 63.0, 5.0, 6.0, 1.0, 13.0], [16740.0, 58.0, 6.0, 5.0, 2.0, 12.0], [16770.0, 55.0, 4.0, 4.0, 1.0, 10.0], [16801.0, 51.0, 4.0, 3.0, 1.0, 12.0], [16832.0, 55.0, 4.0, 5.0, 2.0, 17.0], [16861.0, 53.0, 5.0, 5.0, 2.0, 15.0], [16892.0, 52.0, 6.0, 4.0, 1.0, 17.0], [16922.0, 50.0, 5.0, 5.0, 1.0, 12.0], [16953.0, 50.0, 5.0, 5.0, 2.0, 11.0], [16983.0, 46.0, 4.0, 4.0, 1.0, 10.0], [17014.0, 47.0, 5.0, 5.0, 1.0, 10.0], [17045.0, 51.0, 4.0, 6.0, 1.0, 15.0], [17075.0, 51.0, 5.0, 5.0, 1.0, 13.0], [17106.0, 50.0, 5.0, 6.0, 2.0, 13.0], [17136.0, 48.0, 5.0, 5.0, 1.0, 13.0], [17167.0, 51.0, 5.0, 7.0, 2.0, 15.0], [17198.0, 51.0, 6.0, 9.0, 2.0, 17.0], [17226.0, 54.0, 6.0, 9.0, 2.0, 17.0], [17257.0, 50.0, 6.0, 9.0, 2.0, 16.0], [17287.0, 50.0, 5.0, 10.0, 2.0, 15.0], [17318.0, 46.0, 4.0, 11.0, 2.0, 10.0], [17348.0, 46.0, 4.0, 9.0, 1.0, 10.0], [17379.0, 47.0, 4.0, 9.0, 2.0, 12.0], [17410.0, 49.0, 5.0, 11.0, 2.0, 17.0], [17440.0, 48.0, 6.0, 11.0, 2.0, 17.0], [17471.0, 48.0, 6.0, 12.0, 2.0, 18.0], [17501.0, 45.0, 4.0, 9.0, 2.0, 14.0], [17532.0, 47.0, 6.0, 9.0, 2.0, 13.0], [17563.0, 49.0, 5.0, 10.0, 2.0, 18.0], [17591.0, 49.0, 6.0, 15.0, 2.0, 18.0], [17622.0, 45.0, 7.0, 9.0, 2.0, 20.0], [17652.0, 45.0, 7.0, 11.0, 2.0, 19.0], [17683.0, 44.0, 5.0, 9.0, 2.0, 16.0], [17713.0, 47.0, 5.0, 10.0, 1.0, 13.0], [17744.0, 44.0, 5.0, 9.0, 2.0, 13.0], [17775.0, 41.0, 6.0, 10.0, 2.0, 23.0], [17805.0, 40.0, 6.0, 10.0, 2.0, 19.0], [17836.0, 38.0, 6.0, 10.0, 2.0, 18.0], [17866.0, 35.0, 5.0, 8.0, 1.0, 16.0], [17897.0, 36.0, 5.0, 10.0, 2.0, 18.0], [17928.0, 38.0, 6.0, 10.0, 2.0, 23.0], [17956.0, 40.0, 6.0, 11.0, 2.0, 22.0], [17987.0, 39.0, 6.0, 11.0, 2.0, 22.0], [18017.0, 38.0, 6.0, 10.0, 2.0, 16.0], [18048.0, 38.0, 6.0, 10.0, 2.0, 16.0], [18078.0, 39.0, 5.0, 10.0, 2.0, 15.0], [18109.0, 39.0, 5.0, 10.0, 2.0, 14.0], [18140.0, 40.0, 5.0, 10.0, 2.0, 25.0], [18170.0, 38.0, 6.0, 10.0, 2.0, 24.0], [18201.0, 39.0, 5.0, 11.0, 2.0, 23.0], [18231.0, 34.0, 5.0, 10.0, 2.0, 20.0], [18262.0, 36.0, 6.0, 11.0, 2.0, 23.0], [18293.0, 38.0, 6.0, 12.0, 2.0, 27.0], [18322.0, 34.0, 5.0, 11.0, 2.0, 24.0], [18353.0, 34.0, 6.0, 11.0, 2.0, 30.0], [18383.0, 37.0, 6.0, 12.0, 2.0, 33.0], [18414.0, 37.0, 6.0, 13.0, 2.0, 30.0], [18444.0, 37.0, 6.0, 13.0, 2.0, 30.0], [18475.0, 33.0, 5.0, 12.0, 2.0, 33.0], [18506.0, 38.0, 7.0, 14.0, 2.0, 52.0], [18536.0, 34.0, 6.0, 12.0, 2.0, 51.0], [18567.0, 30.0, 5.0, 10.0, 2.0, 45.0], [18597.0, 28.0, 6.0, 10.0, 1.0, 41.0], [18628.0, 30.0, 5.0, 10.0, 1.0, 38.0], [18659.0, 32.0, 7.0, 12.0, 1.0, 49.0], [18687.0, 34.0, 8.0, 12.0, 2.0, 51.0], [18718.0, 31.0, 7.0, 11.0, 2.0, 52.0], [18748.0, 29.0, 7.0, 12.0, 1.0, 49.0], [18779.0, 32.0, 8.0, 13.0, 1.0, 45.0], [18809.0, 32.0, 7.0, 12.0, 1.0, 44.0], [18840.0, 31.0, 6.0, 11.0, 1.0, 42.0], [18871.0, 33.0, 7.0, 11.0, 1.0, 55.0], [18901.0, 33.0, 8.0, 11.0, 1.0, 55.0], [18932.0, 33.0, 9.0, 11.0, 2.0, 50.0], [18962.0, 31.0, 7.0, 9.0, 2.0, 44.0], [18993.0, 41.0, 9.0, 13.0, 2.0, 70.0], [19024.0, 47.0, 11.0, 14.0, 3.0, 84.0], [19052.0, 51.0, 11.0, 15.0, 3.0, 88.0], [19083.0, 47.0, 12.0, 16.0, 2.0, 79.0], [19113.0, 42.0, 13.0, 15.0, 2.0, 66.0], [19144.0, 43.0, 10.0, 14.0, 3.0, 59.0], [19174.0, 40.0, 8.0, 13.0, 2.0, 50.0], [19205.0, 42.0, 9.0, 13.0, 2.0, 52.0], [19236.0, 46.0, 11.0, 15.0, 2.0, 74.0], [19266.0, 46.0, 11.0, 16.0, 2.0, 72.0], [19297.0, 39.0, 11.0, 15.0, 2.0, 64.0], [19327.0, 40.0, 10.0, 12.0, 2.0, 61.0], [19358.0, 48.0, 11.0, 14.0, 2.0, 63.0], [19389.0, 47.0, 12.0, 17.0, 2.0, 72.0], [19417.0, 48.0, 12.0, 16.0, 2.0, 72.0], [19448.0, 45.0, 11.0, 14.0, 2.0, 66.0], [19478.0, 49.0, 12.0, 16.0, 2.0, 63.0], [19509.0, 44.0, 9.0, 15.0, 2.0, 55.0], [19539.0, 44.0, 10.0, 16.0, 2.0, 53.0], [19570.0, 46.0, 10.0, 15.0, 2.0, 60.0], [19601.0, 54.0, 12.0, 16.0, 2.0, 79.0], [19631.0, 45.0, 13.0, 16.0, 2.0, 81.0], [19662.0, 45.0, 12.0, 14.0, 2.0, 71.0], [19692.0, 43.0, 11.0, 14.0, 2.0, 64.0], [19723.0, 48.0, 13.0, 15.0, 2.0, 69.0], [19754.0, 55.0, 14.0, 21.0, 3.0, 97.0], [19783.0, 56.0, 14.0, 19.0, 2.0, 85.0], [19814.0, 53.0, 15.0, 19.0, 2.0, 83.0], [19844.0, 54.0, 14.0, 16.0, 2.0, 78.0], [19875.0, 49.0, 14.0, 17.0, 3.0, 67.0], [19905.0, 51.0, 15.0, 19.0, 3.0, 62.0], [19936.0, 51.0, 15.0, 17.0, 3.0, 69.0], [19967.0, 55.0, 17.0, 18.0, 3.0, 96.0], [19997.0, 61.0, 20.0, 20.0, 4.0, 100.0]], \"data02\": [[1.0219231471895742, 0.9536719286204529, 0.9021962937542896, 0.8507206588881261, 0.7992450240219627, 0.7477693891557994], [1.070641252055295, 0.9536719286204529, 0.9021962937542896, 0.8507206588881261, 0.7992450240219627, 0.7477693891557994]], \"data03\": [[1.0170513367030023, 0.7151681537405626], [1.5986237135375434, 0.7151681537405626], [1.6034955240241153, 0.7151681537405626], [1.6034955240241153, 0.7220315717227177], [1.6034955240241153, 0.9759780370624569], [1.6034955240241153, 0.9828414550446121], [1.5986237135375434, 0.9828414550446121], [1.0170513367030023, 0.9828414550446121], [1.0121795262164301, 0.9828414550446121], [1.0121795262164301, 0.9759780370624569], [1.0121795262164301, 0.7220315717227177], [1.0121795262164301, 0.7151681537405626], [1.0170513367030023, 0.7151681537405626]]}, \"id\": \"el87032140673089079424\", \"plugins\": [{\"type\": \"reset\"}, {\"type\": \"zoom\", \"button\": true, \"enabled\": false}, {\"type\": \"boxzoom\", \"button\": true, \"enabled\": false}]});\n",
       "   }(mpld3);\n",
       "}else if(typeof define === \"function\" && define.amd){\n",
       "   // require.js is available: use it to load d3/mpld3\n",
       "   require.config({paths: {d3: \"https://d3js.org/d3.v5\"}});\n",
       "   require([\"d3\"], function(d3){\n",
       "      window.d3 = d3;\n",
       "      mpld3_load_lib(\"https://mpld3.github.io/js/mpld3.v0.5.10.js\", function(){\n",
       "         \n",
       "         mpld3.draw_figure(\"fig_el870321406730890794242922781255\", {\"width\": 720.0, \"height\": 360.0, \"axes\": [{\"bbox\": [0.07072916666666666, 0.11611111111111105, 0.5701736111111112, 0.8094444444444444], \"xlim\": [16161.35, 20179.65], \"ylim\": [-3.95, 104.95], \"xdomain\": [[2014, 3, 1, 8, 24, 0, 0.0], [2025, 3, 1, 15, 36, 0, 0.0]], \"ydomain\": [-3.95, 104.95], \"xscale\": \"date\", \"yscale\": \"linear\", \"axes\": [{\"position\": \"bottom\", \"nticks\": 7, \"tickvalues\": null, \"tickformat_formatter\": \"\", \"tickformat\": null, \"scale\": \"linear\", \"fontsize\": 10.0, \"grid\": {\"gridOn\": true, \"color\": \"#B0B0B0\", \"dasharray\": \"none\", \"alpha\": 1.0}, \"visible\": true}, {\"position\": \"left\", \"nticks\": 8, \"tickvalues\": null, \"tickformat_formatter\": \"\", \"tickformat\": null, \"scale\": \"linear\", \"fontsize\": 10.0, \"grid\": {\"gridOn\": true, \"color\": \"#B0B0B0\", \"dasharray\": \"none\", \"alpha\": 1.0}, \"visible\": true}], \"axesbg\": \"#FFFFFF\", \"axesbgalpha\": null, \"zoomable\": true, \"id\": \"el87032140672946412224\", \"lines\": [{\"data\": \"data01\", \"xindex\": 0, \"yindex\": 1, \"coordinates\": \"data\", \"id\": \"el87032140673349187328\", \"color\": \"#1F77B4\", \"linewidth\": 1.5, \"dasharray\": \"none\", \"alpha\": 1, \"zorder\": 2, \"drawstyle\": \"default\"}, {\"data\": \"data01\", \"xindex\": 0, \"yindex\": 2, \"coordinates\": \"data\", \"id\": \"el87032140672946487008\", \"color\": \"#FF7F0E\", \"linewidth\": 1.5, \"dasharray\": \"none\", \"alpha\": 1, \"zorder\": 2, \"drawstyle\": \"default\"}, {\"data\": \"data01\", \"xindex\": 0, \"yindex\": 3, \"coordinates\": \"data\", \"id\": \"el87032140673620412544\", \"color\": \"#2CA02C\", \"linewidth\": 1.5, \"dasharray\": \"none\", \"alpha\": 1, \"zorder\": 2, \"drawstyle\": \"default\"}, {\"data\": \"data01\", \"xindex\": 0, \"yindex\": 4, \"coordinates\": \"data\", \"id\": \"el87032140673620411056\", \"color\": \"#D62728\", \"linewidth\": 1.5, \"dasharray\": \"none\", \"alpha\": 1, \"zorder\": 2, \"drawstyle\": \"default\"}, {\"data\": \"data01\", \"xindex\": 0, \"yindex\": 5, \"coordinates\": \"data\", \"id\": \"el87032140673620412352\", \"color\": \"#9467BD\", \"linewidth\": 1.5, \"dasharray\": \"none\", \"alpha\": 1, \"zorder\": 2, \"drawstyle\": \"default\"}, {\"data\": \"data02\", \"xindex\": 0, \"yindex\": 1, \"coordinates\": \"axes\", \"id\": \"el87032140673102878368\", \"color\": \"#1F77B4\", \"linewidth\": 1.5, \"dasharray\": \"none\", \"alpha\": 1, \"zorder\": 1000002.0, \"drawstyle\": \"default\"}, {\"data\": \"data02\", \"xindex\": 0, \"yindex\": 2, \"coordinates\": \"axes\", \"id\": \"el87032140672797232144\", \"color\": \"#FF7F0E\", \"linewidth\": 1.5, \"dasharray\": \"none\", \"alpha\": 1, \"zorder\": 1000002.0, \"drawstyle\": \"default\"}, {\"data\": \"data02\", \"xindex\": 0, \"yindex\": 3, \"coordinates\": \"axes\", \"id\": \"el87032140672797229936\", \"color\": \"#2CA02C\", \"linewidth\": 1.5, \"dasharray\": \"none\", \"alpha\": 1, \"zorder\": 1000002.0, \"drawstyle\": \"default\"}, {\"data\": \"data02\", \"xindex\": 0, \"yindex\": 4, \"coordinates\": \"axes\", \"id\": \"el87032140672937412832\", \"color\": \"#D62728\", \"linewidth\": 1.5, \"dasharray\": \"none\", \"alpha\": 1, \"zorder\": 1000002.0, \"drawstyle\": \"default\"}, {\"data\": \"data02\", \"xindex\": 0, \"yindex\": 5, \"coordinates\": \"axes\", \"id\": \"el87032140673076667680\", \"color\": \"#9467BD\", \"linewidth\": 1.5, \"dasharray\": \"none\", \"alpha\": 1, \"zorder\": 1000002.0, \"drawstyle\": \"default\"}], \"paths\": [{\"data\": \"data03\", \"xindex\": 0, \"yindex\": 1, \"coordinates\": \"axes\", \"pathcodes\": [\"M\", \"L\", \"S\", \"L\", \"S\", \"L\", \"S\", \"L\", \"S\", \"Z\"], \"id\": \"el87032140672937040816\", \"dasharray\": \"none\", \"alpha\": 0.8, \"facecolor\": \"rgba(255, 255, 255, 0.8)\", \"edgecolor\": \"rgba(204, 204, 204, 0.8)\", \"edgewidth\": 1.0, \"zorder\": 1000000.0}], \"markers\": [], \"texts\": [{\"text\": \"Time\", \"position\": [0.49999999999999994, -0.07206588881262868], \"coordinates\": \"axes\", \"h_anchor\": \"middle\", \"v_baseline\": \"hanging\", \"rotation\": -0.0, \"fontsize\": 10.0, \"color\": \"#000000\", \"alpha\": 1, \"zorder\": 3, \"id\": \"el87032140673349188384\"}, {\"text\": \"Search Interest\", \"position\": [-0.07338164545399184, 0.5], \"coordinates\": \"axes\", \"h_anchor\": \"middle\", \"v_baseline\": \"auto\", \"rotation\": -90.0, \"fontsize\": 10.0, \"color\": \"#000000\", \"alpha\": 1, \"zorder\": 3, \"id\": \"el87032140673349187664\"}, {\"text\": \"Time Series of Marginal Topics\", \"position\": [0.49999999999999994, 1.0205902539464653], \"coordinates\": \"axes\", \"h_anchor\": \"middle\", \"v_baseline\": \"auto\", \"rotation\": -0.0, \"fontsize\": 12.0, \"color\": \"#000000\", \"alpha\": 1, \"zorder\": 3, \"id\": \"el87032140673882482720\"}, {\"text\": \"Marginal: data license: (Worldwide)\", \"position\": [1.0901284940015834, 0.9416609471516815], \"coordinates\": \"axes\", \"h_anchor\": \"start\", \"v_baseline\": \"auto\", \"rotation\": -0.0, \"fontsize\": 10.0, \"color\": \"#000000\", \"alpha\": 1, \"zorder\": 1000003.0, \"id\": \"el87032140673096504656\"}, {\"text\": \"Marginal: data transparency: (Worldwide)\", \"position\": [1.0901284940015834, 0.8901853122855181], \"coordinates\": \"axes\", \"h_anchor\": \"start\", \"v_baseline\": \"auto\", \"rotation\": -0.0, \"fontsize\": 10.0, \"color\": \"#000000\", \"alpha\": 1, \"zorder\": 1000003.0, \"id\": \"el87032140673102878272\"}, {\"text\": \"Marginal: data lineage: (Worldwide)\", \"position\": [1.0901284940015834, 0.8387096774193546], \"coordinates\": \"axes\", \"h_anchor\": \"start\", \"v_baseline\": \"auto\", \"rotation\": -0.0, \"fontsize\": 10.0, \"color\": \"#000000\", \"alpha\": 1, \"zorder\": 1000003.0, \"id\": \"el87032140672797231472\"}, {\"text\": \"Marginal: data provenance: (Worldwide)\", \"position\": [1.0901284940015834, 0.7872340425531913], \"coordinates\": \"axes\", \"h_anchor\": \"start\", \"v_baseline\": \"auto\", \"rotation\": -0.0, \"fontsize\": 10.0, \"color\": \"#000000\", \"alpha\": 1, \"zorder\": 1000003.0, \"id\": \"el87032140672937413120\"}, {\"text\": \"Marginal: responsible data: (Worldwide)\", \"position\": [1.0901284940015834, 0.7357584076870279], \"coordinates\": \"axes\", \"h_anchor\": \"start\", \"v_baseline\": \"auto\", \"rotation\": -0.0, \"fontsize\": 10.0, \"color\": \"#000000\", \"alpha\": 1, \"zorder\": 1000003.0, \"id\": \"el87032140673076669024\"}], \"collections\": [], \"images\": [], \"sharex\": [], \"sharey\": []}], \"data\": {\"data01\": [[16344.0, 56.0, 6.0, 4.0, 1.0, 12.0], [16375.0, 52.0, 5.0, 4.0, 1.0, 12.0], [16405.0, 53.0, 5.0, 3.0, 1.0, 8.0], [16436.0, 52.0, 5.0, 4.0, 2.0, 9.0], [16467.0, 57.0, 5.0, 5.0, 2.0, 13.0], [16495.0, 57.0, 5.0, 5.0, 1.0, 12.0], [16526.0, 57.0, 6.0, 4.0, 2.0, 14.0], [16556.0, 56.0, 5.0, 5.0, 1.0, 11.0], [16587.0, 58.0, 5.0, 4.0, 1.0, 10.0], [16617.0, 62.0, 4.0, 5.0, 2.0, 9.0], [16648.0, 63.0, 4.0, 4.0, 1.0, 9.0], [16679.0, 64.0, 5.0, 5.0, 1.0, 14.0], [16709.0, 63.0, 5.0, 6.0, 1.0, 13.0], [16740.0, 58.0, 6.0, 5.0, 2.0, 12.0], [16770.0, 55.0, 4.0, 4.0, 1.0, 10.0], [16801.0, 51.0, 4.0, 3.0, 1.0, 12.0], [16832.0, 55.0, 4.0, 5.0, 2.0, 17.0], [16861.0, 53.0, 5.0, 5.0, 2.0, 15.0], [16892.0, 52.0, 6.0, 4.0, 1.0, 17.0], [16922.0, 50.0, 5.0, 5.0, 1.0, 12.0], [16953.0, 50.0, 5.0, 5.0, 2.0, 11.0], [16983.0, 46.0, 4.0, 4.0, 1.0, 10.0], [17014.0, 47.0, 5.0, 5.0, 1.0, 10.0], [17045.0, 51.0, 4.0, 6.0, 1.0, 15.0], [17075.0, 51.0, 5.0, 5.0, 1.0, 13.0], [17106.0, 50.0, 5.0, 6.0, 2.0, 13.0], [17136.0, 48.0, 5.0, 5.0, 1.0, 13.0], [17167.0, 51.0, 5.0, 7.0, 2.0, 15.0], [17198.0, 51.0, 6.0, 9.0, 2.0, 17.0], [17226.0, 54.0, 6.0, 9.0, 2.0, 17.0], [17257.0, 50.0, 6.0, 9.0, 2.0, 16.0], [17287.0, 50.0, 5.0, 10.0, 2.0, 15.0], [17318.0, 46.0, 4.0, 11.0, 2.0, 10.0], [17348.0, 46.0, 4.0, 9.0, 1.0, 10.0], [17379.0, 47.0, 4.0, 9.0, 2.0, 12.0], [17410.0, 49.0, 5.0, 11.0, 2.0, 17.0], [17440.0, 48.0, 6.0, 11.0, 2.0, 17.0], [17471.0, 48.0, 6.0, 12.0, 2.0, 18.0], [17501.0, 45.0, 4.0, 9.0, 2.0, 14.0], [17532.0, 47.0, 6.0, 9.0, 2.0, 13.0], [17563.0, 49.0, 5.0, 10.0, 2.0, 18.0], [17591.0, 49.0, 6.0, 15.0, 2.0, 18.0], [17622.0, 45.0, 7.0, 9.0, 2.0, 20.0], [17652.0, 45.0, 7.0, 11.0, 2.0, 19.0], [17683.0, 44.0, 5.0, 9.0, 2.0, 16.0], [17713.0, 47.0, 5.0, 10.0, 1.0, 13.0], [17744.0, 44.0, 5.0, 9.0, 2.0, 13.0], [17775.0, 41.0, 6.0, 10.0, 2.0, 23.0], [17805.0, 40.0, 6.0, 10.0, 2.0, 19.0], [17836.0, 38.0, 6.0, 10.0, 2.0, 18.0], [17866.0, 35.0, 5.0, 8.0, 1.0, 16.0], [17897.0, 36.0, 5.0, 10.0, 2.0, 18.0], [17928.0, 38.0, 6.0, 10.0, 2.0, 23.0], [17956.0, 40.0, 6.0, 11.0, 2.0, 22.0], [17987.0, 39.0, 6.0, 11.0, 2.0, 22.0], [18017.0, 38.0, 6.0, 10.0, 2.0, 16.0], [18048.0, 38.0, 6.0, 10.0, 2.0, 16.0], [18078.0, 39.0, 5.0, 10.0, 2.0, 15.0], [18109.0, 39.0, 5.0, 10.0, 2.0, 14.0], [18140.0, 40.0, 5.0, 10.0, 2.0, 25.0], [18170.0, 38.0, 6.0, 10.0, 2.0, 24.0], [18201.0, 39.0, 5.0, 11.0, 2.0, 23.0], [18231.0, 34.0, 5.0, 10.0, 2.0, 20.0], [18262.0, 36.0, 6.0, 11.0, 2.0, 23.0], [18293.0, 38.0, 6.0, 12.0, 2.0, 27.0], [18322.0, 34.0, 5.0, 11.0, 2.0, 24.0], [18353.0, 34.0, 6.0, 11.0, 2.0, 30.0], [18383.0, 37.0, 6.0, 12.0, 2.0, 33.0], [18414.0, 37.0, 6.0, 13.0, 2.0, 30.0], [18444.0, 37.0, 6.0, 13.0, 2.0, 30.0], [18475.0, 33.0, 5.0, 12.0, 2.0, 33.0], [18506.0, 38.0, 7.0, 14.0, 2.0, 52.0], [18536.0, 34.0, 6.0, 12.0, 2.0, 51.0], [18567.0, 30.0, 5.0, 10.0, 2.0, 45.0], [18597.0, 28.0, 6.0, 10.0, 1.0, 41.0], [18628.0, 30.0, 5.0, 10.0, 1.0, 38.0], [18659.0, 32.0, 7.0, 12.0, 1.0, 49.0], [18687.0, 34.0, 8.0, 12.0, 2.0, 51.0], [18718.0, 31.0, 7.0, 11.0, 2.0, 52.0], [18748.0, 29.0, 7.0, 12.0, 1.0, 49.0], [18779.0, 32.0, 8.0, 13.0, 1.0, 45.0], [18809.0, 32.0, 7.0, 12.0, 1.0, 44.0], [18840.0, 31.0, 6.0, 11.0, 1.0, 42.0], [18871.0, 33.0, 7.0, 11.0, 1.0, 55.0], [18901.0, 33.0, 8.0, 11.0, 1.0, 55.0], [18932.0, 33.0, 9.0, 11.0, 2.0, 50.0], [18962.0, 31.0, 7.0, 9.0, 2.0, 44.0], [18993.0, 41.0, 9.0, 13.0, 2.0, 70.0], [19024.0, 47.0, 11.0, 14.0, 3.0, 84.0], [19052.0, 51.0, 11.0, 15.0, 3.0, 88.0], [19083.0, 47.0, 12.0, 16.0, 2.0, 79.0], [19113.0, 42.0, 13.0, 15.0, 2.0, 66.0], [19144.0, 43.0, 10.0, 14.0, 3.0, 59.0], [19174.0, 40.0, 8.0, 13.0, 2.0, 50.0], [19205.0, 42.0, 9.0, 13.0, 2.0, 52.0], [19236.0, 46.0, 11.0, 15.0, 2.0, 74.0], [19266.0, 46.0, 11.0, 16.0, 2.0, 72.0], [19297.0, 39.0, 11.0, 15.0, 2.0, 64.0], [19327.0, 40.0, 10.0, 12.0, 2.0, 61.0], [19358.0, 48.0, 11.0, 14.0, 2.0, 63.0], [19389.0, 47.0, 12.0, 17.0, 2.0, 72.0], [19417.0, 48.0, 12.0, 16.0, 2.0, 72.0], [19448.0, 45.0, 11.0, 14.0, 2.0, 66.0], [19478.0, 49.0, 12.0, 16.0, 2.0, 63.0], [19509.0, 44.0, 9.0, 15.0, 2.0, 55.0], [19539.0, 44.0, 10.0, 16.0, 2.0, 53.0], [19570.0, 46.0, 10.0, 15.0, 2.0, 60.0], [19601.0, 54.0, 12.0, 16.0, 2.0, 79.0], [19631.0, 45.0, 13.0, 16.0, 2.0, 81.0], [19662.0, 45.0, 12.0, 14.0, 2.0, 71.0], [19692.0, 43.0, 11.0, 14.0, 2.0, 64.0], [19723.0, 48.0, 13.0, 15.0, 2.0, 69.0], [19754.0, 55.0, 14.0, 21.0, 3.0, 97.0], [19783.0, 56.0, 14.0, 19.0, 2.0, 85.0], [19814.0, 53.0, 15.0, 19.0, 2.0, 83.0], [19844.0, 54.0, 14.0, 16.0, 2.0, 78.0], [19875.0, 49.0, 14.0, 17.0, 3.0, 67.0], [19905.0, 51.0, 15.0, 19.0, 3.0, 62.0], [19936.0, 51.0, 15.0, 17.0, 3.0, 69.0], [19967.0, 55.0, 17.0, 18.0, 3.0, 96.0], [19997.0, 61.0, 20.0, 20.0, 4.0, 100.0]], \"data02\": [[1.0219231471895742, 0.9536719286204529, 0.9021962937542896, 0.8507206588881261, 0.7992450240219627, 0.7477693891557994], [1.070641252055295, 0.9536719286204529, 0.9021962937542896, 0.8507206588881261, 0.7992450240219627, 0.7477693891557994]], \"data03\": [[1.0170513367030023, 0.7151681537405626], [1.5986237135375434, 0.7151681537405626], [1.6034955240241153, 0.7151681537405626], [1.6034955240241153, 0.7220315717227177], [1.6034955240241153, 0.9759780370624569], [1.6034955240241153, 0.9828414550446121], [1.5986237135375434, 0.9828414550446121], [1.0170513367030023, 0.9828414550446121], [1.0121795262164301, 0.9828414550446121], [1.0121795262164301, 0.9759780370624569], [1.0121795262164301, 0.7220315717227177], [1.0121795262164301, 0.7151681537405626], [1.0170513367030023, 0.7151681537405626]]}, \"id\": \"el87032140673089079424\", \"plugins\": [{\"type\": \"reset\"}, {\"type\": \"zoom\", \"button\": true, \"enabled\": false}, {\"type\": \"boxzoom\", \"button\": true, \"enabled\": false}]});\n",
       "      });\n",
       "    });\n",
       "}else{\n",
       "    // require.js not available: dynamically load d3 & mpld3\n",
       "    mpld3_load_lib(\"https://d3js.org/d3.v5.js\", function(){\n",
       "         mpld3_load_lib(\"https://mpld3.github.io/js/mpld3.v0.5.10.js\", function(){\n",
       "                 \n",
       "                 mpld3.draw_figure(\"fig_el870321406730890794242922781255\", {\"width\": 720.0, \"height\": 360.0, \"axes\": [{\"bbox\": [0.07072916666666666, 0.11611111111111105, 0.5701736111111112, 0.8094444444444444], \"xlim\": [16161.35, 20179.65], \"ylim\": [-3.95, 104.95], \"xdomain\": [[2014, 3, 1, 8, 24, 0, 0.0], [2025, 3, 1, 15, 36, 0, 0.0]], \"ydomain\": [-3.95, 104.95], \"xscale\": \"date\", \"yscale\": \"linear\", \"axes\": [{\"position\": \"bottom\", \"nticks\": 7, \"tickvalues\": null, \"tickformat_formatter\": \"\", \"tickformat\": null, \"scale\": \"linear\", \"fontsize\": 10.0, \"grid\": {\"gridOn\": true, \"color\": \"#B0B0B0\", \"dasharray\": \"none\", \"alpha\": 1.0}, \"visible\": true}, {\"position\": \"left\", \"nticks\": 8, \"tickvalues\": null, \"tickformat_formatter\": \"\", \"tickformat\": null, \"scale\": \"linear\", \"fontsize\": 10.0, \"grid\": {\"gridOn\": true, \"color\": \"#B0B0B0\", \"dasharray\": \"none\", \"alpha\": 1.0}, \"visible\": true}], \"axesbg\": \"#FFFFFF\", \"axesbgalpha\": null, \"zoomable\": true, \"id\": \"el87032140672946412224\", \"lines\": [{\"data\": \"data01\", \"xindex\": 0, \"yindex\": 1, \"coordinates\": \"data\", \"id\": \"el87032140673349187328\", \"color\": \"#1F77B4\", \"linewidth\": 1.5, \"dasharray\": \"none\", \"alpha\": 1, \"zorder\": 2, \"drawstyle\": \"default\"}, {\"data\": \"data01\", \"xindex\": 0, \"yindex\": 2, \"coordinates\": \"data\", \"id\": \"el87032140672946487008\", \"color\": \"#FF7F0E\", \"linewidth\": 1.5, \"dasharray\": \"none\", \"alpha\": 1, \"zorder\": 2, \"drawstyle\": \"default\"}, {\"data\": \"data01\", \"xindex\": 0, \"yindex\": 3, \"coordinates\": \"data\", \"id\": \"el87032140673620412544\", \"color\": \"#2CA02C\", \"linewidth\": 1.5, \"dasharray\": \"none\", \"alpha\": 1, \"zorder\": 2, \"drawstyle\": \"default\"}, {\"data\": \"data01\", \"xindex\": 0, \"yindex\": 4, \"coordinates\": \"data\", \"id\": \"el87032140673620411056\", \"color\": \"#D62728\", \"linewidth\": 1.5, \"dasharray\": \"none\", \"alpha\": 1, \"zorder\": 2, \"drawstyle\": \"default\"}, {\"data\": \"data01\", \"xindex\": 0, \"yindex\": 5, \"coordinates\": \"data\", \"id\": \"el87032140673620412352\", \"color\": \"#9467BD\", \"linewidth\": 1.5, \"dasharray\": \"none\", \"alpha\": 1, \"zorder\": 2, \"drawstyle\": \"default\"}, {\"data\": \"data02\", \"xindex\": 0, \"yindex\": 1, \"coordinates\": \"axes\", \"id\": \"el87032140673102878368\", \"color\": \"#1F77B4\", \"linewidth\": 1.5, \"dasharray\": \"none\", \"alpha\": 1, \"zorder\": 1000002.0, \"drawstyle\": \"default\"}, {\"data\": \"data02\", \"xindex\": 0, \"yindex\": 2, \"coordinates\": \"axes\", \"id\": \"el87032140672797232144\", \"color\": \"#FF7F0E\", \"linewidth\": 1.5, \"dasharray\": \"none\", \"alpha\": 1, \"zorder\": 1000002.0, \"drawstyle\": \"default\"}, {\"data\": \"data02\", \"xindex\": 0, \"yindex\": 3, \"coordinates\": \"axes\", \"id\": \"el87032140672797229936\", \"color\": \"#2CA02C\", \"linewidth\": 1.5, \"dasharray\": \"none\", \"alpha\": 1, \"zorder\": 1000002.0, \"drawstyle\": \"default\"}, {\"data\": \"data02\", \"xindex\": 0, \"yindex\": 4, \"coordinates\": \"axes\", \"id\": \"el87032140672937412832\", \"color\": \"#D62728\", \"linewidth\": 1.5, \"dasharray\": \"none\", \"alpha\": 1, \"zorder\": 1000002.0, \"drawstyle\": \"default\"}, {\"data\": \"data02\", \"xindex\": 0, \"yindex\": 5, \"coordinates\": \"axes\", \"id\": \"el87032140673076667680\", \"color\": \"#9467BD\", \"linewidth\": 1.5, \"dasharray\": \"none\", \"alpha\": 1, \"zorder\": 1000002.0, \"drawstyle\": \"default\"}], \"paths\": [{\"data\": \"data03\", \"xindex\": 0, \"yindex\": 1, \"coordinates\": \"axes\", \"pathcodes\": [\"M\", \"L\", \"S\", \"L\", \"S\", \"L\", \"S\", \"L\", \"S\", \"Z\"], \"id\": \"el87032140672937040816\", \"dasharray\": \"none\", \"alpha\": 0.8, \"facecolor\": \"rgba(255, 255, 255, 0.8)\", \"edgecolor\": \"rgba(204, 204, 204, 0.8)\", \"edgewidth\": 1.0, \"zorder\": 1000000.0}], \"markers\": [], \"texts\": [{\"text\": \"Time\", \"position\": [0.49999999999999994, -0.07206588881262868], \"coordinates\": \"axes\", \"h_anchor\": \"middle\", \"v_baseline\": \"hanging\", \"rotation\": -0.0, \"fontsize\": 10.0, \"color\": \"#000000\", \"alpha\": 1, \"zorder\": 3, \"id\": \"el87032140673349188384\"}, {\"text\": \"Search Interest\", \"position\": [-0.07338164545399184, 0.5], \"coordinates\": \"axes\", \"h_anchor\": \"middle\", \"v_baseline\": \"auto\", \"rotation\": -90.0, \"fontsize\": 10.0, \"color\": \"#000000\", \"alpha\": 1, \"zorder\": 3, \"id\": \"el87032140673349187664\"}, {\"text\": \"Time Series of Marginal Topics\", \"position\": [0.49999999999999994, 1.0205902539464653], \"coordinates\": \"axes\", \"h_anchor\": \"middle\", \"v_baseline\": \"auto\", \"rotation\": -0.0, \"fontsize\": 12.0, \"color\": \"#000000\", \"alpha\": 1, \"zorder\": 3, \"id\": \"el87032140673882482720\"}, {\"text\": \"Marginal: data license: (Worldwide)\", \"position\": [1.0901284940015834, 0.9416609471516815], \"coordinates\": \"axes\", \"h_anchor\": \"start\", \"v_baseline\": \"auto\", \"rotation\": -0.0, \"fontsize\": 10.0, \"color\": \"#000000\", \"alpha\": 1, \"zorder\": 1000003.0, \"id\": \"el87032140673096504656\"}, {\"text\": \"Marginal: data transparency: (Worldwide)\", \"position\": [1.0901284940015834, 0.8901853122855181], \"coordinates\": \"axes\", \"h_anchor\": \"start\", \"v_baseline\": \"auto\", \"rotation\": -0.0, \"fontsize\": 10.0, \"color\": \"#000000\", \"alpha\": 1, \"zorder\": 1000003.0, \"id\": \"el87032140673102878272\"}, {\"text\": \"Marginal: data lineage: (Worldwide)\", \"position\": [1.0901284940015834, 0.8387096774193546], \"coordinates\": \"axes\", \"h_anchor\": \"start\", \"v_baseline\": \"auto\", \"rotation\": -0.0, \"fontsize\": 10.0, \"color\": \"#000000\", \"alpha\": 1, \"zorder\": 1000003.0, \"id\": \"el87032140672797231472\"}, {\"text\": \"Marginal: data provenance: (Worldwide)\", \"position\": [1.0901284940015834, 0.7872340425531913], \"coordinates\": \"axes\", \"h_anchor\": \"start\", \"v_baseline\": \"auto\", \"rotation\": -0.0, \"fontsize\": 10.0, \"color\": \"#000000\", \"alpha\": 1, \"zorder\": 1000003.0, \"id\": \"el87032140672937413120\"}, {\"text\": \"Marginal: responsible data: (Worldwide)\", \"position\": [1.0901284940015834, 0.7357584076870279], \"coordinates\": \"axes\", \"h_anchor\": \"start\", \"v_baseline\": \"auto\", \"rotation\": -0.0, \"fontsize\": 10.0, \"color\": \"#000000\", \"alpha\": 1, \"zorder\": 1000003.0, \"id\": \"el87032140673076669024\"}], \"collections\": [], \"images\": [], \"sharex\": [], \"sharey\": []}], \"data\": {\"data01\": [[16344.0, 56.0, 6.0, 4.0, 1.0, 12.0], [16375.0, 52.0, 5.0, 4.0, 1.0, 12.0], [16405.0, 53.0, 5.0, 3.0, 1.0, 8.0], [16436.0, 52.0, 5.0, 4.0, 2.0, 9.0], [16467.0, 57.0, 5.0, 5.0, 2.0, 13.0], [16495.0, 57.0, 5.0, 5.0, 1.0, 12.0], [16526.0, 57.0, 6.0, 4.0, 2.0, 14.0], [16556.0, 56.0, 5.0, 5.0, 1.0, 11.0], [16587.0, 58.0, 5.0, 4.0, 1.0, 10.0], [16617.0, 62.0, 4.0, 5.0, 2.0, 9.0], [16648.0, 63.0, 4.0, 4.0, 1.0, 9.0], [16679.0, 64.0, 5.0, 5.0, 1.0, 14.0], [16709.0, 63.0, 5.0, 6.0, 1.0, 13.0], [16740.0, 58.0, 6.0, 5.0, 2.0, 12.0], [16770.0, 55.0, 4.0, 4.0, 1.0, 10.0], [16801.0, 51.0, 4.0, 3.0, 1.0, 12.0], [16832.0, 55.0, 4.0, 5.0, 2.0, 17.0], [16861.0, 53.0, 5.0, 5.0, 2.0, 15.0], [16892.0, 52.0, 6.0, 4.0, 1.0, 17.0], [16922.0, 50.0, 5.0, 5.0, 1.0, 12.0], [16953.0, 50.0, 5.0, 5.0, 2.0, 11.0], [16983.0, 46.0, 4.0, 4.0, 1.0, 10.0], [17014.0, 47.0, 5.0, 5.0, 1.0, 10.0], [17045.0, 51.0, 4.0, 6.0, 1.0, 15.0], [17075.0, 51.0, 5.0, 5.0, 1.0, 13.0], [17106.0, 50.0, 5.0, 6.0, 2.0, 13.0], [17136.0, 48.0, 5.0, 5.0, 1.0, 13.0], [17167.0, 51.0, 5.0, 7.0, 2.0, 15.0], [17198.0, 51.0, 6.0, 9.0, 2.0, 17.0], [17226.0, 54.0, 6.0, 9.0, 2.0, 17.0], [17257.0, 50.0, 6.0, 9.0, 2.0, 16.0], [17287.0, 50.0, 5.0, 10.0, 2.0, 15.0], [17318.0, 46.0, 4.0, 11.0, 2.0, 10.0], [17348.0, 46.0, 4.0, 9.0, 1.0, 10.0], [17379.0, 47.0, 4.0, 9.0, 2.0, 12.0], [17410.0, 49.0, 5.0, 11.0, 2.0, 17.0], [17440.0, 48.0, 6.0, 11.0, 2.0, 17.0], [17471.0, 48.0, 6.0, 12.0, 2.0, 18.0], [17501.0, 45.0, 4.0, 9.0, 2.0, 14.0], [17532.0, 47.0, 6.0, 9.0, 2.0, 13.0], [17563.0, 49.0, 5.0, 10.0, 2.0, 18.0], [17591.0, 49.0, 6.0, 15.0, 2.0, 18.0], [17622.0, 45.0, 7.0, 9.0, 2.0, 20.0], [17652.0, 45.0, 7.0, 11.0, 2.0, 19.0], [17683.0, 44.0, 5.0, 9.0, 2.0, 16.0], [17713.0, 47.0, 5.0, 10.0, 1.0, 13.0], [17744.0, 44.0, 5.0, 9.0, 2.0, 13.0], [17775.0, 41.0, 6.0, 10.0, 2.0, 23.0], [17805.0, 40.0, 6.0, 10.0, 2.0, 19.0], [17836.0, 38.0, 6.0, 10.0, 2.0, 18.0], [17866.0, 35.0, 5.0, 8.0, 1.0, 16.0], [17897.0, 36.0, 5.0, 10.0, 2.0, 18.0], [17928.0, 38.0, 6.0, 10.0, 2.0, 23.0], [17956.0, 40.0, 6.0, 11.0, 2.0, 22.0], [17987.0, 39.0, 6.0, 11.0, 2.0, 22.0], [18017.0, 38.0, 6.0, 10.0, 2.0, 16.0], [18048.0, 38.0, 6.0, 10.0, 2.0, 16.0], [18078.0, 39.0, 5.0, 10.0, 2.0, 15.0], [18109.0, 39.0, 5.0, 10.0, 2.0, 14.0], [18140.0, 40.0, 5.0, 10.0, 2.0, 25.0], [18170.0, 38.0, 6.0, 10.0, 2.0, 24.0], [18201.0, 39.0, 5.0, 11.0, 2.0, 23.0], [18231.0, 34.0, 5.0, 10.0, 2.0, 20.0], [18262.0, 36.0, 6.0, 11.0, 2.0, 23.0], [18293.0, 38.0, 6.0, 12.0, 2.0, 27.0], [18322.0, 34.0, 5.0, 11.0, 2.0, 24.0], [18353.0, 34.0, 6.0, 11.0, 2.0, 30.0], [18383.0, 37.0, 6.0, 12.0, 2.0, 33.0], [18414.0, 37.0, 6.0, 13.0, 2.0, 30.0], [18444.0, 37.0, 6.0, 13.0, 2.0, 30.0], [18475.0, 33.0, 5.0, 12.0, 2.0, 33.0], [18506.0, 38.0, 7.0, 14.0, 2.0, 52.0], [18536.0, 34.0, 6.0, 12.0, 2.0, 51.0], [18567.0, 30.0, 5.0, 10.0, 2.0, 45.0], [18597.0, 28.0, 6.0, 10.0, 1.0, 41.0], [18628.0, 30.0, 5.0, 10.0, 1.0, 38.0], [18659.0, 32.0, 7.0, 12.0, 1.0, 49.0], [18687.0, 34.0, 8.0, 12.0, 2.0, 51.0], [18718.0, 31.0, 7.0, 11.0, 2.0, 52.0], [18748.0, 29.0, 7.0, 12.0, 1.0, 49.0], [18779.0, 32.0, 8.0, 13.0, 1.0, 45.0], [18809.0, 32.0, 7.0, 12.0, 1.0, 44.0], [18840.0, 31.0, 6.0, 11.0, 1.0, 42.0], [18871.0, 33.0, 7.0, 11.0, 1.0, 55.0], [18901.0, 33.0, 8.0, 11.0, 1.0, 55.0], [18932.0, 33.0, 9.0, 11.0, 2.0, 50.0], [18962.0, 31.0, 7.0, 9.0, 2.0, 44.0], [18993.0, 41.0, 9.0, 13.0, 2.0, 70.0], [19024.0, 47.0, 11.0, 14.0, 3.0, 84.0], [19052.0, 51.0, 11.0, 15.0, 3.0, 88.0], [19083.0, 47.0, 12.0, 16.0, 2.0, 79.0], [19113.0, 42.0, 13.0, 15.0, 2.0, 66.0], [19144.0, 43.0, 10.0, 14.0, 3.0, 59.0], [19174.0, 40.0, 8.0, 13.0, 2.0, 50.0], [19205.0, 42.0, 9.0, 13.0, 2.0, 52.0], [19236.0, 46.0, 11.0, 15.0, 2.0, 74.0], [19266.0, 46.0, 11.0, 16.0, 2.0, 72.0], [19297.0, 39.0, 11.0, 15.0, 2.0, 64.0], [19327.0, 40.0, 10.0, 12.0, 2.0, 61.0], [19358.0, 48.0, 11.0, 14.0, 2.0, 63.0], [19389.0, 47.0, 12.0, 17.0, 2.0, 72.0], [19417.0, 48.0, 12.0, 16.0, 2.0, 72.0], [19448.0, 45.0, 11.0, 14.0, 2.0, 66.0], [19478.0, 49.0, 12.0, 16.0, 2.0, 63.0], [19509.0, 44.0, 9.0, 15.0, 2.0, 55.0], [19539.0, 44.0, 10.0, 16.0, 2.0, 53.0], [19570.0, 46.0, 10.0, 15.0, 2.0, 60.0], [19601.0, 54.0, 12.0, 16.0, 2.0, 79.0], [19631.0, 45.0, 13.0, 16.0, 2.0, 81.0], [19662.0, 45.0, 12.0, 14.0, 2.0, 71.0], [19692.0, 43.0, 11.0, 14.0, 2.0, 64.0], [19723.0, 48.0, 13.0, 15.0, 2.0, 69.0], [19754.0, 55.0, 14.0, 21.0, 3.0, 97.0], [19783.0, 56.0, 14.0, 19.0, 2.0, 85.0], [19814.0, 53.0, 15.0, 19.0, 2.0, 83.0], [19844.0, 54.0, 14.0, 16.0, 2.0, 78.0], [19875.0, 49.0, 14.0, 17.0, 3.0, 67.0], [19905.0, 51.0, 15.0, 19.0, 3.0, 62.0], [19936.0, 51.0, 15.0, 17.0, 3.0, 69.0], [19967.0, 55.0, 17.0, 18.0, 3.0, 96.0], [19997.0, 61.0, 20.0, 20.0, 4.0, 100.0]], \"data02\": [[1.0219231471895742, 0.9536719286204529, 0.9021962937542896, 0.8507206588881261, 0.7992450240219627, 0.7477693891557994], [1.070641252055295, 0.9536719286204529, 0.9021962937542896, 0.8507206588881261, 0.7992450240219627, 0.7477693891557994]], \"data03\": [[1.0170513367030023, 0.7151681537405626], [1.5986237135375434, 0.7151681537405626], [1.6034955240241153, 0.7151681537405626], [1.6034955240241153, 0.7220315717227177], [1.6034955240241153, 0.9759780370624569], [1.6034955240241153, 0.9828414550446121], [1.5986237135375434, 0.9828414550446121], [1.0170513367030023, 0.9828414550446121], [1.0121795262164301, 0.9828414550446121], [1.0121795262164301, 0.9759780370624569], [1.0121795262164301, 0.7220315717227177], [1.0121795262164301, 0.7151681537405626], [1.0170513367030023, 0.7151681537405626]]}, \"id\": \"el87032140673089079424\", \"plugins\": [{\"type\": \"reset\"}, {\"type\": \"zoom\", \"button\": true, \"enabled\": false}, {\"type\": \"boxzoom\", \"button\": true, \"enabled\": false}]});\n",
       "            })\n",
       "         });\n",
       "}\n",
       "</script>"
      ],
      "text/plain": [
       "<IPython.core.display.HTML object>"
      ]
     },
     "metadata": {},
     "output_type": "display_data"
    }
   ],
   "source": [
    "display(HTML(filename=os.path.join('static', 'marginal_topics.html')))"
   ]
  },
  {
   "cell_type": "markdown",
   "id": "4f2c1dee-2b1c-4960-ab06-fe40f7bf2f66",
   "metadata": {},
   "source": [
    "What we are noticing is likely a general lack of awareness or popularity associated with these topics, which in turn may have implications for how they are emphasised in policy circles. Interestingly, the difference between ***general*** emphasis and emphasis in ***policy*** documents with 'responsible data' and 'data license' suggests a relative lack of policymakers catching on to this topic despite broader attention to them by the ~5 billion users of Google web search. This calls for special attention to these areas by policymakers given their broader (at least cultural) relevance."
   ]
  },
  {
   "cell_type": "markdown",
   "id": "38abcd78-1be9-4b5d-aa6b-0841493b3626",
   "metadata": {},
   "source": [
    "Next, we look to the future by asking whether these topics are increasing or decreasing over time (2010-2024). Alarmingly, we see that most topics are consistently decreasing, whilst a few are consistently increasing, with interesting implications for both categories."
   ]
  },
  {
   "cell_type": "markdown",
   "id": "d249156c-23d5-4491-99f6-0c52eaba95b7",
   "metadata": {},
   "source": [
    "### Consistency and Trend in Data-centric Topics (2010 - 2024)"
   ]
  },
  {
   "cell_type": "markdown",
   "id": "f4443832-b982-4631-a638-9efdc9a6e920",
   "metadata": {},
   "source": [
    "The most consistently declining topics are ‘data provenance’, ‘responsible data’, ‘data privacy’, ‘data standards’ and ‘data security’. These areas are critical for ensuring safe, ethical, and transparent AI systems, their decline in AI policy discussions signals a potential oversight. Policymakers must start focusing on these areas more, since they relate to mitigation of risks like data breaches or biased AI systems, both of which can have significant social and political repercussions."
   ]
  },
  {
   "cell_type": "code",
   "execution_count": 11,
   "id": "f11175a3-e25e-4346-b9cc-c8dc585ee41d",
   "metadata": {
    "jupyter": {
     "source_hidden": true
    },
    "tags": []
   },
   "outputs": [
    {
     "data": {
      "text/html": [
       "<style type=\"text/css\">\n",
       "#T_18051_row0_col2, #T_18051_row1_col2, #T_18051_row3_col2, #T_18051_row5_col2, #T_18051_row7_col2, #T_18051_row8_col2, #T_18051_row9_col2, #T_18051_row10_col2, #T_18051_row11_col2 {\n",
       "  background-color: lightcoral;\n",
       "}\n",
       "#T_18051_row2_col2, #T_18051_row4_col2, #T_18051_row6_col2 {\n",
       "  background-color: lightgreen;\n",
       "}\n",
       "</style>\n",
       "<table id=\"T_18051_\">\n",
       "  <thead>\n",
       "    <tr>\n",
       "      <th class=\"col_heading level0 col0\" >Keyword</th>\n",
       "      <th class=\"col_heading level0 col1\" >Consistency</th>\n",
       "      <th class=\"col_heading level0 col2\" >Trend</th>\n",
       "    </tr>\n",
       "  </thead>\n",
       "  <tbody>\n",
       "    <tr>\n",
       "      <td id=\"T_18051_row0_col0\" class=\"data row0 col0\" >data provenance</td>\n",
       "      <td id=\"T_18051_row0_col1\" class=\"data row0 col1\" >0.678371</td>\n",
       "      <td id=\"T_18051_row0_col2\" class=\"data row0 col2\" >decreasing</td>\n",
       "    </tr>\n",
       "    <tr>\n",
       "      <td id=\"T_18051_row1_col0\" class=\"data row1 col0\" >responsible data</td>\n",
       "      <td id=\"T_18051_row1_col1\" class=\"data row1 col1\" >0.984958</td>\n",
       "      <td id=\"T_18051_row1_col2\" class=\"data row1 col2\" >decreasing</td>\n",
       "    </tr>\n",
       "    <tr>\n",
       "      <td id=\"T_18051_row2_col0\" class=\"data row2 col0\" >data quality</td>\n",
       "      <td id=\"T_18051_row2_col1\" class=\"data row2 col1\" >1.066357</td>\n",
       "      <td id=\"T_18051_row2_col2\" class=\"data row2 col2\" >increasing</td>\n",
       "    </tr>\n",
       "    <tr>\n",
       "      <td id=\"T_18051_row3_col0\" class=\"data row3 col0\" >data privacy</td>\n",
       "      <td id=\"T_18051_row3_col1\" class=\"data row3 col1\" >1.192401</td>\n",
       "      <td id=\"T_18051_row3_col2\" class=\"data row3 col2\" >decreasing</td>\n",
       "    </tr>\n",
       "    <tr>\n",
       "      <td id=\"T_18051_row4_col0\" class=\"data row4 col0\" >data access</td>\n",
       "      <td id=\"T_18051_row4_col1\" class=\"data row4 col1\" >1.282878</td>\n",
       "      <td id=\"T_18051_row4_col2\" class=\"data row4 col2\" >increasing</td>\n",
       "    </tr>\n",
       "    <tr>\n",
       "      <td id=\"T_18051_row5_col0\" class=\"data row5 col0\" >data standards</td>\n",
       "      <td id=\"T_18051_row5_col1\" class=\"data row5 col1\" >1.361918</td>\n",
       "      <td id=\"T_18051_row5_col2\" class=\"data row5 col2\" >decreasing</td>\n",
       "    </tr>\n",
       "    <tr>\n",
       "      <td id=\"T_18051_row6_col0\" class=\"data row6 col0\" >data sharing</td>\n",
       "      <td id=\"T_18051_row6_col1\" class=\"data row6 col1\" >1.435957</td>\n",
       "      <td id=\"T_18051_row6_col2\" class=\"data row6 col2\" >increasing</td>\n",
       "    </tr>\n",
       "    <tr>\n",
       "      <td id=\"T_18051_row7_col0\" class=\"data row7 col0\" >data security</td>\n",
       "      <td id=\"T_18051_row7_col1\" class=\"data row7 col1\" >1.632472</td>\n",
       "      <td id=\"T_18051_row7_col2\" class=\"data row7 col2\" >decreasing</td>\n",
       "    </tr>\n",
       "    <tr>\n",
       "      <td id=\"T_18051_row8_col0\" class=\"data row8 col0\" >data governance</td>\n",
       "      <td id=\"T_18051_row8_col1\" class=\"data row8 col1\" >1.753847</td>\n",
       "      <td id=\"T_18051_row8_col2\" class=\"data row8 col2\" >decreasing</td>\n",
       "    </tr>\n",
       "    <tr>\n",
       "      <td id=\"T_18051_row9_col0\" class=\"data row9 col0\" >open data</td>\n",
       "      <td id=\"T_18051_row9_col1\" class=\"data row9 col1\" >1.954773</td>\n",
       "      <td id=\"T_18051_row9_col2\" class=\"data row9 col2\" >decreasing</td>\n",
       "    </tr>\n",
       "    <tr>\n",
       "      <td id=\"T_18051_row10_col0\" class=\"data row10 col0\" >data ethics</td>\n",
       "      <td id=\"T_18051_row10_col1\" class=\"data row10 col1\" >1.985031</td>\n",
       "      <td id=\"T_18051_row10_col2\" class=\"data row10 col2\" >decreasing</td>\n",
       "    </tr>\n",
       "    <tr>\n",
       "      <td id=\"T_18051_row11_col0\" class=\"data row11 col0\" >data protection</td>\n",
       "      <td id=\"T_18051_row11_col1\" class=\"data row11 col1\" >2.151503</td>\n",
       "      <td id=\"T_18051_row11_col2\" class=\"data row11 col2\" >decreasing</td>\n",
       "    </tr>\n",
       "  </tbody>\n",
       "</table>\n"
      ],
      "text/plain": [
       "<IPython.core.display.HTML object>"
      ]
     },
     "metadata": {},
     "output_type": "display_data"
    }
   ],
   "source": [
    "display(HTML(filename=os.path.join('static', 'styled_dataframe.html')))"
   ]
  },
  {
   "cell_type": "markdown",
   "id": "ed60f7fe-001f-47e7-a32b-5866082ae432",
   "metadata": {},
   "source": [
    "However, countries worldwide are increasingly mentioning ‘data quality, ‘data access’ and ‘data sharing’ in their national AI policies, with ‘data quality’ being the most consistently increasing topic. Over the least few years we have seen a range of governments calling for access to data for regulatory purposes and so this could support an increasing focus on access to high quality data by these entities. \n",
    "\n",
    "This trend highlights the need for nations to invest in data infrastructure and governance, ensuring that AI systems are built on reliable, accurate, and accessible data. This is reinforced by topics such as ‘data privacy’, ‘data security’ and ‘data provenance’ declining, as this indicates there is a risk that governments will want to facilitate data access with less regard for these essential enabling areas."
   ]
  },
  {
   "cell_type": "markdown",
   "id": "9fe60e0d-d862-4735-9079-88e9094227d4",
   "metadata": {},
   "source": [
    "## Drivers of Data-centric AI in Global Policies\n",
    "\n",
    "**What might be driving these differences?** Using the highly robust ***Network Readiness Index (NRI)***, there is a strong correlation between countries mentioning these topics in national AI policy documents and certain digital readiness indicators. In particular, countries that actively publish and promote the use of open data and invest in government online services are significantly more likely to focus on data-centric AI policies. \n",
    "\n",
    "This suggests that a focus on data in the context of AI often sits within a more general trend of publishing and using data. In turn, this suggests there may be more fundamental prerequisites for focusing on data in domains like AI, such as actively running open data initiatives and a focus on government online services."
   ]
  },
  {
   "cell_type": "markdown",
   "id": "e6281ce5-b2b8-42e3-bac9-dfd5d981aa9a",
   "metadata": {},
   "source": [
    "### Relationship Between Interest in Data and Digital Readiness"
   ]
  },
  {
   "cell_type": "markdown",
   "id": "a838b2b5-c540-4902-b55d-98f87ce5abe7",
   "metadata": {},
   "source": [
    "What might be driving these differences? Using the highly robust **Network Readiness Index (NRI)**, there is a strong correlation between countries mentioning these topics in national AI policy documents and certain digital readiness indicators. In particular, countries that actively publish and promote the use of open data and invest in government online services are significantly more likely to focus on data-centric AI policies. This suggests that a focus on data in the context of AI often sits within a more general trend of publishing and using data. In turn, this suggests there may be more fundamental prerequisites driving this focus on data in domains like AI, such as actively running open data initiatives and recognising the value of digital public infrastructure."
   ]
  },
  {
   "cell_type": "markdown",
   "id": "d4ac4a9c-b78d-4c95-ab90-7305a99f6bb1",
   "metadata": {},
   "source": [
    "### Relationship Between Interest in Data and Digital Readiness"
   ]
  },
  {
   "cell_type": "code",
   "execution_count": 12,
   "id": "b85d4beb-9657-4129-b56e-6cb17a0e0ed9",
   "metadata": {
    "jupyter": {
     "source_hidden": true
    },
    "tags": []
   },
   "outputs": [
    {
     "data": {
      "text/html": [
       "<style type=\"text/css\">\n",
       "#T_9f1d5_ caption {\n",
       "  font-size: 16px;\n",
       "  font-weight: bold;\n",
       "}\n",
       "#T_9f1d5_row0_col0 {\n",
       "  background-color: #b40426;\n",
       "  color: #f1f1f1;\n",
       "}\n",
       "#T_9f1d5_row1_col0 {\n",
       "  background-color: #d55042;\n",
       "  color: #f1f1f1;\n",
       "}\n",
       "#T_9f1d5_row2_col0 {\n",
       "  background-color: #dadce0;\n",
       "  color: #000000;\n",
       "}\n",
       "#T_9f1d5_row3_col0 {\n",
       "  background-color: #c7d7f0;\n",
       "  color: #000000;\n",
       "}\n",
       "#T_9f1d5_row4_col0 {\n",
       "  background-color: #c6d6f1;\n",
       "  color: #000000;\n",
       "}\n",
       "#T_9f1d5_row5_col0 {\n",
       "  background-color: #8db0fe;\n",
       "  color: #000000;\n",
       "}\n",
       "#T_9f1d5_row6_col0 {\n",
       "  background-color: #6180e9;\n",
       "  color: #f1f1f1;\n",
       "}\n",
       "#T_9f1d5_row7_col0 {\n",
       "  background-color: #536edd;\n",
       "  color: #f1f1f1;\n",
       "}\n",
       "#T_9f1d5_row8_col0 {\n",
       "  background-color: #4961d2;\n",
       "  color: #f1f1f1;\n",
       "}\n",
       "#T_9f1d5_row9_col0 {\n",
       "  background-color: #455cce;\n",
       "  color: #f1f1f1;\n",
       "}\n",
       "#T_9f1d5_row10_col0 {\n",
       "  background-color: #3b4cc0;\n",
       "  color: #f1f1f1;\n",
       "}\n",
       "</style>\n",
       "<table id=\"T_9f1d5_\">\n",
       "  <thead>\n",
       "    <tr>\n",
       "      <th class=\"blank level0\" >&nbsp;</th>\n",
       "      <th class=\"col_heading level0 col0\" >Spearman Correlation</th>\n",
       "      <th class=\"col_heading level0 col1\" >Spearman P-value</th>\n",
       "      <th class=\"col_heading level0 col2\" >Sample Size (N)</th>\n",
       "      <th class=\"col_heading level0 col3\" >Interpretation</th>\n",
       "    </tr>\n",
       "  </thead>\n",
       "  <tbody>\n",
       "    <tr>\n",
       "      <th id=\"T_9f1d5_level0_row0\" class=\"row_heading level0 row0\" >Publication And Use Of Open Data</th>\n",
       "      <td id=\"T_9f1d5_row0_col0\" class=\"data row0 col0\" >0.545</td>\n",
       "      <td id=\"T_9f1d5_row0_col1\" class=\"data row0 col1\" >0.0000</td>\n",
       "      <td id=\"T_9f1d5_row0_col2\" class=\"data row0 col2\" >63</td>\n",
       "      <td id=\"T_9f1d5_row0_col3\" class=\"data row0 col3\" >Strong</td>\n",
       "    </tr>\n",
       "    <tr>\n",
       "      <th id=\"T_9f1d5_level0_row1\" class=\"row_heading level0 row1\" >Government Online Services</th>\n",
       "      <td id=\"T_9f1d5_row1_col0\" class=\"data row1 col0\" >0.532</td>\n",
       "      <td id=\"T_9f1d5_row1_col1\" class=\"data row1 col1\" >0.0000</td>\n",
       "      <td id=\"T_9f1d5_row1_col2\" class=\"data row1 col2\" >63</td>\n",
       "      <td id=\"T_9f1d5_row1_col3\" class=\"data row1 col3\" >Strong</td>\n",
       "    </tr>\n",
       "    <tr>\n",
       "      <th id=\"T_9f1d5_level0_row2\" class=\"row_heading level0 row2\" >E-Participation</th>\n",
       "      <td id=\"T_9f1d5_row2_col0\" class=\"data row2 col0\" >0.476</td>\n",
       "      <td id=\"T_9f1d5_row2_col1\" class=\"data row2 col1\" >0.0001</td>\n",
       "      <td id=\"T_9f1d5_row2_col2\" class=\"data row2 col2\" >63</td>\n",
       "      <td id=\"T_9f1d5_row2_col3\" class=\"data row2 col3\" >Moderate</td>\n",
       "    </tr>\n",
       "    <tr>\n",
       "      <th id=\"T_9f1d5_level0_row3\" class=\"row_heading level0 row3\" >Use Of Virtual Social Networks</th>\n",
       "      <td id=\"T_9f1d5_row3_col0\" class=\"data row3 col0\" >0.467</td>\n",
       "      <td id=\"T_9f1d5_row3_col1\" class=\"data row3 col1\" >0.0001</td>\n",
       "      <td id=\"T_9f1d5_row3_col2\" class=\"data row3 col2\" >63</td>\n",
       "      <td id=\"T_9f1d5_row3_col3\" class=\"data row3 col3\" >Moderate</td>\n",
       "    </tr>\n",
       "    <tr>\n",
       "      <th id=\"T_9f1d5_level0_row4\" class=\"row_heading level0 row4\" >Pct Patent Applications</th>\n",
       "      <td id=\"T_9f1d5_row4_col0\" class=\"data row4 col0\" >0.466</td>\n",
       "      <td id=\"T_9f1d5_row4_col1\" class=\"data row4 col1\" >0.0001</td>\n",
       "      <td id=\"T_9f1d5_row4_col2\" class=\"data row4 col2\" >63</td>\n",
       "      <td id=\"T_9f1d5_row4_col3\" class=\"data row4 col3\" >Moderate</td>\n",
       "    </tr>\n",
       "    <tr>\n",
       "      <th id=\"T_9f1d5_level0_row5\" class=\"row_heading level0 row5\" >Regulation Of Emerging Technologies</th>\n",
       "      <td id=\"T_9f1d5_row5_col0\" class=\"data row5 col0\" >0.444</td>\n",
       "      <td id=\"T_9f1d5_row5_col1\" class=\"data row5 col1\" >0.0003</td>\n",
       "      <td id=\"T_9f1d5_row5_col2\" class=\"data row5 col2\" >63</td>\n",
       "      <td id=\"T_9f1d5_row5_col3\" class=\"data row5 col3\" >Moderate</td>\n",
       "    </tr>\n",
       "    <tr>\n",
       "      <th id=\"T_9f1d5_level0_row6\" class=\"row_heading level0 row6\" >Gerd Performed By Business Enterprise</th>\n",
       "      <td id=\"T_9f1d5_row6_col0\" class=\"data row6 col0\" >0.426</td>\n",
       "      <td id=\"T_9f1d5_row6_col1\" class=\"data row6 col1\" >0.0005</td>\n",
       "      <td id=\"T_9f1d5_row6_col2\" class=\"data row6 col2\" >63</td>\n",
       "      <td id=\"T_9f1d5_row6_col3\" class=\"data row6 col3\" >Moderate</td>\n",
       "    </tr>\n",
       "    <tr>\n",
       "      <th id=\"T_9f1d5_level0_row7\" class=\"row_heading level0 row7\" >Investment In Emerging Technologies</th>\n",
       "      <td id=\"T_9f1d5_row7_col0\" class=\"data row7 col0\" >0.420</td>\n",
       "      <td id=\"T_9f1d5_row7_col1\" class=\"data row7 col1\" >0.0006</td>\n",
       "      <td id=\"T_9f1d5_row7_col2\" class=\"data row7 col2\" >63</td>\n",
       "      <td id=\"T_9f1d5_row7_col3\" class=\"data row7 col3\" >Moderate</td>\n",
       "    </tr>\n",
       "    <tr>\n",
       "      <th id=\"T_9f1d5_level0_row8\" class=\"row_heading level0 row8\" >R&D Expenditure By Governments And Higher Education</th>\n",
       "      <td id=\"T_9f1d5_row8_col0\" class=\"data row8 col0\" >0.416</td>\n",
       "      <td id=\"T_9f1d5_row8_col1\" class=\"data row8 col1\" >0.0007</td>\n",
       "      <td id=\"T_9f1d5_row8_col2\" class=\"data row8 col2\" >63</td>\n",
       "      <td id=\"T_9f1d5_row8_col3\" class=\"data row8 col3\" >Moderate</td>\n",
       "    </tr>\n",
       "    <tr>\n",
       "      <th id=\"T_9f1d5_level0_row9\" class=\"row_heading level0 row9\" >Healthy Life Expectancy At Birth</th>\n",
       "      <td id=\"T_9f1d5_row9_col0\" class=\"data row9 col0\" >0.414</td>\n",
       "      <td id=\"T_9f1d5_row9_col1\" class=\"data row9 col1\" >0.0007</td>\n",
       "      <td id=\"T_9f1d5_row9_col2\" class=\"data row9 col2\" >63</td>\n",
       "      <td id=\"T_9f1d5_row9_col3\" class=\"data row9 col3\" >Moderate</td>\n",
       "    </tr>\n",
       "    <tr>\n",
       "      <th id=\"T_9f1d5_level0_row10\" class=\"row_heading level0 row10\" >Availability Of Local Online Content</th>\n",
       "      <td id=\"T_9f1d5_row10_col0\" class=\"data row10 col0\" >0.409</td>\n",
       "      <td id=\"T_9f1d5_row10_col1\" class=\"data row10 col1\" >0.0009</td>\n",
       "      <td id=\"T_9f1d5_row10_col2\" class=\"data row10 col2\" >63</td>\n",
       "      <td id=\"T_9f1d5_row10_col3\" class=\"data row10 col3\" >Moderate</td>\n",
       "    </tr>\n",
       "  </tbody>\n",
       "</table>\n"
      ],
      "text/plain": [
       "<IPython.core.display.HTML object>"
      ]
     },
     "metadata": {},
     "output_type": "display_data"
    }
   ],
   "source": [
    "display(HTML(filename=os.path.join('static', 'spearman_correlation_results.html')))"
   ]
  },
  {
   "cell_type": "markdown",
   "id": "9487b067-fc39-4710-bad1-55149c19d444",
   "metadata": {},
   "source": [
    "Given we are looking at trends globally, we used the **KOF Globalisation Index (KOFGI)** to see whether different forms of globalisation made a difference. Unsurprisingly, “informational globalisation” is by far the highest correlated to a focus on data-related topics."
   ]
  },
  {
   "cell_type": "markdown",
   "id": "ff16033e-21ae-47f2-aa78-80d12d1dcc38",
   "metadata": {},
   "source": [
    "### Relationship Between Interest in Data and Forms of Globalisation"
   ]
  },
  {
   "cell_type": "code",
   "execution_count": 13,
   "id": "ca7ce370-63c8-4883-9f14-71d837f69de0",
   "metadata": {
    "jupyter": {
     "source_hidden": true
    },
    "tags": []
   },
   "outputs": [
    {
     "data": {
      "text/html": [
       "<style type=\"text/css\">\n",
       "#T_354b7_ caption {\n",
       "  font-size: 16px;\n",
       "  font-weight: bold;\n",
       "}\n",
       "#T_354b7_row0_col0 {\n",
       "  background-color: #b40426;\n",
       "  color: #f1f1f1;\n",
       "}\n",
       "#T_354b7_row1_col0 {\n",
       "  background-color: #cedaeb;\n",
       "  color: #000000;\n",
       "}\n",
       "#T_354b7_row2_col0 {\n",
       "  background-color: #85a8fc;\n",
       "  color: #f1f1f1;\n",
       "}\n",
       "#T_354b7_row3_col0 {\n",
       "  background-color: #82a6fb;\n",
       "  color: #f1f1f1;\n",
       "}\n",
       "#T_354b7_row4_col0 {\n",
       "  background-color: #80a3fa;\n",
       "  color: #f1f1f1;\n",
       "}\n",
       "#T_354b7_row5_col0 {\n",
       "  background-color: #3b4cc0;\n",
       "  color: #f1f1f1;\n",
       "}\n",
       "</style>\n",
       "<table id=\"T_354b7_\">\n",
       "  <thead>\n",
       "    <tr>\n",
       "      <th class=\"blank level0\" >&nbsp;</th>\n",
       "      <th class=\"col_heading level0 col0\" >Spearman Correlation</th>\n",
       "      <th class=\"col_heading level0 col1\" >Spearman P-value</th>\n",
       "      <th class=\"col_heading level0 col2\" >Sample Size (N)</th>\n",
       "      <th class=\"col_heading level0 col3\" >Interpretation</th>\n",
       "    </tr>\n",
       "  </thead>\n",
       "  <tbody>\n",
       "    <tr>\n",
       "      <th id=\"T_354b7_level0_row0\" class=\"row_heading level0 row0\" >Informational Globalisation, de facto</th>\n",
       "      <td id=\"T_354b7_row0_col0\" class=\"data row0 col0\" >0.515</td>\n",
       "      <td id=\"T_354b7_row0_col1\" class=\"data row0 col1\" >0.0000</td>\n",
       "      <td id=\"T_354b7_row0_col2\" class=\"data row0 col2\" >64</td>\n",
       "      <td id=\"T_354b7_row0_col3\" class=\"data row0 col3\" >Strong</td>\n",
       "    </tr>\n",
       "    <tr>\n",
       "      <th id=\"T_354b7_level0_row1\" class=\"row_heading level0 row1\" >Cultural Globalisation, de facto</th>\n",
       "      <td id=\"T_354b7_row1_col0\" class=\"data row1 col0\" >0.373</td>\n",
       "      <td id=\"T_354b7_row1_col1\" class=\"data row1 col1\" >0.0024</td>\n",
       "      <td id=\"T_354b7_row1_col2\" class=\"data row1 col2\" >64</td>\n",
       "      <td id=\"T_354b7_row1_col3\" class=\"data row1 col3\" >Moderate</td>\n",
       "    </tr>\n",
       "    <tr>\n",
       "      <th id=\"T_354b7_level0_row2\" class=\"row_heading level0 row2\" >Cultural Globalisation, de jure</th>\n",
       "      <td id=\"T_354b7_row2_col0\" class=\"data row2 col0\" >0.318</td>\n",
       "      <td id=\"T_354b7_row2_col1\" class=\"data row2 col1\" >0.0106</td>\n",
       "      <td id=\"T_354b7_row2_col2\" class=\"data row2 col2\" >64</td>\n",
       "      <td id=\"T_354b7_row2_col3\" class=\"data row2 col3\" >Moderate</td>\n",
       "    </tr>\n",
       "    <tr>\n",
       "      <th id=\"T_354b7_level0_row3\" class=\"row_heading level0 row3\" >Political Globalisation, de facto</th>\n",
       "      <td id=\"T_354b7_row3_col0\" class=\"data row3 col0\" >0.315</td>\n",
       "      <td id=\"T_354b7_row3_col1\" class=\"data row3 col1\" >0.0113</td>\n",
       "      <td id=\"T_354b7_row3_col2\" class=\"data row3 col2\" >64</td>\n",
       "      <td id=\"T_354b7_row3_col3\" class=\"data row3 col3\" >Moderate</td>\n",
       "    </tr>\n",
       "    <tr>\n",
       "      <th id=\"T_354b7_level0_row4\" class=\"row_heading level0 row4\" >Financial Globalisation, de jure</th>\n",
       "      <td id=\"T_354b7_row4_col0\" class=\"data row4 col0\" >0.313</td>\n",
       "      <td id=\"T_354b7_row4_col1\" class=\"data row4 col1\" >0.0117</td>\n",
       "      <td id=\"T_354b7_row4_col2\" class=\"data row4 col2\" >64</td>\n",
       "      <td id=\"T_354b7_row4_col3\" class=\"data row4 col3\" >Moderate</td>\n",
       "    </tr>\n",
       "    <tr>\n",
       "      <th id=\"T_354b7_level0_row5\" class=\"row_heading level0 row5\" >Informational Globalisation, de jure</th>\n",
       "      <td id=\"T_354b7_row5_col0\" class=\"data row5 col0\" >0.259</td>\n",
       "      <td id=\"T_354b7_row5_col1\" class=\"data row5 col1\" >0.0390</td>\n",
       "      <td id=\"T_354b7_row5_col2\" class=\"data row5 col2\" >64</td>\n",
       "      <td id=\"T_354b7_row5_col3\" class=\"data row5 col3\" >Weak</td>\n",
       "    </tr>\n",
       "  </tbody>\n",
       "</table>\n"
      ],
      "text/plain": [
       "<IPython.core.display.HTML object>"
      ]
     },
     "metadata": {},
     "output_type": "display_data"
    }
   ],
   "source": [
    "display(HTML(filename=os.path.join('static', 'spearman_correlation_results2.html')))"
   ]
  },
  {
   "cell_type": "code",
   "execution_count": 14,
   "id": "6cbd2a76-4e0e-45f9-9b1d-1f92761eddb1",
   "metadata": {
    "jupyter": {
     "source_hidden": true
    },
    "tags": []
   },
   "outputs": [
    {
     "data": {
      "text/html": [
       "<style type=\"text/css\">\n",
       "#T_32a80_row0_col0 {\n",
       "  background-color: #b40426;\n",
       "  color: #f1f1f1;\n",
       "}\n",
       "#T_32a80_row1_col0 {\n",
       "  background-color: #f7a98b;\n",
       "  color: #000000;\n",
       "}\n",
       "#T_32a80_row2_col0 {\n",
       "  background-color: #3b4cc0;\n",
       "  color: #f1f1f1;\n",
       "}\n",
       "</style>\n",
       "<table id=\"T_32a80_\">\n",
       "  <thead>\n",
       "    <tr>\n",
       "      <th class=\"blank level0\" >&nbsp;</th>\n",
       "      <th class=\"col_heading level0 col0\" >Spearman Correlation</th>\n",
       "      <th class=\"col_heading level0 col1\" >Spearman P-value</th>\n",
       "      <th class=\"col_heading level0 col2\" >Sample Size (N)</th>\n",
       "      <th class=\"col_heading level0 col3\" >Interpretation</th>\n",
       "    </tr>\n",
       "  </thead>\n",
       "  <tbody>\n",
       "    <tr>\n",
       "      <th id=\"T_32a80_level0_row0\" class=\"row_heading level0 row0\" >Patent applications, nonresidents</th>\n",
       "      <td id=\"T_32a80_row0_col0\" class=\"data row0 col0\" >0.451</td>\n",
       "      <td id=\"T_32a80_row0_col1\" class=\"data row0 col1\" >0.0002</td>\n",
       "      <td id=\"T_32a80_row0_col2\" class=\"data row0 col2\" >64</td>\n",
       "      <td id=\"T_32a80_row0_col3\" class=\"data row0 col3\" >Moderate</td>\n",
       "    </tr>\n",
       "    <tr>\n",
       "      <th id=\"T_32a80_level0_row1\" class=\"row_heading level0 row1\" >High-technology exports (current US$)</th>\n",
       "      <td id=\"T_32a80_row1_col0\" class=\"data row1 col0\" >0.401</td>\n",
       "      <td id=\"T_32a80_row1_col1\" class=\"data row1 col1\" >0.0010</td>\n",
       "      <td id=\"T_32a80_row1_col2\" class=\"data row1 col2\" >64</td>\n",
       "      <td id=\"T_32a80_row1_col3\" class=\"data row1 col3\" >Moderate</td>\n",
       "    </tr>\n",
       "    <tr>\n",
       "      <th id=\"T_32a80_level0_row2\" class=\"row_heading level0 row2\" >Bandwidth, % of pop</th>\n",
       "      <td id=\"T_32a80_row2_col0\" class=\"data row2 col0\" >0.281</td>\n",
       "      <td id=\"T_32a80_row2_col1\" class=\"data row2 col1\" >0.0246</td>\n",
       "      <td id=\"T_32a80_row2_col2\" class=\"data row2 col2\" >64</td>\n",
       "      <td id=\"T_32a80_row2_col3\" class=\"data row2 col3\" >Weak</td>\n",
       "    </tr>\n",
       "  </tbody>\n",
       "</table>\n"
      ],
      "text/plain": [
       "<IPython.core.display.HTML object>"
      ]
     },
     "metadata": {},
     "output_type": "display_data"
    }
   ],
   "source": [
    "display(HTML(filename=os.path.join('static', 'spearman_correlation_results3.html')))"
   ]
  },
  {
   "cell_type": "markdown",
   "id": "e9c01e7a-6b52-4c75-8543-f874c61ca67a",
   "metadata": {},
   "source": [
    "The informational globalisation category is measured in terms of “patent applications, nonresidents”, “high-technology exports” and “internet bandwidth”. Agreeing with some of the highest digital readiness indicators from the NRI, the former two are the most strongly correlated with a focus on data-centric AI topics. This supports that a strong, open innovation ecosystem is also important to (or a driver of) focus on data-centric AI topics."
   ]
  }
 ],
 "metadata": {
  "kernelspec": {
   "display_name": "Python 3 (ipykernel)",
   "language": "python",
   "name": "python3"
  },
  "language_info": {
   "codemirror_mode": {
    "name": "ipython",
    "version": 3
   },
   "file_extension": ".py",
   "mimetype": "text/x-python",
   "name": "python",
   "nbconvert_exporter": "python",
   "pygments_lexer": "ipython3",
   "version": "3.9.7"
  }
 },
 "nbformat": 4,
 "nbformat_minor": 5
}
